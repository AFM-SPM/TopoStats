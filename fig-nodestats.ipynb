{
 "cells": [
  {
   "cell_type": "code",
   "execution_count": 4,
   "id": "814996a3",
   "metadata": {},
   "outputs": [],
   "source": [
    "from pathlib import Path\n",
    "import numpy as np\n",
    "import h5py\n",
    "import matplotlib.pyplot as plt\n",
    "from topostats.io import LoadScans"
   ]
  },
  {
   "cell_type": "code",
   "execution_count": 20,
   "id": "0353dcac",
   "metadata": {},
   "outputs": [
    {
     "name": "stdout",
     "output_type": "stream",
     "text": [
      "[Fri, 12 Sep 2025 12:14:30] [INFO    ] [topostats] Extracting image from /Users/sylvi/topo_data/topostats_2/datasets/20250528_RA_dose_0GY_picoz/output_fig_nodestats/processed/20250528_picoz_0RA_tip_0.0_00019.topostats\n"
     ]
    },
    {
     "name": "stderr",
     "output_type": "stream",
     "text": [
      "\u001b[34m12:14:30\u001b[0m | \u001b[1mINFO\u001b[0m |\u001b[35mtopostats.py\u001b[0m:\u001b[35mtopostats\u001b[0m:\u001b[35mload_topostats\u001b[0m:\u001b[35m38\u001b[0m | \u001b[1mLoading image from : /Users/sylvi/topo_data/topostats_2/datasets/20250528_RA_dose_0GY_picoz/output_fig_nodestats/processed/20250528_picoz_0RA_tip_0.0_00019.topostats\u001b[0m\n",
      "\u001b[34m12:14:30\u001b[0m | \u001b[1mINFO\u001b[0m |\u001b[35mtopostats.py\u001b[0m:\u001b[35mtopostats\u001b[0m:\u001b[35mload_topostats\u001b[0m:\u001b[35m47\u001b[0m | \u001b[1m[20250528_picoz_0RA_tip_0.0_00019] TopoStats file version : 2.3\u001b[0m\n",
      "\u001b[34m12:14:30\u001b[0m | \u001b[1mINFO\u001b[0m |\u001b[35mtopostats.py\u001b[0m:\u001b[35mtopostats\u001b[0m:\u001b[35mload_topostats\u001b[0m:\u001b[35m54\u001b[0m | \u001b[1m[20250528_picoz_0RA_tip_0.0_00019] : Extracted .topostats dictionary.\u001b[0m\n"
     ]
    },
    {
     "name": "stdout",
     "output_type": "stream",
     "text": [
      "dict_keys(['disordered_traces', 'filename', 'grain_curvature_stats', 'grain_tensors', 'height_profiles', 'image', 'image_original', 'img_path', 'nodestats', 'ordered_traces', 'pixel_to_nm_scaling', 'splining', 'topostats_file_version'])\n",
      "Value(False)\n",
      "dict_keys(['images', 'stats'])\n"
     ]
    }
   ],
   "source": [
    "base_dir = Path(\"/Users/sylvi/topo_data/topostats_2/datasets/20250528_RA_dose_0GY_picoz\")\n",
    "data_dir = base_dir / \"output_fig_nodestats\"\n",
    "assert data_dir.exists()\n",
    "\n",
    "image_filename = \"20250528_picoz_0RA_tip_0.0_00019\"\n",
    "\n",
    "image_topostats_file_path = data_dir / \"processed\" / (f\"{image_filename}.topostats\")\n",
    "assert image_topostats_file_path.exists()\n",
    "\n",
    "loadscans = LoadScans(img_paths=[image_topostats_file_path], channel=\"dummy\")\n",
    "loadscans.get_data()\n",
    "loadscans_dict = loadscans.img_dict\n",
    "\n",
    "image_dict = loadscans_dict[image_filename]\n",
    "print(image_dict.keys())\n",
    "image_nodestats = image_dict[\"nodestats\"][\"above\"]\n",
    "print(image_nodestats.keys())"
   ]
  }
 ],
 "metadata": {
  "kernelspec": {
   "display_name": "topo2paper",
   "language": "python",
   "name": "python3"
  },
  "language_info": {
   "codemirror_mode": {
    "name": "ipython",
    "version": 3
   },
   "file_extension": ".py",
   "mimetype": "text/x-python",
   "name": "python",
   "nbconvert_exporter": "python",
   "pygments_lexer": "ipython3",
   "version": "3.11.9"
  }
 },
 "nbformat": 4,
 "nbformat_minor": 5
}
