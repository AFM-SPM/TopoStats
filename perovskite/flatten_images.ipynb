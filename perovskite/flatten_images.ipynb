{
 "cells": [
  {
   "cell_type": "code",
   "execution_count": null,
   "metadata": {},
   "outputs": [],
   "source": [
    "import numpy as np\n",
    "import matplotlib.pyplot as plt\n",
    "from pathlib import Path\n",
    "from topostats.io import LoadScans\n",
    "\n",
    "import perovskite_flattening as perov_flatten\n",
    "\n",
    "from scipy.signal import convolve2d"
   ]
  },
  {
   "cell_type": "code",
   "execution_count": null,
   "metadata": {},
   "outputs": [],
   "source": [
    "# Set data directory\n",
    "# DATA_DIR = Path(\"/Users/sylvi/topo_data/perovskite/perovskite_images/Me/\")\n",
    "DATA_DIR = Path(\"/Users/sylvi/topo_data/perovstats_paper/raw_data/\")\n",
    "FILE_EXT = \".spm\"\n",
    "\n",
    "files = list(DATA_DIR.glob(f\"*{FILE_EXT}\"))\n",
    "files.sort()\n",
    "for file in files:\n",
    "    print(file)\n",
    "\n",
    "# directory_contents = DATA_DIR.iterdir()\n",
    "# for item in directory_contents:\n",
    "#     print(item)"
   ]
  },
  {
   "cell_type": "code",
   "execution_count": null,
   "metadata": {},
   "outputs": [],
   "source": [
    "for file in files:\n",
    "    print(file.stem)\n",
    "\n",
    "    loadscans = LoadScans([file], channel=\"Height\")\n",
    "    loadscans.get_data()\n",
    "\n",
    "    img_dict = loadscans.img_dict\n",
    "    image = img_dict[file.stem][\"image_original\"]\n",
    "\n",
    "    # Set the 99th percentile as the maximum value, to remove outliers\n",
    "    image[image > np.percentile(image, 99)] = np.percentile(image, 99)\n",
    "    # Set the 1st percentile as the minimum value, to remove outliers\n",
    "    image[image < np.percentile(image, 1)] = np.percentile(image, 1)\n",
    "\n",
    "    plt.hist(image.flatten(), bins=1000)\n",
    "    plt.show()\n",
    "\n",
    "    plt.imshow(image, cmap=\"viridis\")\n",
    "    plt.show()\n",
    "\n",
    "    plt.imsave(DATA_DIR / f\"{file.stem}.png\", image, cmap=\"viridis\")"
   ]
  },
  {
   "cell_type": "code",
   "execution_count": null,
   "metadata": {},
   "outputs": [],
   "source": [
    "# Load standard height data from images\n",
    "loadscans = LoadScans(files, channel=\"Height Sensor\")\n",
    "loadscans.get_data()\n",
    "\n",
    "img_dict = loadscans.img_dict\n",
    "\n",
    "for filename, data in img_dict.items():\n",
    "    print(filename)\n",
    "\n",
    "    image = data[\"image_original\"]\n",
    "\n",
    "    plt.imshow(image)\n",
    "    plt.show()\n",
    "\n",
    "    # Apply an edge finding convolution filter\n",
    "\n",
    "    # Create an edge finding kernel\n",
    "    kernel = np.array([[-1, -1, -1], [-1, 8, -1], [-1, -1, -1]])\n",
    "\n",
    "    edges = convolve2d(image, kernel, mode=\"same\")\n",
    "\n",
    "    # print(f\"min: {np.min(edges)} max: {np.max(edges)}\")\n",
    "    # # Plot histogram of the edge values\n",
    "    # plt.hist(edges.flatten(), bins=1000)\n",
    "    # plt.show()\n",
    "\n",
    "    # Limit the range of the edge values to the 99th percentile\n",
    "    edges[edges > np.percentile(edges, 99)] = np.percentile(edges, 99)\n",
    "    # Limit the range of the edge values to the 1st percentile\n",
    "    edges[edges < np.percentile(edges, 1)] = np.percentile(edges, 1)\n",
    "\n",
    "    plt.imshow(edges, cmap=\"viridis\")\n",
    "    plt.show()\n",
    "\n",
    "    plt.imsave(DATA_DIR / f\"convolution_{filename}.png\", edges, cmap=\"viridis\")"
   ]
  },
  {
   "cell_type": "code",
   "execution_count": null,
   "metadata": {},
   "outputs": [],
   "source": [
    "loadscans = LoadScans(files, channel=\"Height\")\n",
    "loadscans.get_data()\n",
    "\n",
    "file_dict = loadscans.img_dict\n",
    "for file, data in file_dict.items():\n",
    "    img = data[\"image_original\"]\n",
    "    plt.imshow(img)\n",
    "    plt.show()"
   ]
  },
  {
   "cell_type": "code",
   "execution_count": null,
   "metadata": {},
   "outputs": [],
   "source": [
    "# Try out colourmaps\n",
    "\n",
    "file = Path(\"/Users/sylvi/topo_data/perovskite/perovskite_images/Me/20230207_Me4_NPs_perov_5um.0_00006.spm\")\n",
    "\n",
    "loadscans = LoadScans([file], \"Height Sensor\")\n",
    "loadscans.get_data()\n",
    "image = loadscans.image\n",
    "px_to_nm_scaling = loadscans.pixel_to_nm_scaling\n",
    "\n",
    "# Flatten\n",
    "flattened = perov_flatten.flatten_image(image=image, order=3, plot_steps=False)\n",
    "\n",
    "for cmap in [\n",
    "    \"viridis\",\n",
    "    \"magma\",\n",
    "    \"plasma\",\n",
    "    \"inferno\",\n",
    "    \"turbo\",\n",
    "    \"cividis\",\n",
    "    \"afmhot\",\n",
    "    \"PiYG\",\n",
    "    \"BrBG\",\n",
    "    \"coolwarm\",\n",
    "    \"hsv\",\n",
    "    \"twilight\",\n",
    "    \"twilight_shifted\",\n",
    "    \"flag\",\n",
    "    \"prism\",\n",
    "    \"gist_ncar\",\n",
    "    \"terrain\",\n",
    "]:\n",
    "    fig, ax = plt.subplots(figsize=(8, 8))\n",
    "    ax.imshow(flattened, cmap=cmap)\n",
    "    ax.set_title(cmap)\n",
    "    plt.show()"
   ]
  },
  {
   "cell_type": "code",
   "execution_count": null,
   "metadata": {},
   "outputs": [],
   "source": [
    "# Find all files of the specified file type\n",
    "files = DATA_DIR.glob(f\"*{FILE_EXT}\")\n",
    "\n",
    "for file in files:\n",
    "    print(file)\n",
    "    loadscans = LoadScans([file], \"Height Sensor\")\n",
    "    loadscans.get_data()\n",
    "    image = loadscans.image\n",
    "    px_to_nm_scaling = loadscans.pixel_to_nm_scaling\n",
    "    # Plot initial image\n",
    "    # fig, ax = plt.subplots(figsize=(8, 8))\n",
    "    # ax.imshow(image)\n",
    "    # fig.savefig(str(file) + \".png\")\n",
    "    # plt.show()\n",
    "    # Flatten\n",
    "    flattened = perov_flatten.flatten_image(image=image, order=3, plot_steps=False)\n",
    "    # fig, ax = plt.subplots(figsize=(8, 8))\n",
    "    # ax.imshow(flattened)\n",
    "\n",
    "    # # Save figure with axes\n",
    "    # fig.savefig(str(file) + \"_image.png\")\n",
    "    # plt.show()\n",
    "\n",
    "    plt.imsave(str(file) + \"_image.png\", flattened, cmap=\"viridis\")\n",
    "    np.save(str(file) + \"_image.npy\", flattened)"
   ]
  },
  {
   "cell_type": "code",
   "execution_count": null,
   "metadata": {},
   "outputs": [],
   "source": []
  }
 ],
 "metadata": {
  "kernelspec": {
   "display_name": "base",
   "language": "python",
   "name": "python3"
  },
  "language_info": {
   "codemirror_mode": {
    "name": "ipython",
    "version": 3
   },
   "file_extension": ".py",
   "mimetype": "text/x-python",
   "name": "python",
   "nbconvert_exporter": "python",
   "pygments_lexer": "ipython3",
   "version": "3.9.16"
  },
  "vscode": {
   "interpreter": {
    "hash": "c6e4e9f98eb68ad3b7c296f83d20e6de614cb42e90992a65aa266555a3137d0d"
   }
  }
 },
 "nbformat": 4,
 "nbformat_minor": 2
}
