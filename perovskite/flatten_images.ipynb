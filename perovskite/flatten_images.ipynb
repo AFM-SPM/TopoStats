{
 "cells": [
  {
   "cell_type": "code",
   "execution_count": null,
   "metadata": {},
   "outputs": [],
   "source": [
    "import numpy as np\n",
    "import matplotlib.pyplot as plt\n",
    "from pathlib import Path\n",
    "from topostats.io import LoadScans\n",
    "\n",
    "import perovskite_flattening as perov_flatten"
   ]
  },
  {
   "cell_type": "code",
   "execution_count": null,
   "metadata": {},
   "outputs": [],
   "source": [
    "# Set data directory\n",
    "DATA_DIR = Path(\"/Users/sylvi/topo_data/perovskite/perovskite_images/Me/\")\n",
    "directory_contents = DATA_DIR.iterdir()\n",
    "for item in directory_contents:\n",
    "    print(item)\n",
    "FILE_EXT = \".spm\""
   ]
  },
  {
   "cell_type": "code",
   "execution_count": null,
   "metadata": {},
   "outputs": [],
   "source": [
    "# Try out colourmaps\n",
    "\n",
    "file = Path(\"/Users/sylvi/topo_data/perovskite/perovskite_images/Me/20230207_Me4_NPs_perov_5um.0_00006.spm\")\n",
    "\n",
    "loadscans = LoadScans([file], \"Height Sensor\")\n",
    "loadscans.get_data()\n",
    "image = loadscans.image\n",
    "px_to_nm_scaling = loadscans.pixel_to_nm_scaling\n",
    "\n",
    "# Flatten\n",
    "flattened = perov_flatten.flatten_image(image=image, order=3, plot_steps=False)\n",
    "\n",
    "for cmap in [\n",
    "    \"viridis\",\n",
    "    \"magma\",\n",
    "    \"plasma\",\n",
    "    \"inferno\",\n",
    "    \"turbo\",\n",
    "    \"cividis\",\n",
    "    \"afmhot\",\n",
    "    \"PiYG\",\n",
    "    \"BrBG\",\n",
    "    \"coolwarm\",\n",
    "    \"hsv\",\n",
    "    \"twilight\",\n",
    "    \"twilight_shifted\",\n",
    "    \"flag\",\n",
    "    \"prism\",\n",
    "    \"gist_ncar\",\n",
    "    \"terrain\",\n",
    "]:\n",
    "    fig, ax = plt.subplots(figsize=(8, 8))\n",
    "    ax.imshow(flattened, cmap=cmap)\n",
    "    ax.set_title(cmap)\n",
    "    plt.show()"
   ]
  },
  {
   "cell_type": "code",
   "execution_count": null,
   "metadata": {},
   "outputs": [],
   "source": [
    "# Find all files of the specified file type\n",
    "files = DATA_DIR.glob(f\"*{FILE_EXT}\")\n",
    "\n",
    "for file in files:\n",
    "    print(file)\n",
    "    loadscans = LoadScans([file], \"Height Sensor\")\n",
    "    loadscans.get_data()\n",
    "    image = loadscans.image\n",
    "    px_to_nm_scaling = loadscans.pixel_to_nm_scaling\n",
    "    # Plot initial image\n",
    "    fig, ax = plt.subplots(figsize=(8, 8))\n",
    "    ax.imshow(image)\n",
    "    fig.savefig(str(file) + \".png\")\n",
    "    plt.show()\n",
    "    # Flatten\n",
    "    flattened = perov_flatten.flatten_image(image=image, order=3, plot_steps=True)\n",
    "    fig, ax = plt.subplots(figsize=(8, 8))\n",
    "    ax.imshow(flattened)\n",
    "\n",
    "    # Save figure with axes\n",
    "    fig.savefig(str(file) + \"_flattened.png\")\n",
    "    plt.show()\n",
    "\n",
    "    plt.imsave(str(file) + \"_training.png\", flattened, cmap=\"turbo\")"
   ]
  },
  {
   "cell_type": "code",
   "execution_count": null,
   "metadata": {},
   "outputs": [],
   "source": []
  }
 ],
 "metadata": {
  "kernelspec": {
   "display_name": "base",
   "language": "python",
   "name": "python3"
  },
  "language_info": {
   "codemirror_mode": {
    "name": "ipython",
    "version": 3
   },
   "file_extension": ".py",
   "mimetype": "text/x-python",
   "name": "python",
   "nbconvert_exporter": "python",
   "pygments_lexer": "ipython3",
   "version": "3.9.16"
  },
  "vscode": {
   "interpreter": {
    "hash": "c6e4e9f98eb68ad3b7c296f83d20e6de614cb42e90992a65aa266555a3137d0d"
   }
  }
 },
 "nbformat": 4,
 "nbformat_minor": 2
}
