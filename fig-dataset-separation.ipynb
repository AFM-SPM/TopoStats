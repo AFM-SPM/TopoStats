{
 "cells": [
  {
   "cell_type": "code",
   "execution_count": null,
   "id": "c46b419d",
   "metadata": {},
   "outputs": [],
   "source": [
    "from pathlib import Path\n",
    "import numpy as np\n",
    "import matplotlib.pyplot as plt\n",
    "import seaborn as sns\n",
    "import pandas as pd"
   ]
  },
  {
   "cell_type": "code",
   "execution_count": null,
   "id": "83088495",
   "metadata": {},
   "outputs": [],
   "source": [
    "base_dir = Path(\"/Users/sylvi/topo_data/topostats_2/datasets/picoz-nicked-sc\")\n",
    "assert base_dir.exists()\n",
    "output_dir = base_dir / \"output_std_10\"\n",
    "assert output_dir.exists()\n",
    "\n",
    "df_allstats = pd.read_csv(output_dir / \"all_statistics.csv\")\n",
    "\n",
    "\n",
    "def calculate_num_char_in_string(input_string: str, character: str) -> int:\n",
    "    \"\"\"Calculate the number of occurrences of a specific character in a string.\"\"\"\n",
    "    # check if nan\n",
    "    if pd.isna(input_string):\n",
    "        return 0\n",
    "    return input_string.count(character)\n",
    "\n",
    "def remove_datapoints_outside_n_std(df: pd.DataFrame, column: str, n_std: float) -> pd.DataFrame:\n",
    "    \"\"\"Remove datapoints outside n standard deviations from the mean.\"\"\"\n",
    "    mean = df[column].mean()\n",
    "    std = df[column].std()\n",
    "    lower_bound = mean - n_std * std\n",
    "    upper_bound = mean + n_std * std\n",
    "    df_filtered = df[(df[column] >= lower_bound) & (df[column] <= upper_bound)]\n",
    "    return df_filtered\n",
    "\n",
    "\n",
    "df_allstats[\"num_plusses\"] = df_allstats[\"writhe_string\"].apply(calculate_num_char_in_string, character=\"+\")\n",
    "df_allstats[\"num_minuses\"] = df_allstats[\"writhe_string\"].apply(calculate_num_char_in_string, character=\"-\")\n",
    "df_allstats[\"num_plusses_or_minuses\"] = df_allstats[\"num_plusses\"] + df_allstats[\"num_minuses\"]\n",
    "\n",
    "print(df_allstats.columns)"
   ]
  },
  {
   "cell_type": "code",
   "execution_count": null,
   "id": "8e0b43f1",
   "metadata": {},
   "outputs": [],
   "source": [
    "# sns.stripplot(data=remove_datapoints_outside_n_std(df_allstats, \"num_plusses_or_minuses\", 3), x=\"basename\", y=\"num_plusses_or_minuses\", jitter=True)\n",
    "# with increased smoothing\n",
    "sns.violinplot(data=remove_datapoints_outside_n_std(df_allstats, \"num_plusses_or_minuses\", 3), x=\"basename\", y=\"num_plusses_or_minuses\")\n",
    "plt.xticks(ticks=[0, 1], labels=[\"PicoZ Supercoiled\", \"PicoZ Nicked\"])\n",
    "plt.ylabel(\"Number of crossings\")\n",
    "plt.show()\n",
    "sns.histplot(data=remove_datapoints_outside_n_std(df_allstats, \"num_plusses_or_minuses\", 3), x=\"basename\", hue=\"num_plusses_or_minuses\", multiple=\"dodge\", shrink=0.8)\n",
    "# rename the xlabels to be more descriptive\n",
    "plt.xticks(ticks=[0, 1], labels=[\"PicoZ Supercoiled\", \"PicoZ Nicked\"])\n",
    "plt.ylabel(\"Number of crossings\")\n",
    "plt.show()\n",
    "\n",
    "sns.violinplot(data=remove_datapoints_outside_n_std(df_allstats, \"smallest_bounding_area\", 3), x=\"basename\", y=\"smallest_bounding_area\")\n",
    "plt.show()"
   ]
  }
 ],
 "metadata": {
  "kernelspec": {
   "display_name": "topo2paper",
   "language": "python",
   "name": "python3"
  },
  "language_info": {
   "codemirror_mode": {
    "name": "ipython",
    "version": 3
   },
   "file_extension": ".py",
   "mimetype": "text/x-python",
   "name": "python",
   "nbconvert_exporter": "python",
   "pygments_lexer": "ipython3",
   "version": "3.11.9"
  }
 },
 "nbformat": 4,
 "nbformat_minor": 5
}
