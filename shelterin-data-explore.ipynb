{
 "cells": [
  {
   "cell_type": "code",
   "execution_count": null,
   "metadata": {},
   "outputs": [],
   "source": [
    "from pathlib import Path\n",
    "\n",
    "import numpy as np\n",
    "import pandas as pd\n",
    "import matplotlib.pyplot as plt\n",
    "import seaborn as sns"
   ]
  },
  {
   "cell_type": "code",
   "execution_count": null,
   "metadata": {},
   "outputs": [],
   "source": [
    "base_dir = Path(\"/Users/sylvi/topo_data/shelterin/\")\n",
    "assert base_dir.exists()\n",
    "\n",
    "all_stats_file = base_dir / \"all_statistics.csv\"\n",
    "assert all_stats_file.exists()\n",
    "all_stats = pd.read_csv(all_stats_file)\n",
    "\n",
    "print(all_stats.columns)"
   ]
  },
  {
   "cell_type": "markdown",
   "metadata": {},
   "source": [
    "## protein volume TEL80 & TEL80+S"
   ]
  },
  {
   "cell_type": "code",
   "execution_count": null,
   "metadata": {},
   "outputs": [],
   "source": [
    "# Grab TEL80 data (Control_TEL80 OR Shelterin_TEL80)\n",
    "data_volume_tel80_s = all_stats[all_stats[\"category\"] == \"Shelterin_TEL80\"]\n",
    "data_volume_tel80_c = all_stats[all_stats[\"category\"] == \"Control_TEL80\"]\n",
    "\n",
    "# grab the proteins as the rows with class_number == 2 and grab volumes\n",
    "data_volume_tel80_s = data_volume_tel80_s[all_stats[\"class_number\"] == 2]\n",
    "data_volume_tel80_c = data_volume_tel80_c[all_stats[\"class_number\"] == 2]\n",
    "\n",
    "data_volume_tel80_s = data_volume_tel80_s[\"volume\"]\n",
    "data_volume_tel80_c = data_volume_tel80_c[\"volume\"]\n",
    "\n",
    "# plot stripplot plot of volumes\n",
    "plt.figure()\n",
    "sns.stripplot(data_volume_tel80_s, jitter=True, label=\"TEL80+S\")\n",
    "sns.stripplot(data_volume_tel80_c, jitter=True, label=\"TEL80\")\n",
    "plt.title(\"Protein Volumes\")\n",
    "plt.legend()\n",
    "plt.show()"
   ]
  },
  {
   "cell_type": "code",
   "execution_count": null,
   "metadata": {},
   "outputs": [],
   "source": [
    "# total protein volume per grain\n",
    "data_volume_tel80_s = all_stats[all_stats[\"category\"] == \"Shelterin_TEL80\"]\n",
    "\n",
    "data_volume_tel80_s = data_volume_tel80_s[data_volume_tel80_s[\"class_number\"] == 2]\n",
    "\n",
    "# for each image, for each grain, sum the volumes\n",
    "# drop all columns except image_number, grain_number, volume\n",
    "data_volume_tel80_s = data_volume_tel80_s[[\"image\", \"grain_number\", \"volume\"]]\n",
    "data_volume_tel80_s = data_volume_tel80_s.groupby([\"image\", \"grain_number\"]).sum()\n",
    "\n",
    "print(data_volume_tel80_s)\n",
    "\n",
    "# plot stripplot plot of volumes\n",
    "plt.figure()\n",
    "sns.stripplot(data_volume_tel80_s[\"volume\"], jitter=True)\n",
    "plt.title(\"Total Protein Volumes\\n(sum of each grain's protein masks' volumes)\")\n",
    "plt.show()"
   ]
  },
  {
   "cell_type": "markdown",
   "metadata": {},
   "source": [
    "## TBL for TEL80 & TEL80+S"
   ]
  },
  {
   "cell_type": "code",
   "execution_count": null,
   "metadata": {},
   "outputs": [],
   "source": [
    "data_tbl_tel80_s = all_stats[all_stats[\"category\"] == \"Shelterin_TEL80\"]\n",
    "data_tbl_tel80_c = all_stats[all_stats[\"category\"] == \"Control_TEL80\"]\n",
    "data_tbl_tel80_s = data_tbl_tel80_s[all_stats[\"class_number\"] == 1]\n",
    "data_tbl_tel80_c = data_tbl_tel80_c[all_stats[\"class_number\"] == 1]\n",
    "data_tbl_tel80_s = data_tbl_tel80_s[all_stats[\"subgrain_number\"] == 0]\n",
    "data_tbl_tel80_c = data_tbl_tel80_c[all_stats[\"subgrain_number\"] == 0]\n",
    "data_tbl_tel80_s = data_tbl_tel80_s[\"total_branch_lengths\"]\n",
    "data_tbl_tel80_c = data_tbl_tel80_c[\"total_branch_lengths\"]\n",
    "\n",
    "plt.figure()\n",
    "sns.stripplot(data_tbl_tel80_s, jitter=True, label=\"TEL80+S\")\n",
    "sns.stripplot(data_tbl_tel80_c, jitter=True, label=\"TEL80 C\")\n",
    "plt.title(\"Total Branch Lengths\")\n",
    "plt.legend()\n",
    "\n",
    "plt.show()"
   ]
  },
  {
   "cell_type": "code",
   "execution_count": null,
   "metadata": {},
   "outputs": [],
   "source": [
    "# 2d plot of TBL and volume\n",
    "\n",
    "# grab rows of category Shelterin_TEL80\n",
    "data_tels80s = all_stats[all_stats[\"category\"] == \"Shelterin_TEL80\"]\n",
    "print(len(data_tels80s))\n",
    "\n",
    "images = data_tels80s[\"image\"].unique()\n",
    "\n",
    "tbl_total_volume_pairs = []\n",
    "tbl_maximum_volume_pairs = []\n",
    "\n",
    "for image in images:\n",
    "    subdata_image = data_tels80s[data_tels80s[\"image\"] == image]\n",
    "    # print(image)\n",
    "    grain_numbers = data_tels80s[data_tels80s[\"image\"] == image][\"grain_number\"].unique()\n",
    "    # print(f\" {grain_numbers}\")\n",
    "    for grain_number in grain_numbers:\n",
    "        subdata_grain = data_tels80s[(data_tels80s[\"image\"] == image) & (data_tels80s[\"grain_number\"] == grain_number)]\n",
    "        # print(f\"  grain {grain_number}\")\n",
    "\n",
    "        # grab all the class_numbers for this grain\n",
    "        class_numbers = subdata_grain[\"class_number\"].unique()\n",
    "        # print(f\"   class numbers: {class_numbers}\")\n",
    "\n",
    "        if 1 in class_numbers and 2 in class_numbers:\n",
    "            # success, grab the TBL from any row and the total volume of all class 2 rows\n",
    "            # tbl\n",
    "            tbl = subdata_grain.iloc[0][\"total_branch_lengths\"]\n",
    "            # volume\n",
    "            total_volume = subdata_grain[subdata_grain[\"class_number\"] == 2][\"volume\"].sum()\n",
    "            maximum_protein_volume = subdata_grain[subdata_grain[\"class_number\"] == 2][\"volume\"].max()\n",
    "            # print(f\"    tbl: {tbl}, volume: {total_volume}\")\n",
    "            tbl_total_volume_pairs.append((tbl, total_volume))\n",
    "            tbl_maximum_volume_pairs.append((tbl, maximum_protein_volume))\n",
    "\n",
    "\n",
    "print(len(tbl_total_volume_pairs))\n",
    "\n",
    "# plot the pairs as a scatter plot\n",
    "\n",
    "tbls = [pair[0] for pair in tbl_total_volume_pairs]\n",
    "total_volumes = [pair[1] for pair in tbl_total_volume_pairs]\n",
    "maximum_volumes = [pair[1] for pair in tbl_maximum_volume_pairs]\n",
    "\n",
    "plt.figure()\n",
    "plt.scatter(tbls, total_volumes)\n",
    "plt.xlabel(\"Total Branch Lengths\")\n",
    "plt.ylabel(\"Total Protein Volumes\")\n",
    "plt.title(\"TEL80+S Total Branch Lengths vs Total Protein Volumes\")\n",
    "plt.show()\n",
    "\n",
    "plt.figure()\n",
    "plt.scatter(tbls, maximum_volumes)\n",
    "plt.xlabel(\"Total Branch Lengths\")\n",
    "plt.ylabel(\"Maximum Protein Volume\")\n",
    "plt.title(\"TEL80+S Total Branch Lengths vs Maximum Protein Volume\")\n",
    "plt.show()\n"
   ]
  }
 ],
 "metadata": {
  "kernelspec": {
   "display_name": "topo-unet",
   "language": "python",
   "name": "python3"
  },
  "language_info": {
   "codemirror_mode": {
    "name": "ipython",
    "version": 3
   },
   "file_extension": ".py",
   "mimetype": "text/x-python",
   "name": "python",
   "nbconvert_exporter": "python",
   "pygments_lexer": "ipython3",
   "version": "3.11.9"
  }
 },
 "nbformat": 4,
 "nbformat_minor": 2
}
