{
 "cells": [
  {
   "cell_type": "code",
   "execution_count": null,
   "metadata": {},
   "outputs": [],
   "source": [
    "from pathlib import Path\n",
    "\n",
    "import numpy as np\n",
    "import pandas as pd\n",
    "import matplotlib.pyplot as plt\n",
    "import seaborn as sns\n"
   ]
  },
  {
   "cell_type": "code",
   "execution_count": null,
   "metadata": {},
   "outputs": [],
   "source": [
    "base_dir = Path(\"/Users/sylvi/topo_data/shelterin/\")\n",
    "assert base_dir.exists()\n",
    "\n",
    "all_stats_file = base_dir / \"all_statistics.csv\"\n",
    "assert all_stats_file.exists()\n",
    "all_stats = pd.read_csv(all_stats_file)\n",
    "\n",
    "print(all_stats.columns)"
   ]
  },
  {
   "cell_type": "code",
   "execution_count": null,
   "metadata": {},
   "outputs": [],
   "source": [
    "# grab the proteins as the rows with class_number == 2 and grab volumes\n",
    "all_data_proteins = all_stats[all_stats[\"class_number\"] == 2]\n",
    "all_data_proteins_volumes = all_data_proteins[\"volume\"]\n",
    "\n",
    "# plot stripplot plot of volumes\n",
    "plt.figure()\n",
    "sns.stripplot(all_data_proteins_volumes, jitter=True)\n",
    "plt.title(\"Violin plot of volumes of proteins\")\n",
    "plt.xlabel(\"Volume\")\n",
    "plt.show()\n",
    "\n",
    "# remove anomalies - > 2 * IQR\n",
    "Q1 = all_data_proteins_volumes.quantile(0.25)\n",
    "Q3 = all_data_proteins_volumes.quantile(0.75)\n",
    "IQR = Q3 - Q1\n",
    "all_data_proteins_volumes_no_anomalies = all_data_proteins_volumes[\n",
    "    (all_data_proteins_volumes >= (Q1 - 2 * IQR)) & (all_data_proteins_volumes <= (Q3 + 2 * IQR))\n",
    "]\n",
    "\n",
    "# plot stripplot plot of volumes without anomalies\n",
    "plt.figure()\n",
    "sns.stripplot(all_data_proteins_volumes_no_anomalies, jitter=True)\n",
    "plt.title(\"Violin plot of volumes of proteins without anomalies\")\n",
    "plt.xlabel(\"Volume\")\n",
    "plt.show()\n"
   ]
  }
 ],
 "metadata": {
  "kernelspec": {
   "display_name": "topo-unet",
   "language": "python",
   "name": "python3"
  },
  "language_info": {
   "codemirror_mode": {
    "name": "ipython",
    "version": 3
   },
   "file_extension": ".py",
   "mimetype": "text/x-python",
   "name": "python",
   "nbconvert_exporter": "python",
   "pygments_lexer": "ipython3",
   "version": "3.11.9"
  }
 },
 "nbformat": 4,
 "nbformat_minor": 2
}
