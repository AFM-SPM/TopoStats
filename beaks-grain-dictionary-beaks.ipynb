{
 "cells": [
  {
   "cell_type": "code",
   "execution_count": null,
   "metadata": {},
   "outputs": [],
   "source": [
    "import pickle\n",
    "from datetime import datetime\n",
    "from pathlib import Path\n",
    "\n",
    "# clear cell output command\n",
    "from IPython.display import clear_output\n",
    "\n",
    "from beaks import construct_grains_dictionary\n",
    "\n",
    "today = datetime.today().strftime(\"D-%Y-%m-%d-T-%H-%M\")\n",
    "print(today)"
   ]
  },
  {
   "cell_type": "code",
   "execution_count": null,
   "metadata": {},
   "outputs": [],
   "source": [
    "base_dir = Path(\"/Users/sylvi/topo_data/beaks\")\n",
    "assert base_dir.exists()\n",
    "beak_topo_data_dir = base_dir / \"output-beaks-topostats-unet-good\"\n",
    "assert beak_topo_data_dir.exists()\n",
    "\n",
    "hummingbird_dir = beak_topo_data_dir / \"hummingbird/processed/\"\n",
    "assert hummingbird_dir.exists()\n",
    "magpie_dir = beak_topo_data_dir / \"magpie/processed/\"\n",
    "assert magpie_dir.exists()\n",
    "\n",
    "# grab files in both directories ending in .topostats\n",
    "hummingbird_files = hummingbird_dir.glob(\"*.topostats\")\n",
    "magpie_files = magpie_dir.glob(\"*.topostats\")\n",
    "# merge lists\n",
    "all_files = list(hummingbird_files) + list(magpie_files)\n",
    "print(f\"Found {len(all_files)} files\")"
   ]
  },
  {
   "cell_type": "markdown",
   "metadata": {},
   "source": [
    "## construct grain dictionary"
   ]
  },
  {
   "cell_type": "code",
   "execution_count": null,
   "metadata": {},
   "outputs": [],
   "source": [
    "grains_dictionary = construct_grains_dictionary(file_list=all_files, plot=False)\n",
    "clear_output()\n",
    "print(f\"found {len(grains_dictionary)} grains in {len(all_files)} files\")"
   ]
  },
  {
   "cell_type": "markdown",
   "metadata": {},
   "source": [
    "# save the grain dictionary"
   ]
  },
  {
   "cell_type": "code",
   "execution_count": null,
   "metadata": {},
   "outputs": [],
   "source": [
    "grains_with_beaks = [7, 13, 16, 26, 28, 30, 34, 36, 37, 38, 43, 45, 54, 55, 58, 65, 66, 71, 72, 79, 82, 89, 91, 92, 93]\n",
    "\n",
    "grains_with_beaks_dictionary = {}\n",
    "\n",
    "for grain_index in grains_with_beaks:\n",
    "    grains_with_beaks_dictionary[grain_index] = grains_dictionary[grain_index]\n",
    "\n",
    "# save the grains with beaks dictionary\n",
    "grains_with_beaks_save_dir = base_dir / \"grain-dictionaries\"\n",
    "assert grains_with_beaks_save_dir.exists()\n",
    "with open(grains_with_beaks_save_dir / f\"grains_with_beaks_{today}.pkl\", \"wb\") as f:\n",
    "    pickle.dump(grains_with_beaks_dictionary, f)"
   ]
  }
 ],
 "metadata": {
  "kernelspec": {
   "display_name": "topo-unet",
   "language": "python",
   "name": "python3"
  },
  "language_info": {
   "codemirror_mode": {
    "name": "ipython",
    "version": 3
   },
   "file_extension": ".py",
   "mimetype": "text/x-python",
   "name": "python",
   "nbconvert_exporter": "python",
   "pygments_lexer": "ipython3",
   "version": "3.11.9"
  }
 },
 "nbformat": 4,
 "nbformat_minor": 2
}
