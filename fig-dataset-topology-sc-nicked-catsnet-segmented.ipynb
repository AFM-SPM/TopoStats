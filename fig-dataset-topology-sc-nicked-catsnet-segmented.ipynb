{
 "cells": [
  {
   "cell_type": "code",
   "execution_count": null,
   "id": "4f5956c4",
   "metadata": {},
   "outputs": [],
   "source": [
    "from pathlib import Path\n",
    "import pandas as pd\n",
    "import numpy as np\n",
    "import matplotlib.pyplot as plt\n",
    "import seaborn as sns"
   ]
  },
  {
   "cell_type": "code",
   "execution_count": null,
   "id": "61cc64b0",
   "metadata": {},
   "outputs": [],
   "source": [
    "base_dir = Path(\"/Users/sylvi/topo_data/topostats_2/datasets/topology-plasmids\")\n",
    "results_dir = base_dir / \"output_old_catsnet\"\n",
    "assert results_dir.exists()\n",
    "\n",
    "file_allstats = results_dir / \"all_statistics.csv\"\n",
    "assert file_allstats.exists()\n",
    "df_allstats = pd.read_csv(file_allstats)\n",
    "print(df_allstats.columns)\n",
    "\n",
    "# convert to nm\n",
    "df_allstats[\"area\"] = df_allstats[\"area\"] * 1e18\n",
    "df_allstats[\"total_contour_length\"] = df_allstats[\"total_contour_length\"] * 1e9\n",
    "\n",
    "# print the writhe_string column unique values\n",
    "print(df_allstats[\"writhe_string\"].unique())\n",
    "\n",
    "\n",
    "def calculate_num_char_in_string(input_string: str, character: str) -> int:\n",
    "    \"\"\"Calculate the number of occurrences of a specific character in a string.\"\"\"\n",
    "    # check if nan\n",
    "    if pd.isna(input_string):\n",
    "        return 0\n",
    "    return input_string.count(character)\n",
    "\n",
    "\n",
    "df_allstats[\"num_plusses\"] = df_allstats[\"writhe_string\"].apply(calculate_num_char_in_string, character=\"+\")\n",
    "df_allstats[\"num_minuses\"] = df_allstats[\"writhe_string\"].apply(calculate_num_char_in_string, character=\"-\")\n",
    "df_allstats[\"num_plusses_or_minuses\"] = df_allstats[\"num_plusses\"] + df_allstats[\"num_minuses\"]"
   ]
  },
  {
   "cell_type": "code",
   "execution_count": null,
   "id": "b1c7c9ea",
   "metadata": {},
   "outputs": [],
   "source": [
    "# plot violin of length based on basename\n",
    "sns.violinplot(data=df_allstats, x=\"basename\", y=\"total_contour_length\", inner=\"point\")\n",
    "plt.ylabel(\"Contour Length (nm)\")\n",
    "plt.show()\n",
    "\n",
    "# plot num of plusses or minuses based on basename\n",
    "sns.violinplot(data=df_allstats, x=\"basename\", y=\"num_plusses_or_minuses\", inner=\"point\")\n",
    "plt.ylabel(\"Number of crossings\")\n",
    "plt.show()\n",
    "\n",
    "#"
   ]
  }
 ],
 "metadata": {
  "kernelspec": {
   "display_name": "topo2paper",
   "language": "python",
   "name": "python3"
  },
  "language_info": {
   "codemirror_mode": {
    "name": "ipython",
    "version": 3
   },
   "file_extension": ".py",
   "mimetype": "text/x-python",
   "name": "python",
   "nbconvert_exporter": "python",
   "pygments_lexer": "ipython3",
   "version": "3.11.9"
  }
 },
 "nbformat": 4,
 "nbformat_minor": 5
}
