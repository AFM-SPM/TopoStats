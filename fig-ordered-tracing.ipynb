{
 "cells": [
  {
   "cell_type": "code",
   "execution_count": null,
   "id": "107f8ed4",
   "metadata": {},
   "outputs": [],
   "source": [
    "from pathlib import Path\n",
    "import numpy as np\n",
    "import numpy.typing as npt\n",
    "import h5py\n",
    "import matplotlib.pyplot as plt\n",
    "from topostats.io import LoadScans\n",
    "from topostats.plotting import Colormap\n",
    "\n",
    "colormap = Colormap()\n",
    "cmap = colormap.get_cmap()\n",
    "vmin = -3\n",
    "vmax = 4\n",
    "square_markersize_figsize_20 = 3.8"
   ]
  },
  {
   "cell_type": "code",
   "execution_count": null,
   "id": "a6b98e99",
   "metadata": {},
   "outputs": [],
   "source": [
    "base_dir = Path(\"/Users/sylvi/topo_data/topostats_2/datasets/20250528_RA_dose_0GY_picoz\")\n",
    "data_dir = base_dir / \"output_fig_nodestats\"\n",
    "figure_dir = Path(\"/Users/sylvi/topo_data/topostats_2/figures/fig-disordered-tracing\")\n",
    "assert figure_dir.exists()\n",
    "assert data_dir.exists()\n",
    "\n",
    "image_filename = \"20250528_picoz_0RA_tip_0.0_00019\"\n",
    "\n",
    "image_topostats_file_path = data_dir / \"processed\" / (f\"{image_filename}.topostats\")\n",
    "assert image_topostats_file_path.exists()\n",
    "\n",
    "loadscans = LoadScans(img_paths=[image_topostats_file_path], channel=\"dummy\")\n",
    "loadscans.get_data()\n",
    "loadscans_dict = loadscans.img_dict\n",
    "\n",
    "image_dict = loadscans_dict[image_filename]\n",
    "print(image_dict.keys())\n",
    "image = image_dict[\"image\"]\n",
    "p2nm = image_dict[\"pixel_to_nm_scaling\"]\n",
    "print(f\"pixel to nm scaling: {p2nm} nm/pixel\")\n",
    "print(f\"image size: {image.shape} px, {image.shape[0]*p2nm:.2f} x {image.shape[1]*p2nm:.2f} nm\")\n",
    "\n",
    "image_disordered_traces = image_dict[\"disordered_traces\"][\"above\"]\n",
    "image_nodestats = image_dict[\"nodestats\"][\"above\"]\n",
    "image_ordered_tracing = image_dict[\"ordered_traces\"][\"above\"]\n",
    "\n",
    "image_nodestats_images_grain1 = image_nodestats[\"images\"][\"grain_1\"]\n",
    "image_nodestats_images_grain1_grain = image_nodestats_images_grain1[\"grain\"]\n",
    "image_nodestats_images_grain1_grain_image = image_nodestats_images_grain1_grain[\"grain_image\"]\n",
    "\n",
    "image_disordered_traces_grain1 = image_disordered_traces[\"grain_1\"]\n",
    "image_disordered_traces_grain1_branch_indexes = image_disordered_traces_grain1[\"branch_indexes\"]\n",
    "\n",
    "\n"
   ]
  },
  {
   "cell_type": "code",
   "execution_count": null,
   "id": "f2d8c8d1",
   "metadata": {},
   "outputs": [],
   "source": [
    "# colouring by branch index\n",
    "# create a mask the the branch indexes\n",
    "image_disordered_traces_grain1_branch_indexes_mask = np.ma.masked_where(\n",
    "    image_disordered_traces_grain1_branch_indexes == 0,\n",
    "    image_disordered_traces_grain1_branch_indexes,\n",
    ")\n",
    "\n",
    "fig, ax = plt.subplots(figsize=(10, 10))\n",
    "ax.imshow(image_nodestats_images_grain1_grain_image, cmap=cmap, vmin=vmin, vmax=vmax)\n",
    "ax.imshow(image_disordered_traces_grain1_branch_indexes_mask, cmap=\"Accent\", alpha=1)\n",
    "plt.axis(\"off\")\n",
    "plt.savefig(figure_dir / f\"i19-fig-ordered-tracing-branch-indexes-grain-1.png\", bbox_inches=\"tight\")\n"
   ]
  },
  {
   "cell_type": "code",
   "execution_count": null,
   "id": "19f11278",
   "metadata": {},
   "outputs": [],
   "source": [
    "# colouring by molecule\n",
    "mol_0_ordered_coords = image_ordered_tracing[\"grain_1\"][\"mol_0\"][\"ordered_coords\"]\n"
   ]
  }
 ],
 "metadata": {
  "kernelspec": {
   "display_name": "topo2paper",
   "language": "python",
   "name": "python3"
  },
  "language_info": {
   "codemirror_mode": {
    "name": "ipython",
    "version": 3
   },
   "file_extension": ".py",
   "mimetype": "text/x-python",
   "name": "python",
   "nbconvert_exporter": "python",
   "pygments_lexer": "ipython3",
   "version": "3.11.9"
  }
 },
 "nbformat": 4,
 "nbformat_minor": 5
}
