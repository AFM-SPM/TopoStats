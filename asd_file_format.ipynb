{
 "cells": [
  {
   "cell_type": "code",
   "execution_count": null,
   "metadata": {},
   "outputs": [],
   "source": [
    "from pathlib import Path\n",
    "import struct"
   ]
  },
  {
   "cell_type": "code",
   "execution_count": null,
   "metadata": {},
   "outputs": [],
   "source": [
    "FILE_PATH = Path(\"./asd_data/1096.asd\")"
   ]
  },
  {
   "cell_type": "code",
   "execution_count": null,
   "metadata": {},
   "outputs": [],
   "source": [
    "def read_int32(file):\n",
    "    return struct.unpack(\"i\", file.read(4))[0]"
   ]
  },
  {
   "cell_type": "code",
   "execution_count": null,
   "metadata": {},
   "outputs": [],
   "source": [
    "# Channel encoding all in little endian\n",
    "# topography: 0x5054 decodes to 'TP' in ascii little endian\n",
    "# error: 0x5245 decodes to 'ER' in ascii little endian\n",
    "# phase: 0x4850 decodes to 'PH' in ascii little endian\n",
    "# none: 0x0000 no channel."
   ]
  },
  {
   "cell_type": "code",
   "execution_count": null,
   "metadata": {},
   "outputs": [],
   "source": [
    "# Read file as binary\n",
    "with open(FILE_PATH, \"rb\") as f:\n",
    "    # binary_file_data = f.read()\n",
    "    print(read_int32(f))\n",
    "    print(f.read(2))\n",
    "    print(f.read(2))\n",
    "\n",
    "# print(len(binary_file_data))\n",
    "# print(binary_file_data[:20])\n",
    "# print(read_int32(binary_file_data))\n",
    "\n",
    "# print(str(binary_file_data))"
   ]
  }
 ],
 "metadata": {
  "kernelspec": {
   "display_name": "new",
   "language": "python",
   "name": "python3"
  },
  "language_info": {
   "codemirror_mode": {
    "name": "ipython",
    "version": 3
   },
   "file_extension": ".py",
   "mimetype": "text/x-python",
   "name": "python",
   "nbconvert_exporter": "python",
   "pygments_lexer": "ipython3",
   "version": "3.10.9"
  }
 },
 "nbformat": 4,
 "nbformat_minor": 2
}
