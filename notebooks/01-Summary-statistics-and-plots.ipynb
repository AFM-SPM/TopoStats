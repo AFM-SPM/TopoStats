{
 "cells": [
  {
   "cell_type": "markdown",
   "id": "c4ed3f2e-ded8-4614-9b6e-026051f06d40",
   "metadata": {},
   "source": [
    "# Summarising and Plotting Statistics\n",
    "\n",
    "After a successful run of `run_topostats` you will have a `all_statistics.csv` file that contains a summary of various\n",
    "statistics about the detected molecules across all image files that were processed. There is class\n",
    "`topostats.plotting.TopoSum` that uses this file to generate plots automatically and a convenience command\n",
    "`toposum` which provides an entry point to re-run the plotting at the command line.\n",
    "\n",
    "Inevitably though there will be a point where you want to tweak plots for publication or otherwise in some manner that\n",
    "is not conducive to scripting in this manner because making every single option from\n",
    "[Seaborn](https://seaborn.pydata.org/) and [Matplotlib](https://matplotlib.org/) accessible via this class is a\n",
    "considerable amount of work writing [boilerplate code](https://en.wikipedia.org/wiki/Boilerplate_code). Instead the\n",
    "plots should be generated and tweaked interactively a notebook. This Notebook serves as a sample showing how to use the\n",
    "`TopoSum` class and some examples of creating plots directly using [Pandas](https://pandas.pydata.org/).\n",
    "\n",
    "If you are unfamiliar with these packages it is recommended that you read the documentation. It is worth bearing in mind\n",
    "that both Pandas and Seaborn build on the basic functionality that Matplotlib provides, providing easier methods for\n",
    "generating plots. If you are stuck doing something with either of these refer to Matplotlib for how to achieve what you\n",
    "are trying to do.\n",
    "\n",
    "* [Pandas](https://pandas.pydata.org/docs/)\n",
    "* [10 minutes to pandas](https://pandas.pydata.org/docs/user_guide/10min.html)\n",
    "* [Chart visualization — pandas](https://pandas.pydata.org/docs/user_guide/visualization.html?highlight=plotting)\n",
    "* [seaborn: statistical data visualization](https://seaborn.pydata.org/index.html)\n",
    "* [An introduction to seaborn](https://seaborn.pydata.org/tutorial/introduction.html)\n",
    "* [Matplotlib — Visualization with Python](https://matplotlib.org/)\n",
    "* [Tutorials — Matplotlib](https://matplotlib.org/stable/tutorials/index)\n",
    "\n"
   ]
  },
  {
   "cell_type": "markdown",
   "id": "e9925511-9e30-4c69-86cf-531cda8fea10",
   "metadata": {},
   "source": [
    "## Load Libraries"
   ]
  },
  {
   "cell_type": "code",
   "execution_count": null,
   "id": "b95d8fd7-44dd-42b2-af15-12302221e59a",
   "metadata": {},
   "outputs": [],
   "source": [
    "import matplotlib.pyplot as plt\n",
    "import seaborn as sns\n",
    "\n",
    "import pandas as pd\n",
    "\n",
    "from topostats.plotting import TopoSum"
   ]
  },
  {
   "cell_type": "markdown",
   "id": "46f8ee5e-428e-4b91-972a-45d478728f18",
   "metadata": {},
   "source": [
    "## Load  `all_statistics.csv`\n",
    "\n",
    "You need to load your data to be able to work with it, this is best achieved by importing it using\n",
    "[Pandas](https://pandas.pydata.org/). Here we use the `tests/resources/minicircle_default_all_statistics.csv` that is\n",
    "part of the TopoStats repository and load it into the object called `df` (short for \"Data Frame\"). You will need to\n",
    "change this path to reflect your output. \n",
    "\n",
    "Because `molecule_number` is unique to the `image` and `threshold` we set a multi-level index of these three"
   ]
  },
  {
   "cell_type": "code",
   "execution_count": null,
   "id": "096b8ef4-08d9-4ed6-8009-a72328133720",
   "metadata": {},
   "outputs": [],
   "source": [
    "df = pd.read_csv(\"../tests/resources/minicircle_default_all_statistics.csv\")\n",
    "df.set_index([\"image\", \"threshold\", \"molecule_number\"], inplace=True)\n"
   ]
  },
  {
   "cell_type": "markdown",
   "id": "451a88c5-46eb-4dbe-862d-b6aee2948376",
   "metadata": {},
   "source": [
    "## Plotting with Pandas"
   ]
  },
  {
   "cell_type": "markdown",
   "id": "91585e8a-8653-4328-b78c-9da32ade4fd2",
   "metadata": {},
   "source": [
    "### Plotting Contour Lengths"
   ]
  },
  {
   "cell_type": "code",
   "execution_count": null,
   "id": "ab89b50a-ce17-4dc1-8139-5402b8298efb",
   "metadata": {},
   "outputs": [],
   "source": [
    "df[\"contour_lengths\"].plot.hist(figsize=(16,9),\n",
    "                                bins=20,\n",
    "                                title=\"Contour Lengths\",\n",
    "                                alpha=0.5)"
   ]
  },
  {
   "cell_type": "markdown",
   "id": "4239d57b-6840-4261-a98a-a1c25a8dec1d",
   "metadata": {},
   "source": [
    "### Plotting End to End Distance of non-Circular grains"
   ]
  },
  {
   "cell_type": "code",
   "execution_count": null,
   "id": "cf4d92f0-b624-452c-9f51-52fe70dfde88",
   "metadata": {},
   "outputs": [],
   "source": [
    "df[df[\"circular\"] == False][\"end_to_end_distance\"].plot.hist(figsize=(16,9),\n",
    "                                                             bins=20,\n",
    "                                                             title=\"End to End Distance\",\n",
    "                                                             alpha=0.5)"
   ]
  },
  {
   "cell_type": "markdown",
   "id": "94270659-cc2a-4606-9fa9-80ed5fac82d2",
   "metadata": {},
   "source": [
    "### Multiple Images\n",
    "\n",
    "Often you will have processed multiple images and you will want to plot the distributions of metrics for each image\n",
    "separately.\n",
    "\n",
    "For this example we duplicate the data and append it, adjusting the values slightly"
   ]
  },
  {
   "cell_type": "code",
   "execution_count": null,
   "id": "529aedb3-2d4e-4703-86a0-bcba99caee57",
   "metadata": {},
   "outputs": [],
   "source": [
    "def scale_df(df: pd.DataFrame, scale:float, image:str) -> pd.DataFrame:\n",
    "    \"\"\"Scale the numerical values of a data frame. Retains string variables and the index.\n",
    "\n",
    "    Parameters\n",
    "    ----------\n",
    "    df: pd.DataFrame\n",
    "        Pandas Dataframe to scale.\n",
    "    scale: float\n",
    "        Factor by which to scale the data.\n",
    "    image: str\n",
    "        Name for new (dummy) image.\n",
    "\n",
    "    Returns\n",
    "    -------\n",
    "    pd.DataFrame\n",
    "        Scaled data frame\n",
    "    \"\"\"\n",
    "    _df = df[df.select_dtypes(include=['number']).columns] * scale\n",
    "    _df.reset_index(inplace=True)\n",
    "    _df[\"image\"] = image\n",
    "    _df = pd.concat([_df, df[[\"circular\", \"basename\"]]], axis=1)\n",
    "    _df.set_index([\"image\", \"threshold\", \"molecule_number\"], inplace=True)\n",
    "    return _df\n",
    "smaller = scale_df(df, scale=0.9, image=\"smaller\")\n",
    "larger = scale_df(df, scale=1.25, image=\"larger\")\n",
    "df_three_images = pd.concat([smaller, df, larger])"
   ]
  },
  {
   "cell_type": "markdown",
   "id": "6a57eb1a-3093-4ca6-8411-e62ea2614730",
   "metadata": {},
   "source": [
    "### Contour Length from Three Processed Images"
   ]
  },
  {
   "cell_type": "code",
   "execution_count": null,
   "id": "9820d259-680e-49fd-a1eb-e14d200a0b7a",
   "metadata": {},
   "outputs": [],
   "source": [
    "df_three_images[\"contour_lengths\"].groupby(\"image\").plot.hist(figsize=(16,9),\n",
    "                                bins=20,\n",
    "                                title=\"Contour Lengths\",\n",
    "                                alpha=0.5)"
   ]
  },
  {
   "cell_type": "markdown",
   "id": "e1bdba05-e0a6-42cc-bddd-ed59fe3d45f5",
   "metadata": {},
   "source": [
    "### Violin Plot of `max_feret` using Seaborn\n",
    "\n",
    "Pandas does not have built-in support for Violin Plots so we switch to using Seaborn."
   ]
  },
  {
   "cell_type": "code",
   "execution_count": null,
   "id": "68aa386c-fa7a-4ee3-8310-83e4b62d67a9",
   "metadata": {},
   "outputs": [],
   "source": [
    "# Reset dataframe index to make `image` readily available\n",
    "df_three_images.reset_index(inplace=True)\n",
    "fig, ax = plt.subplots(1, 1, figsize=(16,9))\n",
    "sns.violinplot(data=df_three_images, x=\"image\", y=\"max_feret\", hue=\"image\", alpha=0.5)\n",
    "plt.title(\"Minimum Feret\")\n",
    "plt.ylabel(\"Minimum Feret / nm\")\n",
    "# Return the index\n",
    "df_three_images.set_index([\"image\", \"threshold\", \"molecule_number\"], inplace=True)"
   ]
  },
  {
   "cell_type": "code",
   "execution_count": null,
   "id": "3ae80090-71d3-4c87-9907-fd10b892c962",
   "metadata": {},
   "outputs": [],
   "source": [
    "df_three_images.index\n"
   ]
  }
 ],
 "metadata": {
  "kernelspec": {
   "display_name": "Python 3 (ipykernel)",
   "language": "python",
   "name": "python3"
  },
  "language_info": {
   "codemirror_mode": {
    "name": "ipython",
    "version": 3
   },
   "file_extension": ".py",
   "mimetype": "text/x-python",
   "name": "python",
   "nbconvert_exporter": "python",
   "pygments_lexer": "ipython3",
   "version": "3.10.9"
  },
  "name": "01-Summary-statistics-and-plots.ipynb"
 },
 "nbformat": 4,
 "nbformat_minor": 5
}
