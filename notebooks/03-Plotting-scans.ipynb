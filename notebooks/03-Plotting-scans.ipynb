{
 "cells": [
  {
   "cell_type": "markdown",
   "id": "a2f00ebf-d6b2-449d-8b16-f29c5b447540",
   "metadata": {},
   "source": [
    "# Plotting Scans\n",
    "\n",
    "This Notebook demonstrates how to plot cleaned scans that have been produced by `run_topostats`. There are a large\n",
    "number of options available when plotting, too many to cover in this Notebook, but the aim is to demonstrate some\n",
    "basics...\n",
    "\n",
    "* Loading NumPy Arrays\n",
    "* Plotting using the TopoStats `plot_and_save()` function.\n",
    "* Selecting a subset of a scan and plotting that.\n",
    "* Applying different colour maps.\n",
    "* Adding custom headings and axis labels.\n",
    "* Saving images in a range of publication quality formats.\n",
    "\n",
    "The [NumPy](https://numpy.org/) arrays are plotted using [Matplotlib](https://matplotlib.org/) which has excellent\n",
    "documentation. If you want to learn more then the [Tutorials and\n",
    "Exampes](https://matplotlib.org/stable/users/index.html#tutorials-and-examples) are a good place to start learning from."
   ]
  },
  {
   "cell_type": "markdown",
   "id": "5f4a00d6-93ed-469d-8323-cf49f68ef266",
   "metadata": {},
   "source": [
    "# Setup\n",
    "\n",
    "The first step required is to import some Python libraries to load and plot the data. You should run this Notebook\n",
    "within a Conda/Virtual Environment into which you have installed TopoStats, ideally with the necessary Notebook\n",
    "extensions. The following command will install TopoStats from [PyPI](https://pypi.org/project/topostats/) with the\n",
    "requirements for running Notebooks.\n",
    "\n",
    "```python\n",
    "pip install topostats[notebooks]\n",
    "```\n",
    "\n",
    "You should have successfully processed images using `run_topostats` at least once, this will have saved processed scans\n",
    "to disk that we will load."
   ]
  },
  {
   "cell_type": "code",
   "execution_count": null,
   "id": "187769c3-cec9-4fd4-8414-fae834b20405",
   "metadata": {},
   "outputs": [],
   "source": [
    "from pathlib import Path\n",
    "from ipywidgets import widgets\n",
    "import numpy as np\n",
    "import matplotlib.pyplot as plt\n",
    "import matplotlib.colors as mcolors\n",
    "from topostats.io import load_array\n",
    "from topostats.plottingfuncs import Images\n",
    "from topostats.theme import Colormap\n",
    "\n",
    "\n",
    "def on_file_upload(change):\n",
    "    # Get the uploaded file contents as a bytes object\n",
    "    print(f\"change['owner'].value : {change['owner'].value}\")\n",
    "    uploaded_file = change[\"owner\"].value\n",
    "    filename = list(uploaded_file.keys())[0]\n",
    "    # print(uploaded_file.items())\n",
    "    print(f\"filename               : {filename}\")\n",
    "    print(f\"uploaded_file[filename]['metadata'] : {uploaded_file[filename]['metadata']}\")\n",
    "    # print(f\"uploaded_file          : {str(uploaded_file.keys()[0])}\")\n",
    "    content = uploaded_file[filename][\"content\"]\n",
    "\n",
    "\n",
    "upload_button = widgets.FileUpload(accept=\".npy\", multiple=False)\n",
    "display(upload_button)\n",
    "# select_file_upload.observe(on_file_upload, names=\"value\")"
   ]
  },
  {
   "cell_type": "markdown",
   "id": "35320ff3-57f4-4e0b-a337-7286cc8289cf",
   "metadata": {},
   "source": [
    "# Load\n",
    "\n",
    "Before we can plot data we need to load the data. You need to know where this file is located and this will depend on\n",
    "the configuration you used when using `run_topostats`. It will be located in the `processed` directory of your output\n",
    "(but remember that it reflects the directory structure your files were stored in originally)."
   ]
  },
  {
   "cell_type": "code",
   "execution_count": null,
   "id": "15b07e85-6471-4e7f-812c-3ac24b157baf",
   "metadata": {},
   "outputs": [],
   "source": [
    "outpath = Path(\"../output/tests/resources/processed/\")\n",
    "image_array = load_array(outpath / \"minicircle_height_thresholded.npy\")"
   ]
  },
  {
   "cell_type": "markdown",
   "id": "6ad1c755-0bc6-421b-85d9-a867a939ee4f",
   "metadata": {},
   "source": [
    "## Configuration\n",
    "\n",
    "A configuration saved as a Python Dictionary is the easiest way to work with plotting and saves a lot of repetitive\n",
    "typing of options. A sample is provided below and is stored in the object `plotting_config`.\n",
    "\n",
    "We set the output directory to be the current working directory, if you wish to set this as something different then you\n",
    "should modify the following cell to something like\n",
    "\n",
    "```\n",
    "outpath = Path(\"/path/you/want/to/save/images/to/\")\n",
    "```\n",
    "\n",
    "In the cell below the `outpath` is set to the location from which we load the array data.\n"
   ]
  },
  {
   "cell_type": "code",
   "execution_count": null,
   "id": "9e380fde-d3e2-4f1c-8156-4f23550cc956",
   "metadata": {},
   "outputs": [],
   "source": [
    "outpath = Path(\"../output/tests/resources/processed/\")\n",
    "plotting_config = {\n",
    "    \"save_format\": \"png\",  # Options : see https\"://matplotlib.org/stable/api/_as_gen/matplotlib.pyplot.savefig.html\n",
    "    \"image_set\": \"core\",  # Options : all, core\n",
    "    \"zrange\": [None, None],  # low and high height range for core images (can take [null, null])\n",
    "    \"colorbar\": True,  # Options : true, false\n",
    "    \"axes\": True,  # Options : true, false (due to off being a bool when parsed)\n",
    "    \"cmap\": \"nanoscope\",  # Options : nanoscope, afmhot, gwyddion\n",
    "    \"mask_cmap\": \"blu\",  # Options : blu, jet_r and any in matplotlib\n",
    "    \"histogram_log_axis\": False,  # Options : true, false\n",
    "    \"histogram_bins\": 200,  # Number of bins for histogram plots to use\n",
    "    \"core_set\": True,\n",
    "    \"title\": \"Height Thresholded\",\n",
    "    \"image_type\": \"non-binary\",\n",
    "    \"save\": True,\n",
    "    \"output_dir\": outpath,\n",
    "}"
   ]
  },
  {
   "cell_type": "markdown",
   "id": "92002ab0-c8f9-4cbf-981b-c9e1617c2395",
   "metadata": {},
   "source": [
    "# Plotting with TopoStats\n",
    "\n",
    "TopoStats includes a class `Image` which makes plotting easy. It requires a few arguments though, the array that is to\n",
    "be plotted (`image_array`), the image name (`test_image`) and a dictionary of options which we have defined above.\n",
    "\n",
    "This last argument, the dictionary of options is prefixed `**` which is known as _Python Keywords_. It means that the\n",
    "dictionary is \"unpacked\" and we have setup the dictionary so that every key is an argument to the `Image` class and the\n",
    "values of the dictionary are passed into `Image`. If interested in finding out more about this see the following\n",
    "articles...\n",
    "\n",
    "* [Dictionaries in Python – Real Python](https://realpython.com/python-dicts/)\n",
    "* [Python args and kwargs: Demystified – Real Python](https://realpython.com/python-kwargs-and-args/)\n",
    "\n",
    "The cell below \"instantiates\" an object (`image_plot`) of the class `Image`, it _won't_ produce any output....yet!"
   ]
  },
  {
   "cell_type": "code",
   "execution_count": null,
   "id": "e87ae43c-4159-45bb-a6b6-d31f695a4561",
   "metadata": {},
   "outputs": [],
   "source": [
    "image_plot = Images(image_array, filename=\"test_image\", **plotting_config)"
   ]
  },
  {
   "cell_type": "markdown",
   "id": "274386f9-da5a-414e-a97b-c52532a99f04",
   "metadata": {},
   "source": [
    "Classes such as `Image` have \"methods\" associated with them, these are what does the hard work and produces output. This\n",
    "means the instance of `Image` that is `image_plot` has a method called `.plot_and_save()` which plots and saves the\n",
    "file. The method returns two objects, a `figure` which is the actual plot and an `axes` which is the region or box into\n",
    "which the `figure` is drawn.  If we call it now we are told the image is saved and we can then display the figure in the\n",
    "Notebook by using the returned `figure`.\n",
    "\n",
    "In this example we have included all f the options from the dictionary relevant to this type of plot, such as\n",
    "`colorbar=True` and the `cmap=\"nanoscope\"` (`cmap` is short for \"colormap\" and defines the colours used for plotting)."
   ]
  },
  {
   "cell_type": "code",
   "execution_count": null,
   "id": "b89355a7-47ee-4807-9153-a06896e7903d",
   "metadata": {},
   "outputs": [],
   "source": [
    "figure, axes = image_plot.plot_and_save()\n",
    "figure"
   ]
  },
  {
   "cell_type": "markdown",
   "id": "fed79730-2116-45b4-83ef-ed32f2e05868",
   "metadata": {},
   "source": [
    "### Changing Properties\n",
    "\n",
    "If we want to change the properties we can either define a new dictionary, or we can modify the properties of the\n",
    "instantiated `Images` object `image_plot`. For example to change the colour map (`cmap`) and _not_ plot the `colorbar`\n",
    "we can set those values to `viridis` and `False` respectively. And if we want to change the title we can change the\n",
    "`title` property."
   ]
  },
  {
   "cell_type": "code",
   "execution_count": null,
   "id": "1cc757d6-f207-4a53-b608-9bfc4c9e15ce",
   "metadata": {},
   "outputs": [],
   "source": [
    "image_plot.cmap = \"viridis\"\n",
    "image_plot.colorbar = False\n",
    "image_plot.title = \"Minicircle : Height Thresholded...in Viridis!\"\n",
    "figure, axes = image_plot.plot_and_save()\n",
    "figure"
   ]
  },
  {
   "cell_type": "markdown",
   "id": "f0f6a175-60ae-4ffb-9481-82ca174483b5",
   "metadata": {},
   "source": [
    "### Colormaps\n",
    "\n",
    "Another colormap (`cmap`) that is available is `afmhot`. We plot the same `minicircle` image using this colormap and\n",
    "reinstate the colorbar, giving a unique title."
   ]
  },
  {
   "cell_type": "code",
   "execution_count": null,
   "id": "ec990a96-755d-4757-84a9-b2eb1053e042",
   "metadata": {},
   "outputs": [],
   "source": [
    "image_plot.cmap = \"afmhot\"\n",
    "image_plot.colorbar = True\n",
    "image_plot.title = \"Hot Minicircles!\"\n",
    "figure, axes = image_plot.plot_and_save()\n",
    "figure"
   ]
  },
  {
   "cell_type": "markdown",
   "id": "87ae1a2f-06e1-439e-927a-48890cce98cd",
   "metadata": {},
   "source": [
    "Internally `Image()` is using the colormap palette defined in the `topostats.theme.Colormap` class that has been\n",
    "imported, which defines the range of colours for both `nanoscope`, `gwyddion` and `blu` custom colormaps. We will use\n",
    "these later."
   ]
  },
  {
   "cell_type": "markdown",
   "id": "d4a9d212-d9f7-4664-acbf-1603e3c2730b",
   "metadata": {},
   "source": [
    "## Plotting a Region\n",
    "\n",
    "We may be interested in plotting just a region, say the bottom right-hand corner with the cluster of five molecules. To\n",
    "do so we need to subset the original array. This requires a little understanding of how to index [Numpy\n",
    "arrays](https://numpy.org/doc/stable/user/basics.indexing.html).\n",
    "\n",
    "A Numpy array holding a TopoStats image is a 2-Dimensional array and each cell can be referenced by its `row` position\n",
    "(`y`) first and then its `col` (`x'`). Indexing in Python (and most programming languages) starts at zero (`0`) so to\n",
    "get the contents of the very first cell you would use `image_array[0,0]` as shown below which shows you the height\n",
    "measurement of that cell."
   ]
  },
  {
   "cell_type": "code",
   "execution_count": null,
   "id": "5d33941b-65ea-488c-9478-c6a76c633e78",
   "metadata": {},
   "outputs": [],
   "source": [
    "image_array[0, 0]"
   ]
  },
  {
   "cell_type": "markdown",
   "id": "e74e68d9-5964-4082-acfe-6f5907a3fa84",
   "metadata": {},
   "source": [
    "However, we want to plot a range of rows and columns corresponding to the bottom right hand corner, we can refer to a\n",
    "range of values using the notation `start:end` and we can do so both for the `x` dimension and the `y` dimension. To get\n",
    "the last 300 rows and the last 300 columns we would therefore use `[701:,701:]` we don't need to specify the end\n",
    "location of the columns, Python will just use up to the end of the rows and columns."
   ]
  },
  {
   "cell_type": "code",
   "execution_count": null,
   "id": "c683b6c2-def9-4509-82bd-77f341305aa4",
   "metadata": {},
   "outputs": [],
   "source": [
    "image_array[701:, 701:]"
   ]
  },
  {
   "cell_type": "markdown",
   "id": "6836f33c-3512-4df8-aa11-475e65728e39",
   "metadata": {},
   "source": [
    "We can now plot the subset by instantiating a new object which we call `small_plot` of the class `Images`. Instead of\n",
    "passing in the full `image_array` though we take a subset of the last rows after `700` and the last columns `700`. We\n",
    "specify a new, unique filename `test_image_small` and reuse the `plotting_config` dictionary."
   ]
  },
  {
   "cell_type": "code",
   "execution_count": null,
   "id": "bac7133a-b260-4404-aa45-7fa0e8cb6122",
   "metadata": {},
   "outputs": [],
   "source": [
    "small_plot = Images(image_array[701:, 701:], filename=\"test_image_small\", **plotting_config)\n",
    "figure, axes = small_plot.plot_and_save()\n",
    "figure"
   ]
  },
  {
   "cell_type": "markdown",
   "id": "b31e0e98-b7ad-433f-abc7-d88deeda4ed8",
   "metadata": {},
   "source": [
    "You may notice the colours are brighter in this cropped image than the region as it appears in the full image plot. Read\n",
    "on for how to handle this so that they match the whole image."
   ]
  },
  {
   "cell_type": "markdown",
   "id": "1e7f4563-75d4-4891-bb50-ac164a342092",
   "metadata": {},
   "source": [
    "## Plot just the image\n",
    "\n",
    "Its possible that you may want _just_ the image, colorbar or title. This can be done without recourse to the `Image`\n",
    "class using Matplotlib directly. We first need to setup a `figure` and `axes` to hold one figure. This is done using\n",
    "`plt.subplots()` from Matplotlib.\n",
    "\n",
    "We use the `Colormap(\"nanoscope\").get_cmap()` class and method to use the `nanoscope` colour map."
   ]
  },
  {
   "cell_type": "code",
   "execution_count": null,
   "id": "bb43d976-e487-4335-a4bb-d62d7f804ff0",
   "metadata": {},
   "outputs": [],
   "source": [
    "figure, axes = plt.subplots(1, 1, figsize=(8, 8))\n",
    "plt.imshow(image_array, cmap=Colormap(\"nanoscope\").get_cmap())"
   ]
  },
  {
   "cell_type": "markdown",
   "id": "3c33794e-6afc-480c-91c3-9bfa24e39f79",
   "metadata": {},
   "source": [
    "If you want to save the image then use `plt.imsave()` with the same arguments, but give a filename as the first argument."
   ]
  },
  {
   "cell_type": "code",
   "execution_count": null,
   "id": "88c311c9-8635-4190-b7b1-7bef69282a49",
   "metadata": {},
   "outputs": [],
   "source": [
    "plt.imsave(outpath / \"image_without_scale_or_title.png\", image_array, cmap=Colormap(\"nanoscope\").get_cmap())"
   ]
  },
  {
   "cell_type": "markdown",
   "id": "675678f4-0526-4725-ac44-c79cfa2e3e29",
   "metadata": {},
   "source": [
    "## Images and Regions \n",
    "\n",
    "Here we setup a `figure` and `axes` with `nrows=1` and `ncols=2`, this makes `axes` essentially an array with length of\n",
    "2, starting with an index of 0 and so we reference `axes[0]` for the first image, and `axes[1]` for the second and we\n",
    "can combine our two images.\n",
    "\n",
    "We use `plt.savefig()` to save the image to a unique filename under `outpath` location (which we set further back)."
   ]
  },
  {
   "cell_type": "code",
   "execution_count": null,
   "id": "7a749048-8013-4241-84b4-49efdd346f0f",
   "metadata": {},
   "outputs": [],
   "source": [
    "figure, axes = plt.subplots(nrows=1, ncols=2, figsize=(16, 8))\n",
    "\n",
    "axes[0].set_title(\"Full Image\")\n",
    "axes[0].imshow(image_array, cmap=Colormap(\"nanoscope\").get_cmap())\n",
    "axes[1].set_title(\"Cropped Region\")\n",
    "axes[1].imshow(image_array[700:, 700:], cmap=Colormap(\"nanoscope\").get_cmap())\n",
    "\n",
    "plt.savefig(outpath / \"double_image.png\")"
   ]
  },
  {
   "cell_type": "markdown",
   "id": "52f0079c-19b7-4ec0-9e05-d1b9b9ae1ed8",
   "metadata": {},
   "source": [
    "You may notice that the colormap is _not_ the same across the two images, in the _Cropped Region_ the heights are now\n",
    "much brighter. In order to make these consistent there are two solutions...\n",
    "\n",
    "a) Obtain the minimum and maximum values from the full image.\n",
    "b) Obtain a normalised range from the full image."
   ]
  },
  {
   "cell_type": "code",
   "execution_count": null,
   "id": "821e33a1-301d-449c-b379-2a29d66095d2",
   "metadata": {},
   "outputs": [],
   "source": [
    "# Get vmin/vmax values directly\n",
    "vmin = image_array.min()\n",
    "vmax = image_array.max()\n",
    "\n",
    "figure, axes = plt.subplots(nrows=1, ncols=2, figsize=(16, 8))\n",
    "\n",
    "axes[0].set_title(\"Full Image\")\n",
    "axes[0].imshow(image_array, cmap=Colormap(\"nanoscope\").get_cmap(), vmin=vmin, vmax=vmax)\n",
    "axes[1].set_title(\"Cropped Region\")\n",
    "axes[1].imshow(image_array[700:, 700:], cmap=Colormap(\"nanoscope\").get_cmap(), vmin=vmin, vmax=vmax)\n",
    "\n",
    "\n",
    "plt.savefig(outpath / \"double_image_standardised_colour.png\")"
   ]
  },
  {
   "cell_type": "code",
   "execution_count": null,
   "id": "fdc017bb-8216-4a59-a8dd-807e55e02ee9",
   "metadata": {},
   "outputs": [],
   "source": [
    "# Normalize the colour range\n",
    "norm = mcolors.Normalize(vmin=image_array.min(), vmax=image_array.max())\n",
    "\n",
    "figure, axes = plt.subplots(nrows=1, ncols=2, figsize=(16, 8))\n",
    "\n",
    "axes[0].set_title(\"Full Image\")\n",
    "axes[0].imshow(image_array, cmap=Colormap(\"nanoscope\").get_cmap(), norm=norm)\n",
    "axes[1].set_title(\"Cropped Region\")\n",
    "axes[1].imshow(image_array[700:, 700:], cmap=Colormap(\"nanoscope\").get_cmap(), norm=norm)\n",
    "\n",
    "plt.savefig(outpath / \"double_image_normalised_colour.png\")"
   ]
  },
  {
   "cell_type": "markdown",
   "id": "5790b98f-eda9-4fb4-9f2d-161564658157",
   "metadata": {},
   "source": [
    "And of course you can extend this to plot more regions, here we set up a 2x2 grid by virtue of `nrows=2` and\n",
    "`ncols=2`. Because this is a 2-d array, as with Numpy arrays we need to index both dimensions, this is done with\n",
    "`axes[0,0]` for the first row and column, `axes[0,1]` for the first row and second column, then the second row has\n",
    "`axes[1,0]` for the first column and `axes[1,1]` for the second column.\n",
    "\n",
    "We select different regions for each cell and again normalise the colour scale.\n"
   ]
  },
  {
   "cell_type": "code",
   "execution_count": null,
   "id": "39c98143-7a37-4943-8a10-6ac93d24020b",
   "metadata": {},
   "outputs": [],
   "source": [
    "# Normalize the colour range\n",
    "norm = mcolors.Normalize(vmin=image_array.min(), vmax=image_array.max())\n",
    "\n",
    "\n",
    "figure, axes = plt.subplots(nrows=2, ncols=2, figsize=(16, 16))\n",
    "\n",
    "axes[0, 0].set_title(\"Full Image\")\n",
    "axes[0, 0].imshow(image_array, cmap=Colormap(\"nanoscope\").get_cmap(), norm=norm)\n",
    "axes[0, 1].set_title(\"Cropped Region 1\")\n",
    "axes[0, 1].imshow(image_array[700:, 700:], cmap=Colormap(\"nanoscope\").get_cmap(), norm=norm)\n",
    "axes[1, 0].set_title(\"Cropped Region 2\")\n",
    "axes[1, 0].imshow(image_array[:250, :250], cmap=Colormap(\"nanoscope\").get_cmap(), norm=norm)\n",
    "axes[1, 1].set_title(\"Cropped Region 3\")\n",
    "axes[1, 1].imshow(image_array[350:550, 600:800], cmap=Colormap(\"nanoscope\").get_cmap(), norm=norm)\n",
    "\n",
    "# Set axes labels on the outside only\n",
    "for ax in axes.flat:\n",
    "    ax.set(xlabel=\"Nanometres\", ylabel=\"Nanometres\")\n",
    "\n",
    "plt.savefig(outpath / \"double_image_normalised_colour.png\")"
   ]
  },
  {
   "cell_type": "markdown",
   "id": "00a75811-cc97-4b52-a23b-2649f9c864ce",
   "metadata": {},
   "source": [
    "# Going Further\n",
    "\n",
    "This Notebook has been a short introduction to the vast array of options that are available for plotting your image scan\n",
    "data. There are a _lot_ of options and it is not practical to translate all of these options into configuration options\n",
    "to TopoStats, nor is repeatedly running scripts to generate the exact image you want.\n",
    "\n",
    "Hopefully the examples introduced above are useful to get you started. More documentation on plotting with Matplotlib\n",
    "are available at the following links. \n",
    "\n",
    "* [Matplotlib — Visualization with Python](https://matplotlib.org/)\n",
    "* [Image tutorial — Matplotlib\n",
    "  documentation](https://matplotlib.org/stable/tutorials/introductory/images.html#sphx-glr-tutorials-introductory-images-py)\n",
    "* [Creating multiple subplots using plt.subplots — Matplotlib\n",
    "  documentation](https://matplotlib.org/stable/gallery/subplots_axes_and_figures/subplots_demo.html)\n",
    "* [StackOverflow - Matplotlib](https://stackoverflow.com/questions/tagged/matplotlib) A Q&A forum where a lot of\n",
    "  questions about using Matplotlib have been asked.\n",
    "  \n",
    "If you have questions please feel free to ask in the [Plotting\n",
    "Discussions](https://github.com/AFM-SPM/TopoStats/discussions/categories/plotting) section on GitHub.\n"
   ]
  }
 ],
 "metadata": {
  "kernelspec": {
   "argv": [
    "python",
    "-m",
    "ipykernel_launcher",
    "-f",
    "{connection_file}"
   ],
   "display_name": "Python 3 (ipykernel)",
   "env": null,
   "interrupt_mode": "signal",
   "language": "python",
   "metadata": {
    "debugger": true
   },
   "name": "python3"
  },
  "name": "03-Plotting-scans.ipynb"
 },
 "nbformat": 4,
 "nbformat_minor": 5
}
