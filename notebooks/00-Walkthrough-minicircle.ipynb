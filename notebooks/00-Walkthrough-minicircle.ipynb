{
 "cells": [
  {
   "cell_type": "markdown",
   "id": "dc681ed4-087e-45a1-9f55-91d23bcd42de",
   "metadata": {},
   "source": [
    "# TopoStats - Minicircle Walk-Through\n",
    "\n",
    "Welcome, this [Jupyter Notebook](https://jupyter.org/) will take you through processing `minicricle.spm`"
   ]
  },
  {
   "cell_type": "markdown",
   "id": "2b595bc8-ac74-4182-8ff4-3a8df0a384c7",
   "metadata": {},
   "source": [
    "## Installing TopoStats\n",
    "\n",
    "There are several different ways of installing TopoStats depending on what you want to do. The simplest is to install\n",
    "from GitHub under a virtual environment.\n",
    "\n",
    "```bash\n",
    "pip install git+https://github.com/AFM-SPM/TopoStats.git@<branch>\n",
    "```\n",
    "\n",
    "For more information on the different ways of installing TopoStats and setting up Virtual Environments please refer to\n",
    "[installation](https://afm-spm.github.io/TopoStats/installation.html).\n",
    "\n"
   ]
  },
  {
   "cell_type": "markdown",
   "id": "1f177fe5-986c-4b83-ab2d-65d6a64a9298",
   "metadata": {},
   "source": [
    "### Running in Colab\n",
    "\n",
    "If you are running this Notebook in [Google Colab](https://colab.research.google.com/) then you will have to execute the\n",
    "following cell in order to install TopoStats."
   ]
  },
  {
   "cell_type": "code",
   "execution_count": null,
   "id": "24fd5f12-905b-4db2-8a6e-7c3774b0dec9",
   "metadata": {},
   "outputs": [],
   "source": [
    "pip install git+https://github.com/AFM-SPM/TopoStats.git@ns-rse/242a-notebooks"
   ]
  },
  {
   "cell_type": "markdown",
   "id": "c67d027d-4fee-4dba-85e0-624d99850ed6",
   "metadata": {},
   "source": [
    "## Getting Started\n"
   ]
  },
  {
   "cell_type": "markdown",
   "id": "9fe935a6-591d-45fb-a65b-83087e320842",
   "metadata": {},
   "source": [
    "### Loading Libraries and Modules\n",
    "\n",
    "TopoStats is written as a series of modules with various classes and functions. In order to use these interactively we\n",
    "need to `import` them."
   ]
  },
  {
   "cell_type": "code",
   "execution_count": null,
   "id": "ec97eb28-ac26-449b-b419-fa89873e0ef7",
   "metadata": {},
   "outputs": [],
   "source": [
    "import json\n",
    "from pathlib import Path\n",
    "\n",
    "import matplotlib.pyplot as plt\n",
    "import numpy as np\n",
    "\n",
    "from topostats.filters import Filters\n",
    "from topostats.grains import Grains\n",
    "from topostats.grainstats import GrainStats\n",
    "from topostats.io import find_files, read_yaml, write_yaml, LoadScans\n",
    "from topostats.logs.logs import setup_logger, LOGGER_NAME\n",
    "from topostats.plottingfuncs import Images\n",
    "from topostats.tracing.dnatracing import dnaTrace, traceStats\n",
    "from topostats.utils import update_config"
   ]
  },
  {
   "cell_type": "markdown",
   "id": "457ad967-c73f-4ddf-9ca7-c1dfa5c5c258",
   "metadata": {},
   "source": [
    "## Finding Files\n",
    "\n",
    "TopoStats needs to find files to process and the `find_images()` function helps here. It takes as a argument the\n",
    "directory path that should be searched and the file extension to look for (currently only `.spm` is supported) and\n",
    "returns a list of all files that are found that have that file extension in the specified directory."
   ]
  },
  {
   "cell_type": "code",
   "execution_count": null,
   "id": "735af109-2885-44d4-9064-01b4dd93cd40",
   "metadata": {},
   "outputs": [],
   "source": [
    "# Set the base directory to be current working directory of the Notebook\n",
    "BASE_DIR = Path().cwd()\n",
    "FILE_EXT = \".spm\"\n",
    "# Search for *.spm files in this directory\n",
    "spm_files = find_files(base_dir=BASE_DIR.parent / \"tests\", file_ext=FILE_EXT)"
   ]
  },
  {
   "cell_type": "markdown",
   "id": "090aa036-2792-441b-914c-038073ee616a",
   "metadata": {},
   "source": [
    "`spm_files` is a list of images that match and we can look at that list."
   ]
  },
  {
   "cell_type": "code",
   "execution_count": null,
   "id": "fbc024de-7cdc-4fe6-8863-c855a7d3a658",
   "metadata": {},
   "outputs": [],
   "source": [
    "spm_files"
   ]
  },
  {
   "cell_type": "markdown",
   "id": "7a8d7ab3-7b45-4d5d-af39-ce0465742f05",
   "metadata": {},
   "source": [
    "If you wish to search for files in a different directory such as `/home/user/work/my_scans` then you should adapt the\n",
    "above.\n",
    "\n",
    "```python\n",
    "BASE_DIR = Path(\"/home/user/work/my_scans\")\n",
    "FILE_EXT = \".spm\"\n",
    "spm_files = find_images(base_dir=BASE_DIR, file_ext=FILE_EXT)\n",
    "```\n"
   ]
  },
  {
   "cell_type": "markdown",
   "id": "9702d05e-31bd-4321-904f-af7642739c26",
   "metadata": {},
   "source": [
    "## Loading a Configuration\n",
    "\n",
    "You can specify all options explicitly by hand when instantiating classes or calling methods/functions. However when run\n",
    "at the command line in batch mode TopoStats loads these options from a [YAML](https://yaml.org/) configuration file and it is worth\n",
    "understanding the structure of this file and how it is used.\n",
    "\n",
    "A trimmed version is shown below. The words that come before the colon `:` are the option, e.g. `base_dir:` is the base\n",
    "directory that is searched for files, what comes after is the value, in this case `./tests/`\n",
    "\n",
    "\n",
    "```yaml\n",
    "base_dir: ./\n",
    "output_dir: ./output\n",
    "warnings: ignore\n",
    "cores: 2\n",
    "quiet: false\n",
    "file_ext: .spm\n",
    "loading:\n",
    "  channel: Height\n",
    "filter:\n",
    "  run: true # Options : true, false\n",
    "  row_alignment_quantile: 0.5 # Lower values may improve flattening of larger features\n",
    "  threshold_method: std_dev # Options : otsu, std_dev, absolute\n",
    "  otsu_threshold_multiplier: 1.0\n",
    "  threshold_std_dev:\n",
    "    lower: 10.0\n",
    "    upper: 1.0\n",
    "  threshold_absolute:\n",
    "    lower: -1.0\n",
    "    upper: 1.0\n",
    "  gaussian_size: 1.0121397464510862 # in px\n",
    "  gaussian_mode: nearest\n",
    "  remove_scars:\n",
    "    run: true\n",
    "    removal_iterations: 2\n",
    "    threshold_low: 0.250\n",
    "    threshold_high: 0.666\n",
    "    max_scar_width: 4\n",
    "    min_scar_length: 16\n",
    "grains:\n",
    "  run: true # Options : true, false\n",
    "  # Thresholding by height\n",
    "  threshold_method: std_dev # Options : std_dev, otsu, absolute\n",
    "  otsu_threshold_multiplier: 1.0\n",
    "  threshold_std_dev:\n",
    "    lower: 10.0\n",
    "    upper: 1.0\n",
    "  threshold_absolute:\n",
    "    lower: -1.0\n",
    "    upper: 1.0\n",
    "  direction: upper # Options: upper, lower, both (defines whether to look for grains above or below thresholds or both)\n",
    "  # Thresholding by area\n",
    "  smallest_grain_size_nm2: 50 # Size in nm^2 of tiny grains/blobs (noise) to remove, must be > 0.0\n",
    "  absolute_area_threshold:\n",
    "    upper: [ 300, 3000 ] # above surface [Low, High] in nm^2 (also takes null)\n",
    "    lower: [ null, null ] # below surface [Low, High] in nm^2 (also takes null)\n",
    "grainstats:\n",
    "  run: true # Options : true, false\n",
    "  edge_detection_method: binary_erosion # Options: canny, binary erosion. Do not change this unless you are sure of what this will do.\n",
    "  cropped_size: 40.0 # Length (in nm) of square cropped images (can take -1 for grain-sized box)\n",
    "dnatracing:\n",
    "  run: true # Options : true, false\n",
    "plotting:\n",
    "  run: true # Options : true, false\n",
    "  save_format: png # Options : see https://matplotlib.org/stable/api/_as_gen/matplotlib.pyplot.savefig.html\n",
    "  image_set: core  # Options : all, core\n",
    "  zrange: [null, null]  # low and high height range for core images (can take [null, null])\n",
    "  colorbar: true  # Options : true, false\n",
    "  axes: true # Options : true, false (due to off being a bool when parsed)\n",
    "  cmap: nanoscope # Options : nanoscope, afmhot, gwyddion\n",
    "  mask_cmap: blu # Options : blu, jet_r and any in matplotlib\n",
    "  histogram_log_axis: false # Options : true, false\n",
    "  histogram_bins: 200 # Number of bins for histogram plots to use\n",
    "summary_stats:\n",
    "  run: true\n",
    "  config: null\n",
    "```\n",
    "\n",
    "To load the configuration file into Python we use the `read_yaml()` function. This saves the options as a dictionary and\n",
    "we can access values by the keys. The example below prints out the top-levels keys and then the keys for the `filter`\n",
    "configuration. \n",
    "\n",
    "**NB** Python dictionaries have keys which can be considered as the parameter that is to be configured and each key has\n",
    "an associated value which is the value you wish to set the parameter to."
   ]
  },
  {
   "cell_type": "code",
   "execution_count": null,
   "id": "138ab1a0-888f-4631-92cd-4e026182b8d7",
   "metadata": {},
   "outputs": [],
   "source": [
    "from topostats.io import read_yaml\n",
    "config = read_yaml(BASE_DIR.parent / \"topostats\" / \"default_config.yaml\")\n",
    "print(f\"Top level keys of config.ymal : \\n\\n {config.keys()}\\n\")\n",
    "print(f\"Configuration options for Filter : \\n\\n {config['filter'].keys()}\")"
   ]
  },
  {
   "cell_type": "markdown",
   "id": "2d65ca8b-6abe-48ef-8b01-c098fee42f2a",
   "metadata": {},
   "source": [
    "You can look at all of the options using the `json` package to \"pretty\" print the dictionary which makes it easier to\n",
    "read. Here we print the `filter` section. You can see the options map to those of the `Filter()` class with an\n",
    "additional `\"run\": true` which is used when running TopoStats at the command line."
   ]
  },
  {
   "cell_type": "code",
   "execution_count": null,
   "id": "5cc7d226-1c55-4922-8629-8d011dceb36a",
   "metadata": {},
   "outputs": [],
   "source": [
    "print(json.dumps(config[\"filter\"], indent=4))"
   ]
  },
  {
   "cell_type": "markdown",
   "id": "c4244a01-43c9-440f-a497-27485806a65e",
   "metadata": {},
   "source": [
    "We will use the configuration options we have loaded in processing the `minicircle.spm` image. For convenience we save\n",
    "each set of options to their own dictionary and remove the `run` entry as this is not required when running TopoStats\n",
    "interactively.\n"
   ]
  },
  {
   "cell_type": "code",
   "execution_count": null,
   "id": "2ef8e6f7-cee9-4e1e-a99d-7a431d8419bb",
   "metadata": {},
   "outputs": [],
   "source": [
    "loading_config = config[\"loading\"]\n",
    "filter_config = config[\"filter\"]\n",
    "filter_config.pop(\"run\")\n",
    "grain_config = config[\"grains\"]\n",
    "grain_config.pop(\"run\")\n",
    "grainstats_config = config[\"grainstats\"]\n",
    "grainstats_config.pop(\"run\")\n",
    "dnatracing_config = config[\"dnatracing\"]\n",
    "dnatracing_config.pop(\"run\")\n",
    "plotting_config = config[\"plotting\"]\n",
    "plotting_config.pop(\"run\")"
   ]
  },
  {
   "cell_type": "markdown",
   "id": "936bc985-0c5b-45ca-89bc-6937145c09d2",
   "metadata": {},
   "source": [
    "## Load Scans\n",
    "\n",
    "The first step before processing is to load a scan, this extracts the image data to a Numpy array along with the\n",
    "filepath and the pixel to nanometer scaling parameter which is used to correctly scale the pixels to images. These are\n",
    "stored in nested dictionaries with one top-level entry for each image that is found."
   ]
  },
  {
   "cell_type": "code",
   "execution_count": null,
   "id": "a3adfe6f-2d36-40eb-a9ef-71492c74d04a",
   "metadata": {},
   "outputs": [],
   "source": [
    "all_scan_data = LoadScans(spm_files, **config[\"loading\"])\n",
    "all_scan_data.get_data()\n",
    "all_scan_data.img_dict"
   ]
  },
  {
   "cell_type": "markdown",
   "id": "9f8a8b94-aaf0-4943-990c-801bd05aeb49",
   "metadata": {},
   "source": [
    "Now that we have loaded the data we can start to process it. The first step is filtering the image."
   ]
  },
  {
   "cell_type": "markdown",
   "id": "df6cf4a8-771d-4176-9d4a-9133c5c35cad",
   "metadata": {},
   "source": [
    "## Filter Image\n",
    "\n",
    "Now that we have found some images the first step in processing is to filter them to remove some of the noise. This is\n",
    "achieved using the `Filters()` class.  There are number of options that we need to specify which are described in the\n",
    "table below and also in the [documentation](https://topostats.readthedocs.io/en/dev/topostats.filters.html). \n",
    "\n",
    "If you look carefully you will see there is mostly a one-to-one mapping between the options and the keys in the\n",
    "configuration dictionary. \n",
    "\n",
    "| Option                      | Type               | Description                                   | Default |\n",
    "|:----------------------------|:-------------------|:----------------------------------------------|:--------|\n",
    "| `img_path`                  | `Union[str, Path]` | The path to the image that is to be filtered. |         |\n",
    "| `threshold_method`          | `str`              |                                               |         |\n",
    "| `otsu_threshold_multiplier` | `float`            |                                               | 1.7     |\n",
    "| `threshold_std_dev`         | `float`            |                                               | None    |\n",
    "| `threshold_absolute_lower`  | `float`            |                                               | None    |\n",
    "| `threshold_absolute_upper`  | `float`            |                                               | None    |\n",
    "| `channel`                   | `str`              |                                               |         |\n",
    "| `amplify_level`             | `float`            |                                               | `None`  |\n",
    "| `output_dir`                | `Union[str, Path]` |                                               | `None`  |\n",
    "| `quiet`                     | `bool`             |                                               | `False` |\n",
    "\n",
    "One of the key fields you may wish to change is the `channel`.\n",
    "\n",
    "Once we setup a `Filters` object we can call the different methods that are available for it. There are lots of\n",
    "different methods that carry out the different steps but for convenience the `filter_image()` method runs all these.\n",
    "\n",
    "The following section instantiates (\"sets up\") an object called `filtered_image` of type `Filters` using the first file\n",
    "found (`spm_files[0]`) and the various options from the dictionary `filter_config` dictionary.\n"
   ]
  },
  {
   "cell_type": "code",
   "execution_count": null,
   "id": "079d63e6-de86-47f9-afee-5cb85cef67e7",
   "metadata": {},
   "outputs": [],
   "source": [
    "from topostats.filters import Filters\n",
    "filtered_image = Filters(image=all_scan_data.img_dic[\"minicircle\"][\"image\"],\n",
    "                         filename=all_scan_data.img_dic[\"minicircle\"][\"img_path\"],\n",
    "                         pixel_to_nm_scaling=all_scan_data.img_dic[\"minicircle\"][\"px_2_nm\"],\n",
    "                         row_alignment_quantile=filter_config[\"row_alignment_quantile\"],\n",
    "                         threshold_method=filter_config[\"threshold_method\"],\n",
    "                         otsu_threshold_multiplier=filter_config[\"otsu_threshold_multiplier\"],\n",
    "                         threshold_std_dev=filter_config[\"threshold_std_dev\"],\n",
    "                         threshold_absolute=filter_config[\"threshold_absolute\"],\n",
    "                         gaussian_size=filter_config[\"gaussian_size\"],\n",
    "                         gaussian_mode=filter_config[\"gaussian_mode\"],\n",
    "                         remove_scars=filter_config[\"remove_scars\"])\n",
    "\n",
    "\n",
    "# NB - Because of the one-to-one mapping of configuration options to Filters() options we can use keyword arguments to\n",
    "#      unpack the options, the below is the same as explicitly stating the values you want to map.\n",
    "filtered_image = Filters(image=all_scan_data.img_dic[\"minicircle\"][\"image\"],\n",
    "                         filename=all_scan_data.img_dic[\"minicircle\"][\"img_path\"],\n",
    "                         pixel_to_nm_scaling=all_scan_data.img_dic[\"minicircle\"][\"px_2_nm\"],\n",
    "                         **filter_config)\n",
    "filtered_image.filter_image()\n"
   ]
  },
  {
   "cell_type": "markdown",
   "id": "03e5ca8f-2e28-4ada-9209-6c3786abc9ec",
   "metadata": {},
   "source": [
    "The `filtered_image` now has a a number of NumPy arrays saved in the `.images` dictionary that can be accessed and plotted. To view\n",
    "the names of the images (technically the dictionary keys) you can print them with `filter_image.images.keys()`..."
   ]
  },
  {
   "cell_type": "code",
   "execution_count": null,
   "id": "b7b50fdf-befc-44af-906a-89c2facc6f90",
   "metadata": {},
   "outputs": [],
   "source": [
    "print(f\"Available NumPy arrays to plot in filter_image.images dictionary :\\n\\n{filtered_image.images.keys()}\")"
   ]
  },
  {
   "cell_type": "markdown",
   "id": "f0df4544-db43-410f-8e93-ba1f1038c9d1",
   "metadata": {},
   "source": [
    "To plot the raw extracted pixels you can use the built-in NumPy method `imshow()`.\n"
   ]
  },
  {
   "cell_type": "code",
   "execution_count": null,
   "id": "0ade9111-82ff-49cf-a653-114801461f73",
   "metadata": {},
   "outputs": [],
   "source": [
    "fig, ax = plt.subplots(figsize=(8,8))\n",
    "plt.imshow(filtered_image.images[\"pixels\"], cmap='hot')\n",
    "plt.show()"
   ]
  },
  {
   "cell_type": "markdown",
   "id": "4d615afe-8b85-4a49-a309-6247077b8881",
   "metadata": {},
   "source": [
    "TopoStats includes a custom plotting class `Images`  which formats plots in a more familiar manner.\n",
    "\n",
    "It has a number of options, please refer to the official documentation on\n",
    "[configuration](https://afm-spm.github.io/TopoStats/configuration.html) under the `plotting` entry for what these values\n",
    "are or the [API\n",
    "reference](https://afm-spm.github.io/TopoStats/topostats.plottingfuncs.html#module-topostats.plottingfuncs).\n",
    "\n",
    "The class requires a Numpy array, which we have just generated many of during the various filtering stages, and a number\n",
    "of options. Again for convenience we use the `**plotting_config` notation to unpack the key/value pairs stored in the\n",
    "`plotting_config` dictionary.\n",
    "\n",
    "\n"
   ]
  },
  {
   "cell_type": "code",
   "execution_count": null,
   "id": "d37dc807-4422-4d33-8f18-6c4f228bf83f",
   "metadata": {},
   "outputs": [],
   "source": [
    "## TODO - Not getting fig, ax returned by plot_and_save()?\n",
    "fig, ax = Images(data=filtered_image.images[\"pixels\"],\n",
    "                        filename=filtered_image.filename,\n",
    "                        output_dir=\"img/\",                   \n",
    "                        save=True,\n",
    "                        **plotting_config).plot_and_save()\n",
    "fig"
   ]
  },
  {
   "cell_type": "markdown",
   "id": "17aec3b3-b6b7-464d-8f8f-bafe98b5d2bb",
   "metadata": {},
   "source": [
    "Here we plot the image after processing and zero-averaging the background but with the `viridis` palette and\n",
    "constraining the `zrange` to be between 0 and 3"
   ]
  },
  {
   "cell_type": "code",
   "execution_count": null,
   "id": "0d32f5ef-b92e-4496-8f98-20739ff49eff",
   "metadata": {},
   "outputs": [],
   "source": [
    "## TODO - Not getting fig, ax returned by plot_and_save()?\n",
    "# First remove the current value for cmap in the plotting_config dictionary, otherwise an error occurs because the same\n",
    "# argument will have been specified twice.\n",
    "current_cmap = plotting_config.pop(\"cmap\")\n",
    "fig, ax = Images(data=filtered_image.images[\"pixels\"],\n",
    "                      filename=filtered_image.filename,\n",
    "                      output_dir=\"img/\",                   \n",
    "                      save=True,\n",
    "                      **plotting_config).plot_and_save()\n",
    "# Restore the value for cmap to the dictionary.\n",
    "plotting_config[\"cmap\"] = current_cmap\n",
    "fig"
   ]
  },
  {
   "cell_type": "markdown",
   "id": "dcd4a5d0-9eef-42e4-9b3c-e9a30679d932",
   "metadata": {},
   "source": [
    "## Finding Grains\n",
    "\n",
    "The next step in processing the image is to find grains. This is done using the `Grains` class and we have saved the\n",
    "configuration to the `grains_config` dictionary. For details of the arguments and their values please refer to the\n",
    "[configuration](https://afm-spm.github.io/TopoStats/configuration.html) and the [API\n",
    "reference](https://afm-spm.github.io/TopoStats/topostats.grains.html).\n",
    "\n",
    "The most important thing required for grain finding is the resulting image from the Filtering stage, however several\n",
    "other key variables are required. Again there is a one-to-one mapping between the options to the `Grains()` class and\n",
    "their values in the configuration file.\n",
    "\n",
    "The `pixel_to_nm_scaling` is one of several key variables, as is the `filename` and whilst you can specify these\n",
    "yourself explicitly they are available as properties of the `filtered_image` that we have processed. As with `Filters`\n",
    "the `Grains` class has a number of methods that carry out the grain finding, but there is a convenience method\n",
    "`find_grains()` which calls all these in the correct order."
   ]
  },
  {
   "cell_type": "code",
   "execution_count": null,
   "id": "78f9c783-7862-4bd1-b5d7-0d8264589be1",
   "metadata": {},
   "outputs": [],
   "source": [
    "from topostats.grains import Grains\n",
    "grains = Grains(image=filtered_image.images[\"zero_average_background\"],\n",
    "                filename=filtered_image.filename,\n",
    "                pixel_to_nm_scaling=filtered_image.pixel_to_nm_scaling,\n",
    "                threshold_method=grain_config[\"threshold_method\"],\n",
    "                otsu_threshold_multiplier=grain_config[\"otsu_threshold_multiplier\"],\n",
    "                threshold_std_dev=grain_config[\"threshold_std_dev\"],\n",
    "                threshold_absolute=grain_config[\"threshold_absolute\"],\n",
    "                direction=grain_config[\"direction\"],\n",
    "                smallest_grain_size_nm2=grain_config[\"smallest_grain_size_nm2\"],\n",
    "                )\n",
    "# NB - Again we can use the one-to-one mapping of configuration options in the grain_config we extracted.\n",
    "grains = Grains(image=filtered_image.images[\"zero_average_background\"],\n",
    "                filename=filtered_image.filename,\n",
    "                pixel_to_nm_scaling=filtered_image.pixel_to_nm_scaling,\n",
    "                **grain_config)\n",
    "grains.find_grains()\n"
   ]
  },
  {
   "cell_type": "markdown",
   "id": "eeb5d238-0315-4e02-8db8-ac49ee141447",
   "metadata": {},
   "source": [
    "The `grains` object now also contains a series of images in the `grains.images` dictionary that we can plot."
   ]
  },
  {
   "cell_type": "code",
   "execution_count": null,
   "id": "877afd6c-e8aa-437a-8478-c57548faecdc",
   "metadata": {},
   "outputs": [],
   "source": [
    "print(f\"Available NumPy arrays to plot in grains.images dictionary :\\n\\n{grains.images.keys()}\")"
   ]
  },
  {
   "cell_type": "markdown",
   "id": "4980c59e-fcdd-44b6-9d7f-97cd84b9d953",
   "metadata": {},
   "source": [
    "And we can again use the `plot_and_save()` function to plot these."
   ]
  },
  {
   "cell_type": "code",
   "execution_count": null,
   "id": "71ca9811-bf58-4fa3-8015-5c6be61f969e",
   "metadata": {},
   "outputs": [],
   "source": [
    "## TODO - Not getting fig, ax returned by plot_and_save()?\n",
    "fig, ax = Images(data=grains.images[\"objects_removed\"],\n",
    "                      filename=filtered_image.filename,\n",
    "                      output_dir=\"img/\",                   \n",
    "                      save=True,\n",
    "                      **plotting_config).plot_and_save()\n",
    "fig"
   ]
  },
  {
   "cell_type": "markdown",
   "id": "16e29698-4bd1-44ad-bd3b-dbc6d3744e08",
   "metadata": {},
   "source": [
    "### Thresholds\n",
    "\n",
    "The thresholds can be used in different ways based on the `direction` you want to detect grains. Typically for molecular\n",
    "imaging where the DNA or protein is raised above the background you will want to look for items above the `upper`\n",
    "threshold. When imaging silicon though you may be interested in items below a `lower` threshold. For convenience it is\n",
    "possible to look for grains that are `both` above the `upper` threshold and `lower` than the lower threshold.\n",
    "\n",
    "This is controlled using the `config[\"grains\"][\"direction\"]` configuration option which maps to the `Grains(direction=)`\n",
    "option and can take three values `lower`, `upper` or `both`.\n",
    "\n",
    "If you want to change the option you can update the `config[\"grains\"]` dictionary as we do below. You will see that now\n",
    "we are using `both` there is twice as much output as grains are detected above the reported upper Threshold (0.8064)\n",
    "_and_ below the reported lower Threshold (-0.5333)."
   ]
  },
  {
   "cell_type": "code",
   "execution_count": null,
   "id": "e7082188-5356-4674-98fe-301412cba6f0",
   "metadata": {},
   "outputs": [],
   "source": [
    "grain_config[\"direction\"] = \"both\"\n",
    "grains_both = Grains(image=filtered_image.images[\"zero_average_background\"],\n",
    "                filename=filtered_image.filename,\n",
    "                pixel_to_nm_scaling=filtered_image.pixel_to_nm_scaling,\n",
    "                **grain_config)\n",
    "grains.find_grains()\n"
   ]
  },
  {
   "cell_type": "markdown",
   "id": "a361f047-fe7d-4898-930e-cb3cbf99f495",
   "metadata": {},
   "source": [
    "There above method is using `threshold_method=\"std_dev\"` defined in the configuration file we loaded. This calculates the\n",
    "mean and standard deviation of height across the whole image and then determines the threshold by scaling the standard\n",
    "deviation by a given factor (defined by `threshold_std_dev`) and adding it to the mean to give the `upper` threshold\n",
    "and/or subtracting if from the mean to give the `lower` threshold.\n",
    "\n",
    "An alternative method is to use the `threshold_method=\"absolute\"`, set the `direction=upper` and explicitly state the\n",
    "`lower` and `upper` thresholds (although since we are only looking for objects above a given threshold only the `upper`\n",
    "value will be used). If you wish to specify values for both they are shown below."
   ]
  },
  {
   "cell_type": "code",
   "execution_count": null,
   "id": "3db1923c-97fb-4e08-b682-9b69d76345a1",
   "metadata": {},
   "outputs": [],
   "source": [
    "## ToDO - What are sensible values for minicircle here?\n",
    "grain_config[\"threshold_method\"] = \"absolute\"\n",
    "grain_config[\"direction\"] = \"upper\"\n",
    "grain_config[\"threshold_absolute\"][\"upper\"] = 0.01   # Change just the upper threshold\n",
    "grain_config[\"threshold_absolute\"][\"lower\"] = -2.0  # Change just the lower threshold\n",
    "grain_config[\"threshold_absolute\"][\"upper\"] = {\"lower\": -2.0, \"upper\": 1.2}  # Change just the both lower and upper threshold\n",
    "grains_absolute = Grains(image=filtered_image.images[\"zero_average_background\"],\n",
    "                filename=filtered_image.filename,\n",
    "                pixel_to_nm_scaling=filtered_image.pixel_to_nm_scaling,\n",
    "                **grain_config)\n",
    "grains_absolute.find_grains()"
   ]
  },
  {
   "cell_type": "markdown",
   "id": "7e8f2f83-f99c-4e9e-a6b2-4c2292cda3e9",
   "metadata": {},
   "source": [
    "This is important to know because you need to know where the resulting images are stored within the `Grains.direction`\n",
    "dictionary. This will have entries corresponding to the `direction` that grains have been searched for."
   ]
  },
  {
   "cell_type": "code",
   "execution_count": null,
   "id": "77fd8ac7-067c-4989-a41f-dfea8470f429",
   "metadata": {},
   "outputs": [],
   "source": [
    "print(f\"Grains available in original 'grains' (std_dev, upper) : {grains.directions.keys()}\")\n",
    "print(f\"Grains available in both (std_dev, both)               : {grains_both.directions.keys()}\")\n",
    "print(f\"Grains available in absolute (absolute, upper)         : {grains_absolute.directions.keys()}\")"
   ]
  },
  {
   "cell_type": "markdown",
   "id": "08fee325-0ad2-48a7-a332-7974890994d6",
   "metadata": {},
   "source": [
    "Each `direction` dictionary is a series of NumPy arrays representing the cleaned images and these can be plotted."
   ]
  },
  {
   "cell_type": "code",
   "execution_count": null,
   "id": "9b3a3f60-8c33-4ea9-aa2b-ecf659c52fee",
   "metadata": {},
   "outputs": [],
   "source": [
    "print(f\"Images available for plotting : {grains.directions['upper'].keys()}\")\n",
    "fig, ax = Images(data=grains.directions[\"upper\"][\"mask_grains\"],\n",
    "                 filename=filtered_image.filename,\n",
    "                 output_dir=\"img/\",                   \n",
    "                 save=True,\n",
    "                 **plotting_config).plot_and_save()\n",
    "fig"
   ]
  },
  {
   "cell_type": "code",
   "execution_count": null,
   "id": "039e871f-c630-401e-9d98-6b3265fd78cf",
   "metadata": {},
   "outputs": [],
   "source": [
    "fig, ax = Images(data=grains.directions[\"upper\"][\"removed_small_objects\"],\n",
    "                 filename=filtered_image.filename,\n",
    "                 output_dir=\"img/\",                   \n",
    "                 save=True,\n",
    "                 **plotting_config).plot_and_save()\n",
    "fig"
   ]
  },
  {
   "cell_type": "code",
   "execution_count": null,
   "id": "1e07ddee-059e-496b-be6f-6ba382cfafb1",
   "metadata": {},
   "outputs": [],
   "source": [
    "fig, ax = Images(data=grains.directions[\"upper\"][\"coloured_regions\"],\n",
    "                 filename=filtered_image.filename,\n",
    "                 output_dir=\"img/\",                   \n",
    "                 save=True,\n",
    "                 **plotting_config).plot_and_save()\n",
    "fig"
   ]
  },
  {
   "cell_type": "markdown",
   "id": "71ea42bd-234a-4e62-af19-d9900c1680aa",
   "metadata": {},
   "source": [
    "## Grain Statistics\n",
    "\n",
    "Now that grains have been found we can calculate statistics on each of the grains. This is done using the `GrainStats()`\n",
    "class. Again the configuration options from the YAML file map to those of the class and there is a convenience method\n",
    "`calculate_stats()` which will run all steps of grain finding. However, because the class is processing results that we\n",
    "have generated we have to explicitly pass in more values.\n",
    "\n",
    "For details of what the arguments are please refer to the [API\n",
    "reference](https://afm-spm.github.io/TopoStats/topostats.grainstats.html).\n",
    "\n",
    "The `GrainStats` class returns two objects, a Pandas `pd.DataFrame` of calculated statistics and a `list` of\n",
    "dictionaries containing the grain data to be plotted. We therefore instantiate (\"set-up\") the `grain_stats` dictionary\n",
    "to hold these results and unpack each to the keys `statistics` and `plots` respectively.\n",
    "\n"
   ]
  },
  {
   "cell_type": "code",
   "execution_count": null,
   "id": "b1de4c2c-b6df-4c0a-b829-d70111d31693",
   "metadata": {},
   "outputs": [],
   "source": [
    "grain_stats \n",
    "grainstats = GrainStats(data=filtered_image.images[\"gaussian_filtered\"],\n",
    "                        labelled_data=grains.directions[\"upper\"][\"labelled_regions_02\"],\n",
    "                        pixel_to_nanometre_scaling=filtered_image.pixel_to_nm_scaling,\n",
    "                        direction=\"upper\",\n",
    "                        base_output_dir=\"grains\",\n",
    "                        image_name=filtered_image.filename,\n",
    "                        **grainstats_config)\n",
    "# grain_stats[\"statistics\"], grain_stats[\"plots\"] = grainstats.calculate_stats()\n",
    "_temp = grainstats.calculate_stats()\n",
    "grain_stats = {\"statistics\": _temp[0], \"plots\": _temp[1]}"
   ]
  },
  {
   "cell_type": "markdown",
   "id": "893a3891-dbb9-45e5-9c7a-a3ee7160744d",
   "metadata": {},
   "source": [
    "The `statistics` is a [Pandas\n",
    "DataFrame](https://pandas.pydata.org/pandas-docs/stable/reference/api/pandas.DataFrame.html). We can print this out as\n",
    "shown below."
   ]
  },
  {
   "cell_type": "code",
   "execution_count": null,
   "id": "21a003a3-49ca-401c-9173-2c60ea56f329",
   "metadata": {},
   "outputs": [],
   "source": [
    "grain_stats[\"statistics\"]"
   ]
  },
  {
   "cell_type": "markdown",
   "id": "f2ebf89b-4e1e-4a8c-b1b7-bb9343f2c6ea",
   "metadata": {},
   "source": [
    "Further we can summarise the dataframe or a subset of varaibles."
   ]
  },
  {
   "cell_type": "code",
   "execution_count": null,
   "id": "ee090ac5-6023-4fdd-835a-e58ee184316a",
   "metadata": {},
   "outputs": [],
   "source": [
    "grain_stats[\"statistics\"][[\"smallest_bounding_width\", \"aspect_ratio\"]].describe()"
   ]
  },
  {
   "cell_type": "code",
   "execution_count": null,
   "id": "2132f7ef-79b5-47dc-8848-f32e617d85a0",
   "metadata": {},
   "outputs": [],
   "source": [
    "### Plotting Individual Grains\n",
    "\n",
    "It is possible to plot the individual grains in the same way that whole images are plotted. These are now stored as the\n",
    "`grain_stats[\"plots\"]` dictionary. We can find out how many grains there are either by looking at the number of rows\n",
    "reported when the statisics Pandas Data Frame was printed above or its summary (from `.describe()`), which reports the\n",
    "`count`.\n",
    "\n",
    "We can then plot any of these using the number indexing of the list. We using\n",
    "[f-strings](https://realpython.com/python-f-strings/) as the value for the argument `filename` to fill in the images\n",
    "filename automatically and append the `_grain#` for the image numbe we are plotting, in this example `0`. Try plotting\n",
    "#some other images."
   ]
  },
  {
   "cell_type": "code",
   "execution_count": null,
   "id": "1b0dcaf3-9e9b-468d-8596-2e613fda874b",
   "metadata": {},
   "outputs": [],
   "source": [
    "fig, ax = Images(data=grain_stats[\"plots\"][0],\n",
    "                 filename=f\"{filtered_image.filename}_grain0\",\n",
    "                 output_dir=\"img/\",                   \n",
    "                 save=True,\n",
    "                 **plotting_config).plot_and_save()\n",
    "fig"
   ]
  },
  {
   "cell_type": "markdown",
   "id": "b38127f7-9a6f-4970-b60e-0db2087e848f",
   "metadata": {},
   "source": [
    "## DNA Tracing\n",
    "\n",
    "When working with molecules it is possible to calculate DNA Tracing Statistics using the `dnaTrace` and `traceStats`\n",
    "classes.\n",
    "\n",
    "**NB** These classes are likely to undergo refactoring and change in the coming months, this Notebook will be updated\n",
    "in light of changes. Currently there are very few options that map to the configuration. For that reason the options are\n",
    "not currently detailed and described in this Notebook, although the [API\n",
    "Documentation](https://afm-spm.github.io/TopoStats/topostats.tracing.html) details them.\n",
    "\n",
    "Currently this is a two stage process\n",
    "\n",
    "1. `dnaTrace` traces molecules to produce a \"trace_object\".\n",
    "2. `traceStats` takes the \"trace_object\" and produces a Pandas DataFrame"
   ]
  },
  {
   "cell_type": "code",
   "execution_count": null,
   "id": "777e48e3-908c-46a9-8795-c9ca13234609",
   "metadata": {},
   "outputs": [],
   "source": [
    "dna_traces = dnaTrace(full_image_data=filtered_image.images[\"gaussian_filtered\"],\n",
    "                      grains=grains.directions[\"upper\"][\"labelled_regions_02\"],\n",
    "                      filename=grains.filename,\n",
    "                      pixel_size=grains.pixel_to_nm_scaling,\n",
    "                      **dnatracing_config)\n",
    "dna_traces.trace_dna()\n",
    "tracing_stats = traceStats(trace_object=dna_traces,\n",
    "                           image_path=spm_files[0])"
   ]
  },
  {
   "cell_type": "markdown",
   "id": "10e14df4-54a5-4e4b-807a-cdefd4563aa4",
   "metadata": {},
   "source": [
    "The resulting Pandas DataFrame is stored in the `df` attribute of the `traceStats` object, to view it we..."
   ]
  },
  {
   "cell_type": "code",
   "execution_count": null,
   "id": "68cfbdb3-1e8c-486a-9616-5453889f67e4",
   "metadata": {},
   "outputs": [],
   "source": [
    "tracing_stats.df"
   ]
  },
  {
   "cell_type": "code",
   "execution_count": null,
   "id": "7986391a-bea7-4aa4-9b95-43c68ea602c3",
   "metadata": {},
   "outputs": [],
   "source": []
  },
  {
   "cell_type": "markdown",
   "id": "7811717b-aa0e-4c03-b4b5-74223849b062",
   "metadata": {},
   "source": [
    "### Merge GrainStats and TracingStats\n",
    "\n",
    "Its reasonable to want to have a single data set with which we work and so we now merge the GrainStats data frame with\n",
    "the Tracing Statistics and then save them to CSV for subsequent use. The following saves them to the directory in which\n",
    "the Notebook is running with the filename `minicircle_example.csv`"
   ]
  },
  {
   "cell_type": "code",
   "execution_count": null,
   "id": "ec57f0f5-24a3-419d-9f49-a29749124767",
   "metadata": {},
   "outputs": [],
   "source": [
    "all_stats_df = grain_stats[\"statistics\"].merge(tracing_stats.df, on=[\"image\", \"molecule_number\"])\n",
    "all_stats_df.to_csv(\"minicircle_example.csv\")"
   ]
  },
  {
   "cell_type": "markdown",
   "id": "04fe3e9d-45c9-4171-92d1-699a72888b5a",
   "metadata": {},
   "source": [
    "These statistics now be plotted to show the distribution of the different metrics. Please see the Jupyter Notebook\n",
    "`notebooks/01-Summary-statistics-and-plots.ipynb` for examples of how to plot these statistics."
   ]
  }
 ],
 "metadata": {
  "kernelspec": {
   "display_name": "Python 3 (ipykernel)",
   "language": "python",
   "name": "python3"
  },
  "language_info": {
   "codemirror_mode": {
    "name": "ipython",
    "version": 3
   },
   "file_extension": ".py",
   "mimetype": "text/x-python",
   "name": "python",
   "nbconvert_exporter": "python",
   "pygments_lexer": "ipython3",
   "version": "3.10.9"
  },
  "name": "00-Walkthrough-minicircle.ipynb"
 },
 "nbformat": 4,
 "nbformat_minor": 5
}
