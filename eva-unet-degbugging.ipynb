{
 "cells": [
  {
   "cell_type": "code",
   "execution_count": null,
   "metadata": {},
   "outputs": [],
   "source": [
    "from pathlib import Path\n",
    "import numpy as np\n",
    "import matplotlib.pyplot as plt\n",
    "import keras\n",
    "\n",
    "from topostats.unet_masking import predict_unet, mean_iou, iou_loss\n",
    "from topostats.io import LoadScans"
   ]
  },
  {
   "cell_type": "code",
   "execution_count": null,
   "metadata": {},
   "outputs": [],
   "source": [
    "model_path = Path(\"/Users/sylvi/topo_data/eva-rna/test-running-model/eva_rna_model_40_epoch_simple_20250316.keras\")\n",
    "unet_model = keras.models.load_model(\n",
    "    model_path, custom_objects={\"mean_iou\": mean_iou, \"iou_loss\": iou_loss}, compile=False\n",
    ")\n",
    "\n",
    "data_dir = Path(\"/Users/sylvi/topo_data/eva-rna/test-running-model/output/processed\")\n",
    "files = data_dir.glob(\"*.topostats\")\n",
    "\n",
    "loadscans = LoadScans(\n",
    "    img_paths=files,\n",
    "    channel=\"dummy\",\n",
    ")\n",
    "loadscans.get_data()\n",
    "\n",
    "for filename, file_data in loadscans.img_dict.items():\n",
    "    print(f\"File: {filename}\")\n",
    "    print(file_data.keys())\n",
    "\n",
    "    image = file_data[\"image\"]\n",
    "    plt.imshow(image, cmap=\"gray\")\n",
    "\n",
    "    crop_size = 400\n",
    "    crop_x = 80\n",
    "    crop_y = 80\n",
    "    crop = image[crop_x : crop_x + crop_size, crop_y : crop_y + crop_size]\n",
    "    plt.imshow(crop, cmap=\"gray\")\n",
    "    plt.show()\n",
    "\n",
    "    # Predict the mask using the U-Net model\n",
    "    predicted_mask = predict_unet(\n",
    "        image=crop,\n",
    "        model=unet_model,\n",
    "        confidence=0.5,\n",
    "        model_input_shape=unet_model.input_shape,\n",
    "        upper_norm_bound=7.0,\n",
    "        lower_norm_bound=-1.0,\n",
    "    )\n",
    "\n",
    "    predicted_mask_foreground = predicted_mask[:, :, 1]\n",
    "\n",
    "    plt.imshow(predicted_mask_foreground, cmap=\"gray\")\n",
    "    plt.show()"
   ]
  }
 ],
 "metadata": {
  "kernelspec": {
   "display_name": "topo-unet",
   "language": "python",
   "name": "python3"
  },
  "language_info": {
   "codemirror_mode": {
    "name": "ipython",
    "version": 3
   },
   "file_extension": ".py",
   "mimetype": "text/x-python",
   "name": "python",
   "nbconvert_exporter": "python",
   "pygments_lexer": "ipython3",
   "version": "3.11.9"
  }
 },
 "nbformat": 4,
 "nbformat_minor": 2
}
