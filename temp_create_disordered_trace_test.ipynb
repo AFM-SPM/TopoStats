{
 "cells": [
  {
   "cell_type": "code",
   "execution_count": null,
   "metadata": {},
   "outputs": [],
   "source": [
    "from pathlib import Path\n",
    "\n",
    "import numpy as np\n",
    "import matplotlib.pyplot as plt\n",
    "from skimage.measure import label\n",
    "\n",
    "from topostats.filters import Filters\n",
    "from topostats.io import LoadScans\n",
    "from topostats.plottingfuncs import Colormap\n",
    "\n",
    "colormap = Colormap()\n",
    "cmap = colormap.get_cmap()"
   ]
  },
  {
   "cell_type": "code",
   "execution_count": null,
   "metadata": {},
   "outputs": [],
   "source": [
    "file_path = Path(\"/Users/sylvi/Downloads/20230818_p4cat_SC_mgni_3ng.0_00022.spm\")\n",
    "assert file_path.exists()\n",
    "\n",
    "loadscans = LoadScans(img_paths=[file_path], channel=\"Height\")\n",
    "loadscans.get_data()\n",
    "\n",
    "data = loadscans.img_dict\n",
    "print(data.keys())\n",
    "image_data = data[list(data.keys())[0]]\n",
    "print(image_data.keys())\n",
    "image_raw = image_data[\"image_original\"]\n",
    "p2nm = image_data[\"pixel_to_nm_scaling\"]\n",
    "print(f\"{p2nm=}\")\n",
    "print(f\"Shape: {image_raw.shape}\")\n",
    "\n",
    "plt.imshow(image_raw, cmap=cmap)\n",
    "plt.show()\n",
    "\n",
    "# Flatten the image\n",
    "filters = Filters(\n",
    "    image=image_raw,\n",
    "    filename=\"test\",\n",
    "    pixel_to_nm_scaling=p2nm,\n",
    "    row_alignment_quantile=0.5,\n",
    "    threshold_method=\"std_dev\",\n",
    "    threshold_std_dev={\"above\": 1.0, \"below\": 10.0},\n",
    "    gaussian_size=1.01,\n",
    "    gaussian_mode=\"nearest\",\n",
    "    remove_scars={\n",
    "        \"run\": False,\n",
    "    },\n",
    ")\n",
    "filters.filter_image()\n",
    "flattened_image = filters.images[\"gaussian_filtered\"]\n",
    "plt.imshow(flattened_image, cmap=cmap)\n",
    "plt.show()\n",
    "\n",
    "# Get the size of the image in bytes\n",
    "size_bytes = flattened_image.nbytes\n",
    "print(f\"{size_bytes=}\")\n",
    "# Convert to np.float16 to see if the size is smaller\n",
    "flattened_image_16 = flattened_image.astype(np.float16)\n",
    "size_bytes_16 = flattened_image_16.nbytes\n",
    "print(f\"{size_bytes_16=}\")\n",
    "\n",
    "print(f\"ratio: {size_bytes_16/size_bytes}\")\n",
    "\n",
    "# print a number from the 16 bit image to see what the precision is\n",
    "print(f\"16 bit image: {flattened_image_16[0,0]}\")\n",
    "print(f\"32 bit image: {flattened_image[0,0]}\")"
   ]
  },
  {
   "cell_type": "code",
   "execution_count": null,
   "metadata": {},
   "outputs": [],
   "source": [
    "# Grab a crop of the molecule\n",
    "crop_size_x = 330\n",
    "crop_size_y = 200\n",
    "crop_x = 135\n",
    "crop_y = 150\n",
    "crop = flattened_image_16[crop_y : crop_y + crop_size_y, crop_x : crop_x + crop_size_x]\n",
    "plt.imshow(crop, cmap=cmap)\n",
    "plt.show()"
   ]
  },
  {
   "cell_type": "code",
   "execution_count": null,
   "metadata": {},
   "outputs": [],
   "source": [
    "# Create a spliced image\n",
    "spliced_image = np.zeros((400, 400))\n",
    "spliced_image[0:crop_size_y, 0:crop_size_x] = crop\n",
    "rotated_crop = np.rot90(crop, k=2)\n",
    "plt.imshow(rotated_crop, cmap=cmap)\n",
    "plt.show()\n",
    "\n",
    "spliced_image[spliced_image.shape[0] - crop_size_y :, spliced_image.shape[1] - crop_size_x :] = rotated_crop\n",
    "\n",
    "plt.imshow(spliced_image, cmap=cmap)\n",
    "plt.show()"
   ]
  },
  {
   "cell_type": "code",
   "execution_count": null,
   "metadata": {},
   "outputs": [],
   "source": [
    "# Convert spliced image to 16 bit\n",
    "spliced_image_16 = spliced_image.astype(np.float16)\n",
    "np.save(\"./tests/resources/example_catenanes.npy\", spliced_image_16)"
   ]
  },
  {
   "cell_type": "code",
   "execution_count": null,
   "metadata": {},
   "outputs": [],
   "source": [
    "# Create grain mask for them\n",
    "grain_mask = (spliced_image_16 > 1.2).astype(np.bool_)\n",
    "# label the grains\n",
    "labelled_grain_mask = label(grain_mask)\n",
    "plt.imshow(labelled_grain_mask)\n",
    "plt.show()\n",
    "\n",
    "# Save the grain mask\n",
    "np.save(\"./tests/resources/example_catenanes_labelled_grain_mask_thresholded.npy\", labelled_grain_mask)"
   ]
  }
 ],
 "metadata": {
  "kernelspec": {
   "display_name": "topo-unet",
   "language": "python",
   "name": "python3"
  },
  "language_info": {
   "codemirror_mode": {
    "name": "ipython",
    "version": 3
   },
   "file_extension": ".py",
   "mimetype": "text/x-python",
   "name": "python",
   "nbconvert_exporter": "python",
   "pygments_lexer": "ipython3",
   "version": "3.11.9"
  }
 },
 "nbformat": 4,
 "nbformat_minor": 2
}
