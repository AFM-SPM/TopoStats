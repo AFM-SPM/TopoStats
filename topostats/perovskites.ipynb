{
 "cells": [
  {
   "cell_type": "code",
   "execution_count": null,
   "metadata": {},
   "outputs": [],
   "source": [
    "from pathlib import Path\n",
    "from loguru import logger\n",
    "\n",
    "from IPython.display import clear_output\n",
    "import numpy as np\n",
    "import matplotlib.pyplot as plt\n",
    "\n",
    "from topostats.io import LoadScans\n",
    "from topostats.filters import Filters\n",
    "from topostats.plottingfuncs import Colormap\n",
    "\n",
    "colormap = Colormap()\n",
    "CMAP = colormap.get_cmap()\n",
    "VMIN = None\n",
    "VMAX = None\n",
    "\n",
    "DATA_DIR = Path(\"/Users/sylvi/topo_data/perovskite/textured_silicon/\")\n",
    "files = list(DATA_DIR.glob(\"*\"))\n",
    "logger.info(f\"Found {len(files)} files in {DATA_DIR}\")\n",
    "for file in files:\n",
    "    logger.info(file)\n",
    "\n",
    "loadscans = LoadScans(files, channel=\"Height Sensor\")\n",
    "loadscans.get_data()\n",
    "image_dictionaries = loadscans.img_dict\n",
    "logger.info(f\"Loaded {len(image_dictionaries)} images\")"
   ]
  },
  {
   "cell_type": "code",
   "execution_count": null,
   "metadata": {},
   "outputs": [],
   "source": [
    "flattened_images = {}\n",
    "for filename, topostats_object in image_dictionaries.items():\n",
    "    filename = Path(filename).name\n",
    "    logger.info(f\"Flattening {filename}\")\n",
    "    filters = Filters(\n",
    "        image=topostats_object[\"image_original\"],\n",
    "        filename=filename,\n",
    "        pixel_to_nm_scaling=topostats_object[\"pixel_to_nm_scaling\"],\n",
    "        row_alignment_quantile=None,\n",
    "        threshold_method=None,\n",
    "        gaussian_size=0.01,\n",
    "        remove_scars={\n",
    "            \"run\": False,\n",
    "        },\n",
    "    )\n",
    "    filters.filter_image()\n",
    "    flattened_images[filename] = {\n",
    "        \"original_image\": topostats_object[\"image_original\"],\n",
    "        \"flattened_image\": filters.images[\"gaussian_filtered\"],\n",
    "        \"pixel_to_nm_scaling\": topostats_object[\"pixel_to_nm_scaling\"],\n",
    "    }\n",
    "clear_output()\n",
    "logger.info(f\"Flattened {len(flattened_images)} images\")"
   ]
  },
  {
   "cell_type": "code",
   "execution_count": null,
   "metadata": {},
   "outputs": [],
   "source": [
    "def plot_images(images: list, masks: list, px_to_nms: list, filenames: list, width=3, VMIN=VMIN, VMAX=VMAX, cmap=CMAP):\n",
    "    num_images = len(images)\n",
    "    num_rows = num_images // width + 1\n",
    "    num_images_in_batch = 2\n",
    "    fig, axes = plt.subplots(num_rows, width * num_images_in_batch, figsize=(width * 8, num_rows * 4))\n",
    "    for i, (image, mask, p_to_nm, filename) in enumerate(zip(images, masks, px_to_nms, filenames)):\n",
    "        # Plot image\n",
    "        im_ax = axes[i // width, i % width * num_images_in_batch]\n",
    "        im_ax.imshow(image, cmap=CMAP, vmin=VMIN, vmax=VMAX)\n",
    "        im_ax.set_title(f\"{p_to_nm:.3f} p/nm\\n{filename}\")\n",
    "        im_ax.axis(\"off\")\n",
    "        # Plot mask\n",
    "        mask_ax = axes[i // width, i % width * num_images_in_batch + 1]\n",
    "        mask_ax.imshow(mask.astype(int))\n",
    "        mask_ax.axis(\"off\")\n",
    "\n",
    "    fig.tight_layout()\n",
    "    plt.show()"
   ]
  },
  {
   "cell_type": "code",
   "execution_count": null,
   "metadata": {},
   "outputs": [],
   "source": [
    "logger.info(f\"{flattened_images.keys()}\")\n",
    "plot_images(\n",
    "    images=[flattened_images[filename][\"flattened_image\"] for filename in flattened_images.keys()],\n",
    "    masks=[np.zeros_like(flattened_images[filename][\"flattened_image\"]) for filename in flattened_images.keys()],\n",
    "    px_to_nms=[flattened_images[filename][\"pixel_to_nm_scaling\"] for filename in flattened_images.keys()],\n",
    "    filenames=[filename for filename in flattened_images.keys()],\n",
    ")"
   ]
  }
 ],
 "metadata": {
  "kernelspec": {
   "display_name": "topo-unet",
   "language": "python",
   "name": "python3"
  },
  "language_info": {
   "codemirror_mode": {
    "name": "ipython",
    "version": 3
   },
   "file_extension": ".py",
   "mimetype": "text/x-python",
   "name": "python",
   "nbconvert_exporter": "python",
   "pygments_lexer": "ipython3",
   "version": "3.11.9"
  }
 },
 "nbformat": 4,
 "nbformat_minor": 2
}
