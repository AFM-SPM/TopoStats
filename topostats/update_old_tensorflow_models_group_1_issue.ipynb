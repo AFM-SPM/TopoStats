{
 "cells": [
  {
   "cell_type": "code",
   "execution_count": 1,
   "id": "7447a5d8",
   "metadata": {},
   "outputs": [],
   "source": [
    "import h5py\n",
    "\n",
    "f = h5py.File(\n",
    "    \"/Users/sylvi/topo_data/topostats_2/models/updated-20230817_10-26-23_cats_512_b4_e50_hessian_upper_4_0.hdf5\", mode=\"r+\"\n",
    ")\n",
    "model_config_string = f.attrs.get(\"model_config\")\n",
    "if model_config_string.find('\"groups\": 1,') != -1:\n",
    "    model_config_string = model_config_string.replace('\"groups\": 1,', \"\")\n",
    "    f.attrs.modify(\"model_config\", model_config_string)\n",
    "    f.flush()\n",
    "    model_config_string = f.attrs.get(\"model_config\")\n",
    "    assert model_config_string.find('\"groups\": 1,') == -1\n",
    "\n",
    "f.close()"
   ]
  }
 ],
 "metadata": {
  "kernelspec": {
   "display_name": "topo2paper",
   "language": "python",
   "name": "python3"
  },
  "language_info": {
   "codemirror_mode": {
    "name": "ipython",
    "version": 3
   },
   "file_extension": ".py",
   "mimetype": "text/x-python",
   "name": "python",
   "nbconvert_exporter": "python",
   "pygments_lexer": "ipython3",
   "version": "3.11.9"
  }
 },
 "nbformat": 4,
 "nbformat_minor": 5
}
