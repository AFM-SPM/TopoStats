{
 "cells": [
  {
   "cell_type": "code",
   "execution_count": null,
   "metadata": {},
   "outputs": [],
   "source": [
    "from pathlib import Path\n",
    "\n",
    "import numpy as np\n",
    "import matplotlib.pyplot as plt\n",
    "import seaborn as sns"
   ]
  },
  {
   "cell_type": "code",
   "execution_count": null,
   "metadata": {},
   "outputs": [],
   "source": [
    "DATA_DIR = Path(\"/Users/sylvi/topo_data/hariborings/cas9_crops_p2nm/\")\n",
    "on_sc_angles = np.load(DATA_DIR / \"ON_SC_p2nm\" / \"output_plots\" / \"angle_differences_high_res_only.npy\")\n",
    "ot1_sc_angles = np.load(DATA_DIR / \"OT1_SC_p2nm\" / \"output_plots\" / \"angle_differences_high_res_only.npy\")\n",
    "ot2_sc_angles = np.load(DATA_DIR / \"OT2_SC_p2nm\" / \"output_plots\" / \"angle_differences_high_res_only.npy\")\n",
    "\n",
    "# Plot kde of the angles\n",
    "sns.kdeplot(on_sc_angles, label=f\"ON_SC n = {len(on_sc_angles)}\", shade=True)\n",
    "sns.kdeplot(ot1_sc_angles, label=f\"OT1_SC n = {len(ot1_sc_angles)}\", shade=True)\n",
    "sns.kdeplot(ot2_sc_angles, label=f\"OT2_SC n = {len(ot2_sc_angles)}\", shade=True)\n",
    "plt.xlabel(\"Binding angle (degrees) (high resolution data only (< 0.59 nm per pixel))\")\n",
    "plt.ylabel(\"Density\")\n",
    "plt.legend()"
   ]
  },
  {
   "cell_type": "code",
   "execution_count": null,
   "metadata": {},
   "outputs": [],
   "source": [
    "on_sc_min_feret = np.load(DATA_DIR / \"ON_SC_p2nm\" / \"output_plots\" / \"min_ferets_high_res_only.npy\")\n",
    "ot1_sc_min_feret = np.load(DATA_DIR / \"OT1_SC_p2nm\" / \"output_plots\" / \"min_ferets_high_res_only.npy\")\n",
    "ot2_sc_min_feret = np.load(DATA_DIR / \"OT2_SC_p2nm\" / \"output_plots\" / \"min_ferets_high_res_only.npy\")\n",
    "\n",
    "# Plot kde of the min ferets\n",
    "sns.kdeplot(on_sc_min_feret, label=f\"ON_SC n = {len(on_sc_min_feret)}\", shade=True)\n",
    "sns.kdeplot(ot1_sc_min_feret, label=f\"OT1_SC n = {len(ot1_sc_min_feret)}\", shade=True)\n",
    "sns.kdeplot(ot2_sc_min_feret, label=f\"OT2_SC n = {len(ot2_sc_min_feret)}\", shade=True)\n",
    "plt.xlabel(\"Min feret diameter (nm) (high resolution data only (< 0.59 nm per pixel))\")\n",
    "plt.ylabel(\"Density\")\n",
    "plt.legend()"
   ]
  }
 ],
 "metadata": {
  "kernelspec": {
   "display_name": "car-or-truck",
   "language": "python",
   "name": "python3"
  },
  "language_info": {
   "codemirror_mode": {
    "name": "ipython",
    "version": 3
   },
   "file_extension": ".py",
   "mimetype": "text/x-python",
   "name": "python",
   "nbconvert_exporter": "python",
   "pygments_lexer": "ipython3",
   "version": "3.9.16"
  }
 },
 "nbformat": 4,
 "nbformat_minor": 2
}
