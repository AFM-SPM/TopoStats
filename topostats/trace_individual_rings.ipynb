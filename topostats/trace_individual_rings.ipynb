{
 "cells": [
  {
   "cell_type": "code",
   "execution_count": null,
   "metadata": {},
   "outputs": [],
   "source": [
    "from pathlib import Path\n",
    "\n",
    "import numpy as np\n",
    "import matplotlib.pyplot as plt\n",
    "\n",
    "from topostats.grain_finding_haribo_unet import (\n",
    "    predict_unet,\n",
    "    load_model,\n",
    "    predict_unet_multiclass_and_get_angle,\n",
    "    mean_iou,\n",
    ")\n",
    "\n",
    "from topostats.haribonet_process_grain_bound import process_grain"
   ]
  },
  {
   "cell_type": "code",
   "execution_count": null,
   "metadata": {},
   "outputs": [],
   "source": [
    "# Load model\n",
    "model_path = \"./haribonet_multiclass_improved_norm_big_95_good2024-01-14_16-06-47.h5\"\n",
    "print(f\"Loading Unet model: {model_path}\")\n",
    "model = load_model(model_path=model_path, custom_objects={\"mean_iou\": mean_iou})\n",
    "print(f\"Loaded Unet model: {model_path}\")"
   ]
  },
  {
   "cell_type": "code",
   "execution_count": null,
   "metadata": {},
   "outputs": [],
   "source": [
    "# Get ring images\n",
    "DATA_DIR = Path(\"/Users/sylvi/topo_data/hariborings/cas9_crops_all/ON_SC/\")\n",
    "IMAGE_SAVE_DIR = DATA_DIR / \"output_plots\"\n",
    "IMAGE_SAVE_DIR.mkdir(exist_ok=True)\n",
    "\n",
    "image_files = sorted(DATA_DIR.glob(\"*.npy\"))\n",
    "print(f\"num images: {len(image_files)}\")"
   ]
  },
  {
   "cell_type": "code",
   "execution_count": null,
   "metadata": {},
   "outputs": [],
   "source": [
    "angles = []\n",
    "\n",
    "for file in image_files:\n",
    "    image = np.load(file)\n",
    "\n",
    "    try:\n",
    "        angle, predicted_ring_mask = process_grain(\n",
    "            cropped_image=image,\n",
    "            model=model,\n",
    "            grain_number=0,\n",
    "            IMAGE_SAVE_DIR=IMAGE_SAVE_DIR,\n",
    "            filename=file.stem,\n",
    "        )\n",
    "\n",
    "        angles.append(angle)\n",
    "    except Exception as e:\n",
    "        print(f\"Failed on {file}, {e}\")"
   ]
  },
  {
   "cell_type": "code",
   "execution_count": null,
   "metadata": {},
   "outputs": [],
   "source": [
    "# Plot angles as a kde\n",
    "\n",
    "import seaborn as sns\n",
    "\n",
    "sns.distplot(angles, bins=100)\n",
    "plt.xlabel(\"Angle (degrees)\")\n",
    "plt.ylabel(\"Density\")\n",
    "plt.title(\"Angle distribution for Haribo rings\")\n",
    "plt.savefig(IMAGE_SAVE_DIR / \"angle_distribution.png\")\n",
    "plt.show()\n",
    "\n",
    "# Save the angles to a file\n",
    "np.save(IMAGE_SAVE_DIR / \"angles.npy\", angles)"
   ]
  }
 ],
 "metadata": {
  "kernelspec": {
   "display_name": "car-or-truck",
   "language": "python",
   "name": "python3"
  },
  "language_info": {
   "codemirror_mode": {
    "name": "ipython",
    "version": 3
   },
   "file_extension": ".py",
   "mimetype": "text/x-python",
   "name": "python",
   "nbconvert_exporter": "python",
   "pygments_lexer": "ipython3",
   "version": "3.9.16"
  }
 },
 "nbformat": 4,
 "nbformat_minor": 2
}
