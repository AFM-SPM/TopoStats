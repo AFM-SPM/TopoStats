{
 "cells": [
  {
   "cell_type": "code",
   "execution_count": 2,
   "metadata": {},
   "outputs": [],
   "source": [
    "import numpy as np\n",
    "import matplotlib.pyplot as plt\n",
    "import pytest\n",
    "import ipytest\n",
    "from random import randint\n",
    "from skimage.morphology import label\n",
    "from skimage.measure import regionprops"
   ]
  },
  {
   "attachments": {},
   "cell_type": "markdown",
   "metadata": {},
   "source": [
    "## Get centroids from binary image"
   ]
  },
  {
   "cell_type": "code",
   "execution_count": 4,
   "metadata": {},
   "outputs": [],
   "source": [
    "def get_points(binary_img) -> tuple:\n",
    "    labelled = label(binary_img)\n",
    "    regions = regionprops(labelled)\n",
    "    points = np.ndarray((len(regions), 2))\n",
    "    for props_index, props in enumerate(regions):\n",
    "        points[props_index, :] = props.centroid\n",
    "    \n",
    "    return points"
   ]
  },
  {
   "attachments": {},
   "cell_type": "markdown",
   "metadata": {},
   "source": [
    "# Area of arbitrary closed polygon"
   ]
  },
  {
   "cell_type": "code",
   "execution_count": 47,
   "metadata": {},
   "outputs": [],
   "source": [
    "def shoelace(points: np.ndarray):\n",
    "    points = np.append(points, points[0]).reshape(-1, 2)\n",
    "    area = 0\n",
    "    for index in range(len(points)-1):\n",
    "        matrix = points[index:index+2, :].T\n",
    "        area += np.linalg.det(matrix)\n",
    "    return np.round(area/2, 5)\n",
    "\n",
    "def test_shoelace():\n",
    "    points = np.array(\n",
    "        [\n",
    "            [1, 6],\n",
    "            [3, 1],\n",
    "            [7, 2],\n",
    "            [4, 4],\n",
    "            [8, 5],\n",
    "        ]\n",
    "    )\n",
    "\n",
    "    assert shoelace(points) == 16.5\n",
    "\n",
    "    points = np.array(\n",
    "        [\n",
    "            [0, 0],\n",
    "            [1, 0],\n",
    "            [1, 1],\n",
    "            [0, 1],\n",
    "        ]\n",
    "    )\n",
    "\n",
    "    assert shoelace(points) == 1.0"
   ]
  },
  {
   "cell_type": "code",
   "execution_count": 48,
   "metadata": {},
   "outputs": [
    {
     "name": "stdout",
     "output_type": "stream",
     "text": [
      "\u001b[1m======================================= test session starts ========================================\u001b[0m\n",
      "platform darwin -- Python 3.10.9, pytest-7.2.1, pluggy-1.0.0\n",
      "Matplotlib: 3.6.3\n",
      "Freetype: 2.6.1\n",
      "rootdir: /Users/sylvi/Documents/TopoStats, configfile: pyproject.toml\n",
      "plugins: xdist-3.1.0, regtest-1.5.0, mpl-0.16.1, cov-4.0.0, anyio-3.6.2\n",
      "collected 1 item\n",
      "\n",
      "t_84d2eb3ca77142dca8c23141b5ab671e.py \u001b[32m.\u001b[0m\u001b[32m                                                      [100%]\u001b[0m\u001b[31m\u001b[1mWARNING: Failed to generate report: No data to report.\n",
      "\n",
      "\u001b[0m\n",
      "\n",
      "---------- coverage: platform darwin, python 3.10.9-final-0 ----------\n",
      "\n",
      "\n",
      "\u001b[32m======================================== \u001b[32m\u001b[1m1 passed\u001b[0m\u001b[32m in 0.02s\u001b[0m\u001b[32m =========================================\u001b[0m\n"
     ]
    },
    {
     "name": "stderr",
     "output_type": "stream",
     "text": [
      "/opt/homebrew/Caskroom/miniforge/base/lib/python3.10/site-packages/coverage/report.py:114: CoverageWarning: Couldn't parse '/private/var/folders/sr/wjtfqr9s6x3bw1s647t649x80000gn/T/ipykernel_1345/1405329698.py': No source for code: '/private/var/folders/sr/wjtfqr9s6x3bw1s647t649x80000gn/T/ipykernel_1345/1405329698.py'. (couldnt-parse)\n",
      "  coverage._warn(msg, slug=\"couldnt-parse\")\n",
      "/opt/homebrew/Caskroom/miniforge/base/lib/python3.10/site-packages/pytest_cov/plugin.py:311: CovReportWarning: Failed to generate report: No data to report.\n",
      "\n",
      "  warnings.warn(CovReportWarning(message))\n"
     ]
    },
    {
     "data": {
      "text/plain": [
       "<ExitCode.OK: 0>"
      ]
     },
     "execution_count": 48,
     "metadata": {},
     "output_type": "execute_result"
    }
   ],
   "source": [
    "ipytest.run()"
   ]
  },
  {
   "cell_type": "code",
   "execution_count": 40,
   "metadata": {},
   "outputs": [
    {
     "name": "stdout",
     "output_type": "stream",
     "text": [
      "16.5\n"
     ]
    },
    {
     "data": {
      "image/png": "[encoded data removed]",
      "text/plain": [
       "<Figure size 640x480 with 1 Axes>"
      ]
     },
     "metadata": {},
     "output_type": "display_data"
    }
   ],
   "source": [
    "points = np.array(\n",
    "    [\n",
    "        [1, 6],\n",
    "        [3, 1],\n",
    "        [7, 2],\n",
    "        [4, 4],\n",
    "        [8, 5],\n",
    "    ]\n",
    ")\n",
    "\n",
    "plt.fill(points[:, 0], points[:, 1])\n",
    "plt.scatter(x=points[:, 0], y=points[:, 1])\n",
    "\n",
    "area = shoelace(points)\n",
    "print(np.round(area, 5))\n"
   ]
  },
  {
   "attachments": {},
   "cell_type": "markdown",
   "metadata": {},
   "source": [
    "# Perimeter of arbitrary closed loop of points"
   ]
  },
  {
   "cell_type": "code",
   "execution_count": 94,
   "metadata": {},
   "outputs": [],
   "source": [
    "def polygon_perimeter(points: np.ndarray):\n",
    "    points = np.append(points, points[0]).reshape(-1, 2)\n",
    "    perimeter = 0\n",
    "    for i in range(len(points)-1):\n",
    "        point1 = points[i, :]\n",
    "        point2 = points[i+1, :]\n",
    "        perimeter += np.sqrt((point1[0] - point2[0])**2 + (point1[1] - point2[1])**2)\n",
    "    return perimeter\n",
    "\n",
    "def test_perimeter():\n",
    "    points = np.array([[0, 0], [0, 1], [1, 1], [1, 0]])\n",
    "    perimeter = polygon_perimeter(points)\n",
    "    assert perimeter == 4.0"
   ]
  },
  {
   "attachments": {},
   "cell_type": "markdown",
   "metadata": {},
   "source": [
    "# Separations of points"
   ]
  },
  {
   "cell_type": "code",
   "execution_count": 78,
   "metadata": {},
   "outputs": [],
   "source": [
    "from scipy.spatial import distance\n",
    "def point_distances(points: np.ndarray):\n",
    "    distance_matrix = distance.cdist(points, points, 'euclidean')\n",
    "    distances = distance_matrix[np.triu_indices(points.shape[0], k=1)]\n",
    "    return np.round(distances, 5)\n",
    "\n",
    "def test_point_distances():\n",
    "    points = np.array(\n",
    "        [\n",
    "            [0, 0],\n",
    "            [0, 1],\n",
    "            [1, 0],\n",
    "            [1, 1]\n",
    "        ]\n",
    "    )\n",
    "\n",
    "    distances = point_distances(points)\n",
    "    np.testing.assert_array_equal(distances, np.array([1., 1., 1.41421, 1.41421, 1., 1.]))"
   ]
  },
  {
   "attachments": {},
   "cell_type": "markdown",
   "metadata": {},
   "source": [
    "# Volume and area of points"
   ]
  },
  {
   "cell_type": "code",
   "execution_count": 7,
   "metadata": {},
   "outputs": [],
   "source": [
    "from skimage.morphology import remove_small_objects, label\n",
    "from skimage.measure import regionprops\n",
    "\n",
    "\n",
    "def region_stats(labelled_image: np.ndarray, image: np.ndarray):\n",
    "\n",
    "    region_props = regionprops(label_image=labelled_image)\n",
    "    areas = np.zeros(len(region_props))\n",
    "    volumes = np.zeros(len(region_props))\n",
    "    max_heights = np.zeros(len(region_props))\n",
    "    mean_heights = np.zeros(len(region_props))\n",
    "    for props_index, props in enumerate(region_props):\n",
    "        areas[props_index] = props.area\n",
    "        region_points = np.where(labelled_image == props.label)\n",
    "        region_values = image[region_points]\n",
    "        volume = np.sum(region_values)\n",
    "        volumes[props_index] = volume\n",
    "        max_heights[props_index] = np.max(region_values)\n",
    "        mean_heights[props_index] = np.mean(region_values)\n",
    "\n",
    "    return {\n",
    "        'areas': areas,\n",
    "        'volumes': volumes,\n",
    "        'max_heights': max_heights,\n",
    "        'mean_heights': mean_heights,\n",
    "        'number_of_regions': len(region_props),\n",
    "    }\n",
    "\n",
    "def test_region_stats():\n",
    "\n",
    "    image = np.array(\n",
    "        [\n",
    "            [0, 0, 0, 0, 0, 0, 0, 0, 0, 0, 0],\n",
    "            [0, 5, 5, 1, 0, 0, 0, 0, 0, 0, 0],\n",
    "            [0, 5, 5, 1, 0, 8, 8, 0, 0, 0, 0],\n",
    "            [0, 0, 1, 0, 0, 8, 8, 8, 0, 0, 0],\n",
    "            [0, 0, 0, 0, 0, 0, 8, 1, 0, 0, 0],\n",
    "            [0, 0, 0, 1, 1, 0, 0, 0, 3, 3, 0],\n",
    "            [0, 0, 1, 9, 0, 1, 0, 0, 0, 0, 0],\n",
    "            [0, 0, 9, 9, 9, 1, 0, 0, 4, 4, 0],\n",
    "            [0, 0, 0, 9, 9, 1, 0, 0, 4, 4, 0],\n",
    "            [0, 0, 0, 0, 0, 0, 0, 0, 0, 0, 0],\n",
    "        ]\n",
    "    )\n",
    "\n",
    "    labelled = label(image>2, background=0)\n",
    "\n",
    "    results = region_stats(labelled_image=labelled, image=image)\n",
    "\n",
    "    print(results)\n",
    "\n",
    "    np.testing.assert_equal(\n",
    "        results,\n",
    "        {\n",
    "            'areas': np.array([4, 6, 2, 6, 4]),\n",
    "            'volumes': np.array([20, 48, 6, 54, 16]),\n",
    "            'max_heights': np.array([5, 8, 3, 9, 4]),\n",
    "            'mean_heights': np.array([5, 8, 3, 9, 4]),\n",
    "            'number_of_regions': 5\n",
    "        }\n",
    "    )\n"
   ]
  },
  {
   "cell_type": "code",
   "execution_count": 40,
   "metadata": {},
   "outputs": [
    {
     "name": "stdout",
     "output_type": "stream",
     "text": [
      "[1. 0.]\n",
      "[ 1.5 12. ]\n",
      "[2. 0.]\n"
     ]
    },
    {
     "data": {
      "text/plain": [
       "(0.999133073092352, 12.010412149464313)"
      ]
     },
     "execution_count": 40,
     "metadata": {},
     "output_type": "execute_result"
    }
   ],
   "source": [
    "def is_clockwise(p_1: tuple, p_2: tuple, p_3: tuple) -> bool:\n",
    "    \"\"\"Function to determine if three points make a clockwise or counter-clockwise turn.\n",
    "\n",
    "    Parameters\n",
    "    ----------\n",
    "    p_1: tuple\n",
    "        First point to be used to calculate turn.\n",
    "    p_2: tuple\n",
    "        Second point to be used to calculate turn.\n",
    "    p_3: tuple\n",
    "        Third point to be used to calculate turn.\n",
    "\n",
    "    Returns\n",
    "    -------\n",
    "    boolean\n",
    "        Indicator of whether turn is clockwise.\n",
    "    \"\"\"\n",
    "\n",
    "    rotation_matrix = np.array(((p_1[0], p_1[1], 1), (p_2[0], p_2[1], 1), (p_3[0], p_3[1], 1)))\n",
    "    return not np.linalg.det(rotation_matrix) > 0\n",
    "\n",
    "def get_triangle_height(base_point_1: np.array, base_point_2: np.array, top_point: np.array) -> float:\n",
    "    \"\"\"Returns the height of a triangle defined by the input point vectors.\n",
    "    Parameters\n",
    "    ----------\n",
    "    base_point_1: np.ndarray\n",
    "        a base point of the triangle, eg: [5, 3].\n",
    "\n",
    "    base_point_2: np.ndarray\n",
    "        a base point of the triangle, eg: [8, 3].\n",
    "\n",
    "    top_point: np.ndarray\n",
    "        the top point of the triangle, defining the height from the line between the two base points, eg: [6,10].\n",
    "\n",
    "    Returns\n",
    "    -------\n",
    "    Float\n",
    "        The height of the triangle - ie the shortest distance between the top point and the line between the two base points.\n",
    "    \"\"\"\n",
    "\n",
    "    # Height of triangle = A/b = ||AB X AC|| / ||AB||\n",
    "    a_b = base_point_1 - base_point_2\n",
    "    a_c = base_point_1 - top_point\n",
    "    return np.linalg.norm(np.cross(a_b, a_c)) / np.linalg.norm(a_b)\n",
    "\n",
    "def ferets(edges: np.ndarray) -> float:\n",
    "    \"\"\"Returns the minimum and maximum feret diameters for a grain.\n",
    "    These are defined as the smallest and greatest distances between\n",
    "    a pair of callipers that are rotating around a 2d object, maintaining\n",
    "    contact at all times.\n",
    "\n",
    "    Parameters\n",
    "    ----------\n",
    "    edge_points: list\n",
    "        a list of the vector positions of the pixels comprising the edge of the\n",
    "        grain. Eg: [[0, 0], [1, 0], [2, 1]]\n",
    "    Returns\n",
    "    -------\n",
    "    min_feret: float\n",
    "        the minimum feret diameter of the grain\n",
    "    max_feret: float\n",
    "        the maximum feret diameter of the grain\"\"\"\n",
    "\n",
    "    # Sort the vectors by x coordinate then y coordinate\n",
    "    sorted_indices = np.lexsort((edges[:, 1], edges[:, 0]))\n",
    "    sorted = edges[sorted_indices]\n",
    "\n",
    "    # Construct upper and lower hulls for the edge points.\n",
    "    upper_hull = []\n",
    "    lower_hull = []\n",
    "    for point in sorted:\n",
    "        print(point)\n",
    "        while len(lower_hull) > 1 and is_clockwise(lower_hull[-2], lower_hull[-1], point):\n",
    "            lower_hull.pop()\n",
    "        lower_hull.append(point)\n",
    "        while len(upper_hull) > 1 and not is_clockwise(upper_hull[-2], upper_hull[-1], point):\n",
    "            upper_hull.pop()\n",
    "        upper_hull.append(point)\n",
    "    \n",
    "    upper_hull = np.array(upper_hull)\n",
    "    lower_hull = np.array(lower_hull)\n",
    "\n",
    "    # Create list of contact vertices for calipers on the antipodal hulls\n",
    "    contact_points = []\n",
    "    upper_index = 0\n",
    "    lower_index = len(lower_hull) - 1\n",
    "    min_feret = None\n",
    "    while upper_index < len(upper_hull) - 1 or lower_index > 0:\n",
    "        contact_points.append([lower_hull[lower_index, :], upper_hull[upper_index, :]])\n",
    "        # If we have reached the end of the upper hull, continute iterating over the lower hull\n",
    "        if upper_index == len(upper_hull) - 1:\n",
    "            lower_index -= 1\n",
    "            small_feret = get_triangle_height(\n",
    "                np.array(lower_hull[lower_index + 1, :]),\n",
    "                np.array(lower_hull[lower_index, :]),\n",
    "                np.array(upper_hull[upper_index, :]),\n",
    "            )\n",
    "            if min_feret is None or small_feret < min_feret:\n",
    "                min_feret = small_feret\n",
    "        # If we have reached the end of the lower hull, continue iterating over the upper hull\n",
    "        elif lower_index == 0:\n",
    "            upper_index += 1\n",
    "            small_feret = get_triangle_height(\n",
    "                np.array(upper_hull[upper_index - 1, :]),\n",
    "                np.array(upper_hull[upper_index, :]),\n",
    "                np.array(lower_hull[lower_index, :]),\n",
    "            )\n",
    "            if min_feret is None or small_feret < min_feret:\n",
    "                min_feret = small_feret\n",
    "        # Check if the gradient of the last point and the proposed next point in the upper hull is greater than the gradient\n",
    "        # of the two corresponding points in the lower hull, if so, this means that the next point in the upper hull\n",
    "        # will be encountered before the next point in the lower hull and vice versa.\n",
    "        # Note that the calculation here for gradients is the simple delta upper_y / delta upper_x > delta lower_y / delta lower_x\n",
    "        # however I have multiplied through the denominators such that there are no instances of division by zero. The\n",
    "        # inequality still holds and provides what is needed.\n",
    "        elif (upper_hull[upper_index + 1, 1] - upper_hull[upper_index, 1]) * (\n",
    "            lower_hull[lower_index, 0] - lower_hull[lower_index - 1, 0]\n",
    "        ) > (lower_hull[lower_index, 1] - lower_hull[lower_index - 1, 1]) * (\n",
    "            upper_hull[upper_index + 1, 0] - upper_hull[upper_index, 0]\n",
    "        ):\n",
    "            # If the upper hull is encoutnered first, increment the iteration index for the upper hull\n",
    "            # Also consider the triangle that is made as the two upper hull vertices are colinear with the caliper\n",
    "            upper_index += 1\n",
    "            small_feret = get_triangle_height(\n",
    "                np.array(upper_hull[upper_index - 1, :]),\n",
    "                np.array(upper_hull[upper_index, :]),\n",
    "                np.array(lower_hull[lower_index, :]),\n",
    "            )\n",
    "            if min_feret is None or small_feret < min_feret:\n",
    "                min_feret = small_feret\n",
    "        else:\n",
    "            # The next point in the lower hull will be encountered first, so increment the lower hull iteration index.\n",
    "            lower_index -= 1\n",
    "            small_feret = get_triangle_height(\n",
    "                np.array(lower_hull[lower_index + 1, :]),\n",
    "                np.array(lower_hull[lower_index, :]),\n",
    "                np.array(upper_hull[upper_index, :]),\n",
    "            )\n",
    "\n",
    "            if min_feret is None or small_feret < min_feret:\n",
    "                min_feret = small_feret\n",
    "\n",
    "    contact_points = np.array(contact_points)\n",
    "\n",
    "    # Find the minimum and maximum distance in the contact points\n",
    "    max_feret = None\n",
    "    for point_pair in contact_points:\n",
    "        dist = np.sqrt((point_pair[0, 0] - point_pair[1, 0]) ** 2 + (point_pair[0, 1] - point_pair[1, 1]) ** 2)\n",
    "        if max_feret is None or max_feret < dist:\n",
    "            max_feret = dist\n",
    "\n",
    "    return min_feret, max_feret\n"
   ]
  },
  {
   "attachments": {},
   "cell_type": "markdown",
   "metadata": {},
   "source": [
    "## Curvature"
   ]
  },
  {
   "cell_type": "code",
   "execution_count": 6,
   "metadata": {},
   "outputs": [],
   "source": [
    "def curvature(xs: np.ndarray, ys: np.ndarray):\n",
    "    extension_length = xs.shape[0]\n",
    "    xs_extended = np.append(xs, xs)\n",
    "    xs_extended = np.append(xs_extended, xs)\n",
    "    ys_extended = np.append(ys, ys)\n",
    "    ys_extended = np.append(ys_extended, ys)\n",
    "    dx = np.gradient(xs_extended)\n",
    "    dy = np.gradient(ys_extended)\n",
    "    d2x = np.gradient(dx)\n",
    "    d2y = np.gradient(dy)\n",
    "    curv = np.abs(dx * d2y - d2x * dy) / (dx * dx + dy * dy)**1.5\n",
    "    curv = curv[extension_length:(len(curv)-extension_length)+1]\n",
    "    return curv"
   ]
  },
  {
   "cell_type": "code",
   "execution_count": 28,
   "metadata": {},
   "outputs": [
    {
     "data": {
      "image/png": "[encoded data removed]",
      "text/plain": [
       "<Figure size 500x500 with 1 Axes>"
      ]
     },
     "metadata": {},
     "output_type": "display_data"
    },
    {
     "name": "stdout",
     "output_type": "stream",
     "text": [
      "[1. 1. 1. 1. 1. 1. 1. 1. 1. 1. 1. 1. 1. 1. 1. 1. 1. 1. 1. 1. 1.]\n"
     ]
    },
    {
     "data": {
      "image/png": "[encoded data removed]",
      "text/plain": [
       "<Figure size 640x480 with 1 Axes>"
      ]
     },
     "metadata": {},
     "output_type": "display_data"
    }
   ],
   "source": [
    "number_of_points = 20\n",
    "xs = np.zeros((number_of_points))\n",
    "ys = np.zeros((number_of_points))\n",
    "stepsize = 2*np.pi / xs.shape[0]\n",
    "radius = 1\n",
    "angle = 0\n",
    "for i in range(xs.shape[0]):\n",
    "    xs[i] = radius * np.sin(angle)\n",
    "    ys[i] = radius * np.cos(angle)\n",
    "    angle += stepsize\n",
    "\n",
    "fig, ax = plt.subplots(figsize=(5, 5))\n",
    "plt.plot(xs, ys, '.')\n",
    "plt.show()\n",
    "\n",
    "curv = curvature(xs, ys)\n",
    "plt.plot(curv)\n",
    "plt.ylim(0, 2)\n",
    "print(curv)"
   ]
  },
  {
   "cell_type": "code",
   "execution_count": 8,
   "metadata": {},
   "outputs": [
    {
     "name": "stdout",
     "output_type": "stream",
     "text": [
      "\u001b[1m======================================= test session starts ========================================\u001b[0m\n",
      "platform darwin -- Python 3.10.9, pytest-7.2.1, pluggy-1.0.0\n",
      "Matplotlib: 3.6.3\n",
      "Freetype: 2.6.1\n",
      "rootdir: /Users/sylvi/Documents/TopoStats, configfile: pyproject.toml\n",
      "plugins: xdist-3.1.0, regtest-1.5.0, mpl-0.16.1, cov-4.0.0, anyio-3.6.2\n",
      "collected 1 item\n",
      "\n",
      "t_7bc6c5db52d14b889f31be47e9a05f37.py \u001b[32m.\u001b[0m\u001b[32m                                                      [100%]\u001b[0m\u001b[31m\u001b[1mWARNING: Failed to generate report: No data to report.\n",
      "\n",
      "\u001b[0m\n",
      "\n",
      "---------- coverage: platform darwin, python 3.10.9-final-0 ----------\n",
      "\n",
      "\n",
      "\u001b[32m======================================== \u001b[32m\u001b[1m1 passed\u001b[0m\u001b[32m in 0.02s\u001b[0m\u001b[32m =========================================\u001b[0m\n"
     ]
    },
    {
     "name": "stderr",
     "output_type": "stream",
     "text": [
      "/opt/homebrew/Caskroom/miniforge/base/lib/python3.10/site-packages/coverage/report.py:114: CoverageWarning: Couldn't parse '/private/var/folders/sr/wjtfqr9s6x3bw1s647t649x80000gn/T/ipykernel_4512/2831658880.py': No source for code: '/private/var/folders/sr/wjtfqr9s6x3bw1s647t649x80000gn/T/ipykernel_4512/2831658880.py'. (couldnt-parse)\n",
      "  coverage._warn(msg, slug=\"couldnt-parse\")\n",
      "/opt/homebrew/Caskroom/miniforge/base/lib/python3.10/site-packages/pytest_cov/plugin.py:311: CovReportWarning: Failed to generate report: No data to report.\n",
      "\n",
      "  warnings.warn(CovReportWarning(message))\n"
     ]
    },
    {
     "data": {
      "text/plain": [
       "<ExitCode.OK: 0>"
      ]
     },
     "execution_count": 8,
     "metadata": {},
     "output_type": "execute_result"
    }
   ],
   "source": [
    "ipytest.run()"
   ]
  }
 ],
 "metadata": {
  "kernelspec": {
   "display_name": "base",
   "language": "python",
   "name": "python3"
  },
  "language_info": {
   "codemirror_mode": {
    "name": "ipython",
    "version": 3
   },
   "file_extension": ".py",
   "mimetype": "text/x-python",
   "name": "python",
   "nbconvert_exporter": "python",
   "pygments_lexer": "ipython3",
   "version": "3.10.9"
  },
  "orig_nbformat": 4
 },
 "nbformat": 4,
 "nbformat_minor": 2
}
