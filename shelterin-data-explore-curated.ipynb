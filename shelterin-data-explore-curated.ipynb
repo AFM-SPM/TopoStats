{
 "cells": [
  {
   "cell_type": "code",
   "execution_count": null,
   "metadata": {},
   "outputs": [],
   "source": [
    "from pathlib import Path\n",
    "\n",
    "import numpy as np\n",
    "import pandas as pd\n",
    "import matplotlib.pyplot as plt\n",
    "import seaborn as sns"
   ]
  },
  {
   "cell_type": "code",
   "execution_count": null,
   "metadata": {},
   "outputs": [],
   "source": [
    "base_dir = Path(\"/Users/sylvi/topo_data/shelterin\")\n",
    "assert base_dir.exists()\n",
    "all_stats_file = base_dir / \"output-libby-curated\" / \"all_statistics.csv\"\n",
    "assert all_stats_file.exists()\n",
    "all_stats = pd.read_csv(all_stats_file)\n",
    "print(all_stats.columns)"
   ]
  },
  {
   "cell_type": "markdown",
   "metadata": {},
   "source": [
    "# TEL80S protein volumes"
   ]
  },
  {
   "cell_type": "code",
   "execution_count": null,
   "metadata": {},
   "outputs": [],
   "source": [
    "# protein volume for TEL80 S\n",
    "# grab TEL80shelterin by selecting rows with \"TEL80shelterin\" in the \"basename\" column\n",
    "data_tel80s = all_stats[all_stats[\"basename\"].str.contains(\"TEL80shelterin\")]\n",
    "print(f\"tel80s: {len(data_tel80s)}\")\n",
    "data_tel80s_protein = data_tel80s[data_tel80s[\"class_number\"] == 2]\n",
    "print(f\"tel80s protein: {len(data_tel80s_protein)}\")\n",
    "\n",
    "plt.figure()\n",
    "sns.stripplot(data_tel80s_protein[\"volume\"])\n",
    "plt.title(\"Volume of TEL80shelterin proteins\")\n",
    "plt.show()"
   ]
  },
  {
   "cell_type": "markdown",
   "metadata": {},
   "source": [
    "# TBL for TEL80C & TEL80S"
   ]
  },
  {
   "cell_type": "code",
   "execution_count": null,
   "metadata": {},
   "outputs": [],
   "source": [
    "data_tel80c = all_stats[all_stats[\"basename\"].str.contains(\"TEL80control\")]\n",
    "print(f\"tel80c: {len(data_tel80c)}\")\n",
    "data_tel80s = all_stats[all_stats[\"basename\"].str.contains(\"TEL80shelterin\")]\n",
    "print(f\"tel80s: {len(data_tel80s)}\")\n",
    "\n",
    "# grab only class 1 subgrain 0 since data is duplicated for each subgrain and class\n",
    "data_tel80c_s0_c1 = data_tel80c[(data_tel80c[\"subgrain_number\"] == 0) & (data_tel80c[\"class_number\"] == 1)]\n",
    "data_tel80s_s0_c1 = data_tel80s[(data_tel80s[\"subgrain_number\"] == 0) & (data_tel80s[\"class_number\"] == 1)]\n",
    "print(f\"tel80c_s1_c1: {len(data_tel80c_s0_c1)}\")\n",
    "print(f\"tel80s_s1_c1: {len(data_tel80s_s0_c1)}\")\n",
    "\n",
    "# plot TBL for both\n",
    "plt.figure()\n",
    "sns.stripplot(data_tel80c_s0_c1[\"total_branch_lengths\"], label=\"TEL80control\")\n",
    "sns.stripplot(data_tel80s_s0_c1[\"total_branch_lengths\"], label=\"TEL80shelterin\")\n",
    "plt.legend()\n",
    "plt.title(\"Total branch lengths of TEL80control and TEL80shelterin\")\n",
    "plt.show()"
   ]
  },
  {
   "cell_type": "code",
   "execution_count": null,
   "metadata": {},
   "outputs": [],
   "source": [
    "data_tel80s = all_stats[all_stats[\"basename\"].str.contains(\"TEL80shelterin\")]\n",
    "images = data_tel80s[\"image\"].unique()\n",
    "tbl_total_volume_pairs = []\n",
    "tbl_maximum_volume_pairs = []\n",
    "for image in images:\n",
    "    subdata_images = data_tel80s[data_tel80s[\"image\"] == image]\n",
    "    grain_numbers = subdata_images[\"grain_number\"].unique()\n",
    "    for grain_number in grain_numbers:\n",
    "        subdata_grain = subdata_images[subdata_images[\"grain_number\"] == grain_number]\n",
    "        class_numbers = subdata_grain[\"class_number\"].unique()\n",
    "        if 1 in class_numbers and 2 in class_numbers:\n",
    "            tbl = subdata_grain.iloc[0][\"total_branch_lengths\"]\n",
    "            total_volume = subdata_grain[subdata_grain[\"class_number\"] == 2][\"volume\"].sum()\n",
    "            maximum_volume = subdata_grain[subdata_grain[\"class_number\"] == 2][\"volume\"].max()\n",
    "            tbl_total_volume_pairs.append((tbl, total_volume))\n",
    "            tbl_maximum_volume_pairs.append((tbl, maximum_volume))\n",
    "\n",
    "tbls = [pair[0] for pair in tbl_total_volume_pairs]\n",
    "total_volumes = [pair[1] for pair in tbl_total_volume_pairs]\n",
    "maximum_volumes = [pair[1] for pair in tbl_maximum_volume_pairs]\n",
    "\n",
    "plt.figure()\n",
    "plt.scatter(tbls, total_volumes)\n",
    "plt.title(\"Total branch lengths vs total volume\")\n",
    "plt.xlabel(\"Total branch lengths\")\n",
    "plt.ylabel(\"Total volume\")\n",
    "plt.show()\n",
    "\n",
    "plt.figure()\n",
    "plt.scatter(tbls, maximum_volumes)\n",
    "plt.title(\"Total branch lengths vs maximum volume\")\n",
    "plt.xlabel(\"Total branch lengths\")\n",
    "plt.ylabel(\"Maximum volume\")\n",
    "plt.show()"
   ]
  },
  {
   "cell_type": "markdown",
   "metadata": {},
   "source": [
    "# TBL & height for TEL80C"
   ]
  },
  {
   "cell_type": "code",
   "execution_count": null,
   "metadata": {},
   "outputs": [],
   "source": [
    "data_tel80c = all_stats[all_stats[\"basename\"].str.contains(\"TEL80control\")]\n",
    "images = data_tel80c[\"image\"].unique()\n",
    "tbl_height_pairs = []\n",
    "for image in images:\n",
    "    subdata_images = data_tel80c[data_tel80c[\"image\"] == image]\n",
    "    grain_numbers = subdata_images[\"grain_number\"].unique()\n",
    "    for grain_number in grain_numbers:\n",
    "        subdata_grain = subdata_images[subdata_images[\"grain_number\"] == grain_number]\n",
    "        subdata_subgrains = subdata_grain[\"subgrain_number\"].unique()\n",
    "        for subgrain_number in subdata_subgrains:\n",
    "            subdata_subgrain = subdata_grain[subdata_grain[\"subgrain_number\"] == subgrain_number]\n",
    "            assert len(subdata_subgrain) == 1, f\"len(subdata_subgrain) = {len(subdata_subgrain)}\"\n",
    "            class_number = subdata_subgrain[\"class_number\"].values[0]\n",
    "            if class_number == 1:\n",
    "                tbl = subdata_subgrain[\"total_branch_lengths\"].values[0]\n",
    "                median_height = subdata_subgrain[\"height_median\"]\n",
    "                tbl_height_pairs.append((tbl, median_height))\n",
    "\n",
    "tbls = [pair[0] for pair in tbl_height_pairs]\n",
    "heights = [pair[1] for pair in tbl_height_pairs]\n",
    "\n",
    "plt.figure()\n",
    "plt.scatter(tbls, heights)\n",
    "plt.title(\"Total branch lengths vs median height\")\n",
    "plt.xlabel(\"Total branch lengths\")\n",
    "plt.ylabel(\"Median height\")\n",
    "plt.show()"
   ]
  },
  {
   "cell_type": "markdown",
   "metadata": {},
   "source": [
    "# TBL for TEL12"
   ]
  },
  {
   "cell_type": "code",
   "execution_count": null,
   "metadata": {},
   "outputs": [],
   "source": [
    "data_tel12c = all_stats[all_stats[\"basename\"].str.contains(\"TEL12control\")]\n",
    "print(f\"tel12c: {len(data_tel12c)}\")\n",
    "data_tel12s = all_stats[all_stats[\"basename\"].str.contains(\"TEL12shelterin\")]\n",
    "print(f\"tel12s: {len(data_tel12s)}\")\n",
    "data_tel12trf1 = all_stats[all_stats[\"basename\"].str.contains(\"TEL12TRF1\")]\n",
    "print(f\"tel12trf1: {len(data_tel12trf1)}\")\n",
    "data_tel12trf2 = all_stats[all_stats[\"basename\"].str.contains(\"TEL12TRF2\")]\n",
    "print(f\"tel12trf2: {len(data_tel12trf2)}\")\n",
    "\n",
    "data_tel12c_s0_c1 = data_tel12c[(data_tel12c[\"subgrain_number\"] == 0) & (data_tel12c[\"class_number\"] == 1)]\n",
    "print(f\"tel12c_s0_c1: {len(data_tel12c_s0_c1)}\")\n",
    "data_tel12s_s0_c1 = data_tel12s[(data_tel12s[\"subgrain_number\"] == 0) & (data_tel12s[\"class_number\"] == 1)]\n",
    "print(f\"tel12s_s0_c1: {len(data_tel12s_s0_c1)}\")\n",
    "data_tel12trf1_s0_c1 = data_tel12trf1[(data_tel12trf1[\"subgrain_number\"] == 0) & (data_tel12trf1[\"class_number\"] == 1)]\n",
    "print(f\"tel12trf1_s0_c1: {len(data_tel12trf1_s0_c1)}\")\n",
    "data_tel12trf2_s0_c1 = data_tel12trf2[(data_tel12trf2[\"subgrain_number\"] == 0) & (data_tel12trf2[\"class_number\"] == 1)]\n",
    "print(f\"tel12trf2_s0_c1: {len(data_tel12trf2_s0_c1)}\")\n",
    "\n",
    "data_tbl_tel12 = pd.concat([data_tel12c_s0_c1, data_tel12s_s0_c1, data_tel12trf1_s0_c1, data_tel12trf2_s0_c1])\n",
    "plt.figure()\n",
    "sns.stripplot(x=\"basename\", y=\"total_branch_lengths\", data=data_tbl_tel12)\n",
    "# make labels vertical\n",
    "plt.xticks(rotation=90)\n",
    "plt.title(\"Total branch lengths of TEL12 proteins\")\n",
    "plt.show()"
   ]
  }
 ],
 "metadata": {
  "kernelspec": {
   "display_name": "topo-unet",
   "language": "python",
   "name": "python3"
  },
  "language_info": {
   "codemirror_mode": {
    "name": "ipython",
    "version": 3
   },
   "file_extension": ".py",
   "mimetype": "text/x-python",
   "name": "python",
   "nbconvert_exporter": "python",
   "pygments_lexer": "ipython3",
   "version": "3.11.9"
  }
 },
 "nbformat": 4,
 "nbformat_minor": 2
}
