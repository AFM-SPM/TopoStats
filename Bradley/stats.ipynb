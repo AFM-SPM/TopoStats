{
 "cells": [
  {
   "cell_type": "code",
   "execution_count": 1,
   "metadata": {},
   "outputs": [],
   "source": [
    "import numpy as np\n",
    "import matplotlib.pyplot as plt\n",
    "import pytest\n",
    "import ipytest\n",
    "from random import randint"
   ]
  },
  {
   "attachments": {},
   "cell_type": "markdown",
   "metadata": {},
   "source": [
    "# Area of arbitrary closed polygon"
   ]
  },
  {
   "cell_type": "code",
   "execution_count": 47,
   "metadata": {},
   "outputs": [],
   "source": [
    "def shoelace(points: np.ndarray):\n",
    "    points = np.append(points, points[0]).reshape(-1, 2)\n",
    "    area = 0\n",
    "    for index in range(len(points)-1):\n",
    "        matrix = points[index:index+2, :].T\n",
    "        area += np.linalg.det(matrix)\n",
    "    return np.round(area/2, 5)\n",
    "\n",
    "def test_shoelace():\n",
    "    points = np.array(\n",
    "        [\n",
    "            [1, 6],\n",
    "            [3, 1],\n",
    "            [7, 2],\n",
    "            [4, 4],\n",
    "            [8, 5],\n",
    "        ]\n",
    "    )\n",
    "\n",
    "    assert shoelace(points) == 16.5\n",
    "\n",
    "    points = np.array(\n",
    "        [\n",
    "            [0, 0],\n",
    "            [1, 0],\n",
    "            [1, 1],\n",
    "            [0, 1],\n",
    "        ]\n",
    "    )\n",
    "\n",
    "    assert shoelace(points) == 1.0"
   ]
  },
  {
   "cell_type": "code",
   "execution_count": 48,
   "metadata": {},
   "outputs": [
    {
     "name": "stdout",
     "output_type": "stream",
     "text": [
      "\u001b[1m======================================= test session starts ========================================\u001b[0m\n",
      "platform darwin -- Python 3.10.9, pytest-7.2.1, pluggy-1.0.0\n",
      "Matplotlib: 3.6.3\n",
      "Freetype: 2.6.1\n",
      "rootdir: /Users/sylvi/Documents/TopoStats, configfile: pyproject.toml\n",
      "plugins: xdist-3.1.0, regtest-1.5.0, mpl-0.16.1, cov-4.0.0, anyio-3.6.2\n",
      "collected 1 item\n",
      "\n",
      "t_84d2eb3ca77142dca8c23141b5ab671e.py \u001b[32m.\u001b[0m\u001b[32m                                                      [100%]\u001b[0m\u001b[31m\u001b[1mWARNING: Failed to generate report: No data to report.\n",
      "\n",
      "\u001b[0m\n",
      "\n",
      "---------- coverage: platform darwin, python 3.10.9-final-0 ----------\n",
      "\n",
      "\n",
      "\u001b[32m======================================== \u001b[32m\u001b[1m1 passed\u001b[0m\u001b[32m in 0.02s\u001b[0m\u001b[32m =========================================\u001b[0m\n"
     ]
    },
    {
     "name": "stderr",
     "output_type": "stream",
     "text": [
      "/opt/homebrew/Caskroom/miniforge/base/lib/python3.10/site-packages/coverage/report.py:114: CoverageWarning: Couldn't parse '/private/var/folders/sr/wjtfqr9s6x3bw1s647t649x80000gn/T/ipykernel_1345/1405329698.py': No source for code: '/private/var/folders/sr/wjtfqr9s6x3bw1s647t649x80000gn/T/ipykernel_1345/1405329698.py'. (couldnt-parse)\n",
      "  coverage._warn(msg, slug=\"couldnt-parse\")\n",
      "/opt/homebrew/Caskroom/miniforge/base/lib/python3.10/site-packages/pytest_cov/plugin.py:311: CovReportWarning: Failed to generate report: No data to report.\n",
      "\n",
      "  warnings.warn(CovReportWarning(message))\n"
     ]
    },
    {
     "data": {
      "text/plain": [
       "<ExitCode.OK: 0>"
      ]
     },
     "execution_count": 48,
     "metadata": {},
     "output_type": "execute_result"
    }
   ],
   "source": [
    "ipytest.run()"
   ]
  },
  {
   "cell_type": "code",
   "execution_count": 40,
   "metadata": {},
   "outputs": [
    {
     "name": "stdout",
     "output_type": "stream",
     "text": [
      "16.5\n"
     ]
    },
    {
     "data": {
      "image/png": "[encoded data removed]",
      "text/plain": [
       "<Figure size 640x480 with 1 Axes>"
      ]
     },
     "metadata": {},
     "output_type": "display_data"
    }
   ],
   "source": [
    "points = np.array(\n",
    "    [\n",
    "        [1, 6],\n",
    "        [3, 1],\n",
    "        [7, 2],\n",
    "        [4, 4],\n",
    "        [8, 5],\n",
    "    ]\n",
    ")\n",
    "\n",
    "plt.fill(points[:, 0], points[:, 1])\n",
    "plt.scatter(x=points[:, 0], y=points[:, 1])\n",
    "\n",
    "area = shoelace(points)\n",
    "print(np.round(area, 5))\n"
   ]
  },
  {
   "attachments": {},
   "cell_type": "markdown",
   "metadata": {},
   "source": [
    "# Perimeter of arbitrary closed loop of points"
   ]
  },
  {
   "cell_type": "code",
   "execution_count": 94,
   "metadata": {},
   "outputs": [],
   "source": [
    "def polygon_perimeter(points: np.ndarray):\n",
    "    points = np.append(points, points[0]).reshape(-1, 2)\n",
    "    perimeter = 0\n",
    "    for i in range(len(points)-1):\n",
    "        point1 = points[i, :]\n",
    "        point2 = points[i+1, :]\n",
    "        perimeter += np.sqrt((point1[0] - point2[0])**2 + (point1[1] - point2[1])**2)\n",
    "    return perimeter\n",
    "\n",
    "def test_perimeter():\n",
    "    points = np.array([[0, 0], [0, 1], [1, 1], [1, 0]])\n",
    "    perimeter = polygon_perimeter(points)\n",
    "    assert perimeter == 4.0"
   ]
  },
  {
   "attachments": {},
   "cell_type": "markdown",
   "metadata": {},
   "source": [
    "# Separations of points"
   ]
  },
  {
   "cell_type": "code",
   "execution_count": 78,
   "metadata": {},
   "outputs": [],
   "source": [
    "from scipy.spatial import distance\n",
    "def point_distances(points: np.ndarray):\n",
    "    distance_matrix = distance.cdist(points, points, 'euclidean')\n",
    "    distances = distance_matrix[np.triu_indices(points.shape[0], k=1)]\n",
    "    return np.round(distances, 5)\n",
    "\n",
    "def test_point_distances():\n",
    "    points = np.array(\n",
    "        [\n",
    "            [0, 0],\n",
    "            [0, 1],\n",
    "            [1, 0],\n",
    "            [1, 1]\n",
    "        ]\n",
    "    )\n",
    "\n",
    "    distances = point_distances(points)\n",
    "    np.testing.assert_array_equal(distances, np.array([1., 1., 1.41421, 1.41421, 1., 1.]))"
   ]
  },
  {
   "attachments": {},
   "cell_type": "markdown",
   "metadata": {},
   "source": [
    "# Volume and area of points"
   ]
  },
  {
   "cell_type": "code",
   "execution_count": 175,
   "metadata": {},
   "outputs": [],
   "source": [
    "from skimage.morphology import remove_small_objects, label\n",
    "from skimage.measure import regionprops\n",
    "\n",
    "\n",
    "def region_stats(labelled_image: np.ndarray, image: np.ndarray):\n",
    "\n",
    "    region_props = regionprops(label_image=labelled_image)\n",
    "    areas = np.zeros(len(region_props))\n",
    "    volumes = np.zeros(len(region_props))\n",
    "    for props_index, props in enumerate(region_props):\n",
    "        areas[props_index] = props.area\n",
    "        region_points = np.where(labelled_image == props.label)\n",
    "        region_values = image[region_points]\n",
    "        volume = np.sum(region_values)\n",
    "        volumes[props_index] = volume\n",
    "\n",
    "    return {\n",
    "        'areas': areas,\n",
    "        'volumes': volumes,\n",
    "        'number_of_regions': len(region_props)\n",
    "    }\n",
    "\n",
    "def test_region_stats():\n",
    "\n",
    "    image = np.array(\n",
    "        [\n",
    "            [0, 0, 0, 0, 0, 0, 0, 0, 0, 0, 0],\n",
    "            [0, 5, 5, 1, 0, 0, 0, 0, 0, 0, 0],\n",
    "            [0, 5, 5, 1, 0, 8, 8, 0, 0, 0, 0],\n",
    "            [0, 0, 1, 0, 0, 8, 8, 8, 0, 0, 0],\n",
    "            [0, 0, 0, 0, 0, 0, 8, 1, 0, 0, 0],\n",
    "            [0, 0, 0, 1, 1, 0, 0, 0, 3, 3, 0],\n",
    "            [0, 0, 1, 9, 0, 1, 0, 0, 0, 0, 0],\n",
    "            [0, 0, 9, 9, 9, 1, 0, 0, 4, 4, 0],\n",
    "            [0, 0, 0, 9, 9, 1, 0, 0, 4, 4, 0],\n",
    "            [0, 0, 0, 0, 0, 0, 0, 0, 0, 0, 0],\n",
    "        ]\n",
    "    )\n",
    "\n",
    "    labelled = label(image>2, background=0)\n",
    "\n",
    "    results = region_stats(labelled_image=labelled, image=image)\n",
    "\n",
    "    print(results)\n",
    "\n",
    "    np.testing.assert_equal(\n",
    "        results,\n",
    "        {\n",
    "            'areas': np.array([4, 6, 2, 6, 4]),\n",
    "            'volumes': np.array([20, 48, 6, 54, 16]),\n",
    "            'number_of_regions': 5\n",
    "        }\n",
    "    )\n",
    "\n"
   ]
  },
  {
   "cell_type": "code",
   "execution_count": 5,
   "metadata": {},
   "outputs": [],
   "source": [
    "def get_angle(point_1: tuple, point_2: tuple) -> float:\n",
    "    \"\"\"Function that calculates the angle in radians between two points.\n",
    "\n",
    "    Parameters\n",
    "    ----------\n",
    "    point1: tuple\n",
    "        Coordinate vectors for the first point to find the angle between.\n",
    "    point2: tuple\n",
    "        Coordinate vectors for the second point to find the angle between.\n",
    "\n",
    "    Returns\n",
    "    -------\n",
    "    angle : float\n",
    "        The angle in radians between the two input vectors.\n",
    "    \"\"\"\n",
    "\n",
    "    return np.arctan2(point_1[1] - point_2[1], point_1[0] - point_2[0])"
   ]
  },
  {
   "cell_type": "code",
   "execution_count": null,
   "metadata": {},
   "outputs": [],
   "source": [
    "def calculate_squared_distance(point_2: tuple, point_1: tuple = None, start_point) -> float:\n",
    "    \"\"\"Function that calculates the distance squared between two points. Used for distance sorting purposes and\n",
    "    therefore does not perform a square root in the interests of efficiency.\n",
    "\n",
    "    Parameters\n",
    "    ----------\n",
    "    point_2 : tuple\n",
    "        The point to find the squared distance to.\n",
    "    point_1 : tuple\n",
    "        Optional - defaults to the starting point defined in the graham_scan() function. The point to find the\n",
    "    squared distance from.\n",
    "\n",
    "    Returns\n",
    "    -------\n",
    "    distance_squared : float\n",
    "        The squared distance between the two points.\n",
    "    \"\"\"\n",
    "    # Get the distance squared between two points. If the second point is not provided, use the starting point.\n",
    "    point_1 = start_point if point_1 is None else point_1\n",
    "    delta_x = point_2[0] - point_1[0]\n",
    "    delta_y = point_2[1] - point_1[1]\n",
    "    # Don't need the sqrt since just sorting for dist\n",
    "    return float(delta_x**2 + delta_y**2)"
   ]
  },
  {
   "cell_type": "code",
   "execution_count": null,
   "metadata": {},
   "outputs": [],
   "source": [
    "def sort_points(points: list, start_point) -> list:\n",
    "    #    def sort_points(self, points: np.array) -> List:\n",
    "    \"\"\"Function to sort points in counter-clockwise order of angle made with the starting point.\n",
    "\n",
    "    Parameters\n",
    "    ----------\n",
    "    points: list\n",
    "        A python list of the coordinates to sort.\n",
    "\n",
    "    Returns\n",
    "    -------\n",
    "    sorted_points : list\n",
    "        A python list of sorted points.\n",
    "    \"\"\"\n",
    "    # Return if the list is length 1 or 0 (i.e. a single point).\n",
    "    if len(points) <= 1:\n",
    "        return points\n",
    "    # Lists that allow sorting of points relative to a current comparision point\n",
    "    smaller, equal, larger = [], [], []\n",
    "    # Get a random point in the array to calculate the pivot angle from. This sorts the points relative to this point.\n",
    "    pivot_angle = self.get_angle(points[randint(0, len(points) - 1)], start_point)\n",
    "    for point in points:\n",
    "        point_angle = self.get_angle(point, start_point)\n",
    "        # If the\n",
    "        if point_angle < pivot_angle:\n",
    "            smaller.append(point)\n",
    "        elif point_angle == pivot_angle:\n",
    "            equal.append(point)\n",
    "        else:\n",
    "            larger.append(point)\n",
    "    # Lets take a different approach and use arrays, we have a start point lets work out the angle of each point\n",
    "    # relative to that and _then_ sort it.\n",
    "    # pivot_angles = self.get_angle(points, self.start_point)\n",
    "    # Recursively sort the arrays until each point is sorted\n",
    "    sorted_points = (\n",
    "        sort_points(smaller) + sorted(equal, key=self.calculate_squared_distance) + sort_points(larger)\n",
    "    )\n",
    "    # Return sorted array where equal angle points are sorted by distance\n",
    "    return sorted_points"
   ]
  },
  {
   "cell_type": "code",
   "execution_count": 38,
   "metadata": {},
   "outputs": [
    {
     "name": "stdout",
     "output_type": "stream",
     "text": [
      "[[ 1.   0. ]\n",
      " [ 1.5 12. ]\n",
      " [ 2.   0. ]]\n"
     ]
    },
    {
     "data": {
      "image/png": "[encoded data removed]",
      "text/plain": [
       "<Figure size 640x480 with 1 Axes>"
      ]
     },
     "metadata": {},
     "output_type": "display_data"
    }
   ],
   "source": [
    "points = np.array(\n",
    "    [\n",
    "        [1, 0],\n",
    "        [1.5, 12],\n",
    "        [2, 0]\n",
    "    ]\n",
    ")\n",
    "print(points)\n",
    "fig, ax = plt.subplots()\n",
    "ax.scatter(points[:, 0], points[:, 1])\n",
    "ax.set_aspect(1)\n"
   ]
  },
  {
   "cell_type": "code",
   "execution_count": 40,
   "metadata": {},
   "outputs": [
    {
     "name": "stdout",
     "output_type": "stream",
     "text": [
      "[1. 0.]\n",
      "[ 1.5 12. ]\n",
      "[2. 0.]\n"
     ]
    },
    {
     "data": {
      "text/plain": [
       "(0.999133073092352, 12.010412149464313)"
      ]
     },
     "execution_count": 40,
     "metadata": {},
     "output_type": "execute_result"
    }
   ],
   "source": [
    "def is_clockwise(p_1: tuple, p_2: tuple, p_3: tuple) -> bool:\n",
    "    \"\"\"Function to determine if three points make a clockwise or counter-clockwise turn.\n",
    "\n",
    "    Parameters\n",
    "    ----------\n",
    "    p_1: tuple\n",
    "        First point to be used to calculate turn.\n",
    "    p_2: tuple\n",
    "        Second point to be used to calculate turn.\n",
    "    p_3: tuple\n",
    "        Third point to be used to calculate turn.\n",
    "\n",
    "    Returns\n",
    "    -------\n",
    "    boolean\n",
    "        Indicator of whether turn is clockwise.\n",
    "    \"\"\"\n",
    "\n",
    "    rotation_matrix = np.array(((p_1[0], p_1[1], 1), (p_2[0], p_2[1], 1), (p_3[0], p_3[1], 1)))\n",
    "    return not np.linalg.det(rotation_matrix) > 0\n",
    "\n",
    "def get_triangle_height(base_point_1: np.array, base_point_2: np.array, top_point: np.array) -> float:\n",
    "    \"\"\"Returns the height of a triangle defined by the input point vectors.\n",
    "    Parameters\n",
    "    ----------\n",
    "    base_point_1: np.ndarray\n",
    "        a base point of the triangle, eg: [5, 3].\n",
    "\n",
    "    base_point_2: np.ndarray\n",
    "        a base point of the triangle, eg: [8, 3].\n",
    "\n",
    "    top_point: np.ndarray\n",
    "        the top point of the triangle, defining the height from the line between the two base points, eg: [6,10].\n",
    "\n",
    "    Returns\n",
    "    -------\n",
    "    Float\n",
    "        The height of the triangle - ie the shortest distance between the top point and the line between the two base points.\n",
    "    \"\"\"\n",
    "\n",
    "    # Height of triangle = A/b = ||AB X AC|| / ||AB||\n",
    "    a_b = base_point_1 - base_point_2\n",
    "    a_c = base_point_1 - top_point\n",
    "    return np.linalg.norm(np.cross(a_b, a_c)) / np.linalg.norm(a_b)\n",
    "\n",
    "def ferets(edges: np.ndarray) -> float:\n",
    "    \"\"\"Returns the minimum and maximum feret diameters for a grain.\n",
    "    These are defined as the smallest and greatest distances between\n",
    "    a pair of callipers that are rotating around a 2d object, maintaining\n",
    "    contact at all times.\n",
    "\n",
    "    Parameters\n",
    "    ----------\n",
    "    edge_points: list\n",
    "        a list of the vector positions of the pixels comprising the edge of the\n",
    "        grain. Eg: [[0, 0], [1, 0], [2, 1]]\n",
    "    Returns\n",
    "    -------\n",
    "    min_feret: float\n",
    "        the minimum feret diameter of the grain\n",
    "    max_feret: float\n",
    "        the maximum feret diameter of the grain\"\"\"\n",
    "\n",
    "    # Sort the vectors by x coordinate then y coordinate\n",
    "    sorted_indices = np.lexsort((edges[:, 1], edges[:, 0]))\n",
    "    sorted = edges[sorted_indices]\n",
    "\n",
    "    # Construct upper and lower hulls for the edge points.\n",
    "    upper_hull = []\n",
    "    lower_hull = []\n",
    "    for point in sorted:\n",
    "        print(point)\n",
    "        while len(lower_hull) > 1 and is_clockwise(lower_hull[-2], lower_hull[-1], point):\n",
    "            lower_hull.pop()\n",
    "        lower_hull.append(point)\n",
    "        while len(upper_hull) > 1 and not is_clockwise(upper_hull[-2], upper_hull[-1], point):\n",
    "            upper_hull.pop()\n",
    "        upper_hull.append(point)\n",
    "    \n",
    "    upper_hull = np.array(upper_hull)\n",
    "    lower_hull = np.array(lower_hull)\n",
    "\n",
    "    # Create list of contact vertices for calipers on the antipodal hulls\n",
    "    contact_points = []\n",
    "    upper_index = 0\n",
    "    lower_index = len(lower_hull) - 1\n",
    "    min_feret = None\n",
    "    while upper_index < len(upper_hull) - 1 or lower_index > 0:\n",
    "        contact_points.append([lower_hull[lower_index, :], upper_hull[upper_index, :]])\n",
    "        # If we have reached the end of the upper hull, continute iterating over the lower hull\n",
    "        if upper_index == len(upper_hull) - 1:\n",
    "            lower_index -= 1\n",
    "            small_feret = get_triangle_height(\n",
    "                np.array(lower_hull[lower_index + 1, :]),\n",
    "                np.array(lower_hull[lower_index, :]),\n",
    "                np.array(upper_hull[upper_index, :]),\n",
    "            )\n",
    "            if min_feret is None or small_feret < min_feret:\n",
    "                min_feret = small_feret\n",
    "        # If we have reached the end of the lower hull, continue iterating over the upper hull\n",
    "        elif lower_index == 0:\n",
    "            upper_index += 1\n",
    "            small_feret = get_triangle_height(\n",
    "                np.array(upper_hull[upper_index - 1, :]),\n",
    "                np.array(upper_hull[upper_index, :]),\n",
    "                np.array(lower_hull[lower_index, :]),\n",
    "            )\n",
    "            if min_feret is None or small_feret < min_feret:\n",
    "                min_feret = small_feret\n",
    "        # Check if the gradient of the last point and the proposed next point in the upper hull is greater than the gradient\n",
    "        # of the two corresponding points in the lower hull, if so, this means that the next point in the upper hull\n",
    "        # will be encountered before the next point in the lower hull and vice versa.\n",
    "        # Note that the calculation here for gradients is the simple delta upper_y / delta upper_x > delta lower_y / delta lower_x\n",
    "        # however I have multiplied through the denominators such that there are no instances of division by zero. The\n",
    "        # inequality still holds and provides what is needed.\n",
    "        elif (upper_hull[upper_index + 1, 1] - upper_hull[upper_index, 1]) * (\n",
    "            lower_hull[lower_index, 0] - lower_hull[lower_index - 1, 0]\n",
    "        ) > (lower_hull[lower_index, 1] - lower_hull[lower_index - 1, 1]) * (\n",
    "            upper_hull[upper_index + 1, 0] - upper_hull[upper_index, 0]\n",
    "        ):\n",
    "            # If the upper hull is encoutnered first, increment the iteration index for the upper hull\n",
    "            # Also consider the triangle that is made as the two upper hull vertices are colinear with the caliper\n",
    "            upper_index += 1\n",
    "            small_feret = get_triangle_height(\n",
    "                np.array(upper_hull[upper_index - 1, :]),\n",
    "                np.array(upper_hull[upper_index, :]),\n",
    "                np.array(lower_hull[lower_index, :]),\n",
    "            )\n",
    "            if min_feret is None or small_feret < min_feret:\n",
    "                min_feret = small_feret\n",
    "        else:\n",
    "            # The next point in the lower hull will be encountered first, so increment the lower hull iteration index.\n",
    "            lower_index -= 1\n",
    "            small_feret = get_triangle_height(\n",
    "                np.array(lower_hull[lower_index + 1, :]),\n",
    "                np.array(lower_hull[lower_index, :]),\n",
    "                np.array(upper_hull[upper_index, :]),\n",
    "            )\n",
    "\n",
    "            if min_feret is None or small_feret < min_feret:\n",
    "                min_feret = small_feret\n",
    "\n",
    "    contact_points = np.array(contact_points)\n",
    "\n",
    "    # Find the minimum and maximum distance in the contact points\n",
    "    max_feret = None\n",
    "    for point_pair in contact_points:\n",
    "        dist = np.sqrt((point_pair[0, 0] - point_pair[1, 0]) ** 2 + (point_pair[0, 1] - point_pair[1, 1]) ** 2)\n",
    "        if max_feret is None or max_feret < dist:\n",
    "            max_feret = dist\n",
    "\n",
    "    return min_feret, max_feret\n",
    "\n",
    "ferets(edges=points.copy())"
   ]
  },
  {
   "cell_type": "code",
   "execution_count": null,
   "metadata": {},
   "outputs": [],
   "source": [
    "def graham_scan(edges: list):\n",
    "    \"\"\"A function based on the Graham Scan algorithm that constructs a convex hull from points in 2D cartesian\n",
    "    space. Ideally this algorithm will take O( n * log(n) ) time.\n",
    "\n",
    "    Parameters\n",
    "    ----------\n",
    "    edges : list\n",
    "        A python list of coordinates that make up the edges of the grain.\n",
    "\n",
    "    Returns\n",
    "    -------\n",
    "    hull : list\n",
    "        A list containing coordinates of the points in the hull.\n",
    "    hull_indices : list\n",
    "        A list containing the hull points indices inside the edges list. In other words, this provides a way to find\n",
    "        the points from the hull inside the edges list that was passed.\n",
    "    simplices : list\n",
    "        A  list of tuples, each tuple representing a simplex of the convex hull. These simplices are sorted such\n",
    "        that they follow each other in counterclockwise order.\n",
    "    \"\"\"\n",
    "    # FIXME : Make this an isolated method\n",
    "    # Find a point guaranteed to be on the hull. I find the bottom most point(s) and sort by x-position.\n",
    "    min_y_index = None\n",
    "    for index, point in enumerate(edges):\n",
    "        if min_y_index is None or point[1] < edges[min_y_index][1]:\n",
    "            min_y_index = index\n",
    "        if point[1] == edges[min_y_index][1] and point[0] < edges[min_y_index][0]:\n",
    "            min_y_index = index\n",
    "    start_point = edges[min_y_index]\n",
    "    # This does the same thing, but as a separate method and with Numpy Array rather than a lsit\n",
    "    # self.get_start_point(edges)\n",
    "    # Sort the points\n",
    "    points_sorted_by_angle = sort_points(edges, start_point)\n",
    "\n",
    "    # Remove starting point from the list so it's not added more than once to the hull\n",
    "    start_point_index = points_sorted_by_angle.index(start_point)\n",
    "    del points_sorted_by_angle[start_point_index]\n",
    "    # Add start point and the first point sorted by angle. Both of these points will always be on the hull.\n",
    "    hull = [start_point, points_sorted_by_angle[0]]\n",
    "\n",
    "    # Iterate through each point, checking if this point would cause a clockwise rotation if added to the hull, and\n",
    "    # if so, backtracking.\n",
    "    for index, point in enumerate(points_sorted_by_angle[1:]):\n",
    "        # Determine if the proposed point demands a clockwise rotation\n",
    "        while self.is_clockwise(hull[-2], hull[-1], point) is True:\n",
    "            # Delete the failed point\n",
    "            del hull[-1]\n",
    "            if len(hull) < 2:\n",
    "                break\n",
    "        # The point does not immediately cause a clockwise rotation.\n",
    "        hull.append(point)\n",
    "\n",
    "    # Get hull indices from original points array\n",
    "    hull_indices = []\n",
    "    for point in hull:\n",
    "        hull_indices.append(edges.index(point))\n",
    "\n",
    "    # Create simplices from the hull points\n",
    "    simplices = []\n",
    "    for index, value in enumerate(hull_indices):\n",
    "        simplices.append((hull_indices[index - 1], value))\n",
    "\n",
    "    return hull, hull_indices, simplices"
   ]
  },
  {
   "cell_type": "code",
   "execution_count": 1,
   "metadata": {},
   "outputs": [],
   "source": [
    "def convex_hull(edges: list):\n",
    "\n",
    "    hull, hull_indices, simplexes = graham_scan(edges)\n",
    "\n",
    "    # Debug information\n",
    "    plt.plot(edges)\n",
    "    plt.plot(hull)\n",
    "    print(f\"points: {edges}\")\n",
    "    print(f\"hull: {hull}\")\n",
    "    print(f\"hull indexes: {hull_indices}\")\n",
    "    print(f\"simplexes: {simplexes}\")\n",
    "\n",
    "    return hull, hull_indices, simplexes"
   ]
  },
  {
   "cell_type": "code",
   "execution_count": 3,
   "metadata": {},
   "outputs": [
    {
     "ename": "NameError",
     "evalue": "name 'self' is not defined",
     "output_type": "error",
     "traceback": [
      "\u001b[0;31m---------------------------------------------------------------------------\u001b[0m",
      "\u001b[0;31mNameError\u001b[0m                                 Traceback (most recent call last)",
      "Cell \u001b[0;32mIn[3], line 3\u001b[0m\n\u001b[1;32m      1\u001b[0m edges \u001b[39m=\u001b[39m [[\u001b[39m0\u001b[39m, \u001b[39m0\u001b[39m], [\u001b[39m1\u001b[39m, \u001b[39m0\u001b[39m], [\u001b[39m1\u001b[39m, \u001b[39m1\u001b[39m], [\u001b[39m0\u001b[39m, \u001b[39m1\u001b[39m]]\n\u001b[0;32m----> 3\u001b[0m hull, hull_indices, simplexes \u001b[39m=\u001b[39m convex_hull(edges)\n",
      "Cell \u001b[0;32mIn[1], line 23\u001b[0m, in \u001b[0;36mconvex_hull\u001b[0;34m(edges)\u001b[0m\n\u001b[1;32m      1\u001b[0m \u001b[39mdef\u001b[39;00m \u001b[39mconvex_hull\u001b[39m(edges: \u001b[39mlist\u001b[39m):\n\u001b[1;32m      2\u001b[0m \u001b[39m    \u001b[39m\u001b[39m\"\"\"Class method that takes a grain mask and the edges of the grain and returns the grain's convex hull. Based\u001b[39;00m\n\u001b[1;32m      3\u001b[0m \u001b[39m    off of the Graham Scan algorithm and should ideally scale in time with O(nlog(n)).\u001b[39;00m\n\u001b[1;32m      4\u001b[0m \n\u001b[0;32m   (...)\u001b[0m\n\u001b[1;32m     21\u001b[0m \u001b[39m        List of tuples, each tuple representing a simplex of the convex hull. These simplices are sorted such that they follow each other in counterclockwise order.\u001b[39;00m\n\u001b[1;32m     22\u001b[0m \u001b[39m    \"\"\"\u001b[39;00m\n\u001b[0;32m---> 23\u001b[0m     hull, hull_indices, simplexes \u001b[39m=\u001b[39m \u001b[39mself\u001b[39;49m\u001b[39m.\u001b[39mgraham_scan(edges)\n\u001b[1;32m     25\u001b[0m     \u001b[39m# Debug information\u001b[39;00m\n\u001b[1;32m     26\u001b[0m     plt\u001b[39m.\u001b[39mplot(edges)\n",
      "\u001b[0;31mNameError\u001b[0m: name 'self' is not defined"
     ]
    }
   ],
   "source": [
    "edges = [[0, 0], [1, 0], [1, 1], [0, 1]]\n",
    "\n",
    "hull, hull_indices, simplexes = convex_hull(edges)"
   ]
  },
  {
   "cell_type": "code",
   "execution_count": 176,
   "metadata": {},
   "outputs": [
    {
     "name": "stdout",
     "output_type": "stream",
     "text": [
      "\u001b[1m======================================= test session starts ========================================\u001b[0m\n",
      "platform darwin -- Python 3.10.9, pytest-7.2.1, pluggy-1.0.0\n",
      "Matplotlib: 3.6.3\n",
      "Freetype: 2.6.1\n",
      "rootdir: /Users/sylvi/Documents/TopoStats, configfile: pyproject.toml\n",
      "plugins: xdist-3.1.0, regtest-1.5.0, mpl-0.16.1, cov-4.0.0, anyio-3.6.2\n",
      "collected 4 items\n",
      "\n",
      "t_84d2eb3ca77142dca8c23141b5ab671e.py \u001b[32m.\u001b[0m\u001b[32m.\u001b[0m\u001b[32m.\u001b[0m\u001b[32m.\u001b[0m\u001b[32m                                                   [100%]\u001b[0m\u001b[31m\u001b[1mWARNING: Failed to generate report: No data to report.\n",
      "\n",
      "\u001b[0m\n",
      "\n",
      "---------- coverage: platform darwin, python 3.10.9-final-0 ----------\n",
      "\n",
      "\n",
      "\u001b[32m======================================== \u001b[32m\u001b[1m4 passed\u001b[0m\u001b[32m in 0.03s\u001b[0m\u001b[32m =========================================\u001b[0m\n"
     ]
    },
    {
     "name": "stderr",
     "output_type": "stream",
     "text": [
      "/opt/homebrew/Caskroom/miniforge/base/lib/python3.10/site-packages/coverage/report.py:114: CoverageWarning: Couldn't parse '/private/var/folders/sr/wjtfqr9s6x3bw1s647t649x80000gn/T/ipykernel_1345/1405329698.py': No source for code: '/private/var/folders/sr/wjtfqr9s6x3bw1s647t649x80000gn/T/ipykernel_1345/1405329698.py'. (couldnt-parse)\n",
      "  coverage._warn(msg, slug=\"couldnt-parse\")\n",
      "/opt/homebrew/Caskroom/miniforge/base/lib/python3.10/site-packages/coverage/report.py:114: CoverageWarning: Couldn't parse '/private/var/folders/sr/wjtfqr9s6x3bw1s647t649x80000gn/T/ipykernel_1345/2899503676.py': No source for code: '/private/var/folders/sr/wjtfqr9s6x3bw1s647t649x80000gn/T/ipykernel_1345/2899503676.py'. (couldnt-parse)\n",
      "  coverage._warn(msg, slug=\"couldnt-parse\")\n",
      "/opt/homebrew/Caskroom/miniforge/base/lib/python3.10/site-packages/coverage/report.py:114: CoverageWarning: Couldn't parse '/private/var/folders/sr/wjtfqr9s6x3bw1s647t649x80000gn/T/ipykernel_1345/2993623086.py': No source for code: '/private/var/folders/sr/wjtfqr9s6x3bw1s647t649x80000gn/T/ipykernel_1345/2993623086.py'. (couldnt-parse)\n",
      "  coverage._warn(msg, slug=\"couldnt-parse\")\n",
      "/opt/homebrew/Caskroom/miniforge/base/lib/python3.10/site-packages/coverage/report.py:114: CoverageWarning: Couldn't parse '/private/var/folders/sr/wjtfqr9s6x3bw1s647t649x80000gn/T/ipykernel_1345/365785899.py': No source for code: '/private/var/folders/sr/wjtfqr9s6x3bw1s647t649x80000gn/T/ipykernel_1345/365785899.py'. (couldnt-parse)\n",
      "  coverage._warn(msg, slug=\"couldnt-parse\")\n",
      "/opt/homebrew/Caskroom/miniforge/base/lib/python3.10/site-packages/pytest_cov/plugin.py:311: CovReportWarning: Failed to generate report: No data to report.\n",
      "\n",
      "  warnings.warn(CovReportWarning(message))\n"
     ]
    },
    {
     "data": {
      "text/plain": [
       "<ExitCode.OK: 0>"
      ]
     },
     "execution_count": 176,
     "metadata": {},
     "output_type": "execute_result"
    }
   ],
   "source": [
    "ipytest.run()"
   ]
  }
 ],
 "metadata": {
  "kernelspec": {
   "display_name": "base",
   "language": "python",
   "name": "python3"
  },
  "language_info": {
   "codemirror_mode": {
    "name": "ipython",
    "version": 3
   },
   "file_extension": ".py",
   "mimetype": "text/x-python",
   "name": "python",
   "nbconvert_exporter": "python",
   "pygments_lexer": "ipython3",
   "version": "3.10.9"
  },
  "orig_nbformat": 4
 },
 "nbformat": 4,
 "nbformat_minor": 2
}
