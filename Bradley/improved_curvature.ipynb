{
 "cells": [
  {
   "cell_type": "code",
   "execution_count": null,
   "metadata": {},
   "outputs": [],
   "source": [
    "from network_stats import interpolate_spline_and_get_curvature, interpolate_and_get_curvature, visualise_curvature_pixel_image, visualise_curvature_scatter\n",
    "import numpy as np\n",
    "import matplotlib.pyplot as plt\n",
    "import matplotlib.cm as cm"
   ]
  },
  {
   "cell_type": "code",
   "execution_count": null,
   "metadata": {},
   "outputs": [],
   "source": [
    "points = np.array(\n",
    "    [\n",
    "        [0, 0],\n",
    "        [1, 1],\n",
    "        [2, 4],\n",
    "        [3, 6],\n",
    "        [6, 7],\n",
    "        [8, 4],\n",
    "        [10, 3],\n",
    "        [12, 2],\n",
    "        [10, 1],\n",
    "        [5, 0],\n",
    "    ]\n",
    ").astype(float)\n",
    "\n",
    "# Add the first coordinate to the end to ensure it loops for the linear interpolation\n",
    "looped_points = np.vstack((points, points[0]))\n",
    "\n",
    "interp_curvatures, curvatures, interpolated_points = interpolate_and_get_curvature(points=looped_points, interpolation_number=100)\n",
    "\n",
    "# Visualise non-interpolated curvatures\n",
    "visualise_curvature_scatter(curvatures=curvatures, points=looped_points, title=\"no interpolation curvature\")\n",
    "visualise_curvature_pixel_image(curvatures=curvatures, points=looped_points, title=\"no interpolation curvature\")\n",
    "\n",
    "# Visualise linearly interpolated curvatures\n",
    "visualise_curvature_scatter(curvatures=interp_curvatures, points=interpolated_points, title=\"linear interpolation curvature\")\n",
    "visualise_curvature_pixel_image(curvatures=interp_curvatures, points=interpolated_points, title=\"linear interpolation curvature\")\n",
    "\n",
    "print(f\"non-interpolated mean curvature: {np.mean(curvatures)}\")\n",
    "print(f\"interpolated mean curvature: {np.mean(interp_curvatures)}\")\n",
    "\n",
    "#  --------- SPLINE INTERPOLATION -----------\n",
    "interp_curvatures, interpolated_points = interpolate_spline_and_get_curvature(points=points, interpolation_number=100)\n",
    "\n",
    "# Visualise spline interpolated curvatures\n",
    "visualise_curvature_scatter(curvatures=interp_curvatures, points=interpolated_points, title=\"spline interpolation curvature\")\n",
    "visualise_curvature_pixel_image(curvatures=interp_curvatures, points=interpolated_points, title=\"spline interpolation curvature\")\n",
    "\n",
    "print(f\"spline mean curvature: {np.mean(interp_curvatures)}\")"
   ]
  }
 ],
 "metadata": {
  "kernelspec": {
   "display_name": "new",
   "language": "python",
   "name": "python3"
  },
  "language_info": {
   "codemirror_mode": {
    "name": "ipython",
    "version": 3
   },
   "file_extension": ".py",
   "mimetype": "text/x-python",
   "name": "python",
   "nbconvert_exporter": "python",
   "pygments_lexer": "ipython3",
   "version": "3.10.9"
  },
  "orig_nbformat": 4
 },
 "nbformat": 4,
 "nbformat_minor": 2
}
