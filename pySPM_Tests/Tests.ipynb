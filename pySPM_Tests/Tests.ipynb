{
 "cells": [
  {
   "cell_type": "code",
   "execution_count": 3,
   "metadata": {},
   "outputs": [
    {
     "name": "stdout",
     "output_type": "stream",
     "text": [
      "PySPM version: 0.2.23\n",
      "Channels\n",
      "========\n",
      "\tS [ZSensor] \"Height Sensor\"\n",
      "\tS [] \"Peak Force Error\"\n",
      "\tS [Stiffness] \"DMTModulus\"\n",
      "\tS [LogStiffness] \"LogDMTModulus\"\n",
      "\tS [Adhesion] \"Adhesion\"\n",
      "\tS [Deformation] \"Deformation\"\n",
      "\tS [Dissipation] \"Dissipation\"\n",
      "\tS [Height] \"Height\"\n"
     ]
    }
   ],
   "source": [
    "# Imports\n",
    "import numpy as np\n",
    "import matplotlib.pyplot as plt\n",
    "import matplotlib as mpl\n",
    "import os\n",
    "import copy\n",
    "import io\n",
    "from skimage import morphology as skimorph\n",
    "from skimage import filters as skifilter\n",
    "from skimage import segmentation as skisegment\n",
    "from skimage import measure as skimeasure\n",
    "from skimage import exposure as skiexposure\n",
    "\n",
    "import pySPM \n",
    "print(f'PySPM version: {pySPM.__version__}')\n",
    "\n",
    "# Matplotlib config\n",
    "%matplotlib inline\n",
    "mpl.rcParams['figure.dpi'] = 150\n",
    "\n",
    "# Get data\n",
    "filename = '../minicircle.spm'\n",
    "scan = pySPM.Bruker(filename)\n",
    "scan.list_channels()\n",
    "\n"
   ]
  }
 ],
 "metadata": {
  "interpreter": {
   "hash": "aa56e580984b1a296971f30442bc61f958095fd323e4c40315b6131b45c51ee0"
  },
  "kernelspec": {
   "display_name": "Python 3.9.7 64-bit",
   "language": "python",
   "name": "python3"
  },
  "language_info": {
   "codemirror_mode": {
    "name": "ipython",
    "version": 3
   },
   "file_extension": ".py",
   "mimetype": "text/x-python",
   "name": "python",
   "nbconvert_exporter": "python",
   "pygments_lexer": "ipython3",
   "version": "3.9.7"
  },
  "orig_nbformat": 4
 },
 "nbformat": 4,
 "nbformat_minor": 2
}
