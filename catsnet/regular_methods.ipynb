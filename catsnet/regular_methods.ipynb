{
 "cells": [
  {
   "cell_type": "code",
   "execution_count": null,
   "metadata": {},
   "outputs": [],
   "source": [
    "from pathlib import Path\n",
    "\n",
    "import numpy as np\n",
    "import matplotlib.pyplot as plt\n",
    "import cv2\n",
    "\n",
    "from topostats.io import LoadScans\n",
    "from topostats.filters import Filters"
   ]
  },
  {
   "cell_type": "code",
   "execution_count": null,
   "metadata": {},
   "outputs": [],
   "source": [
    "def plot(image: np.ndarray):\n",
    "    plt.imshow(image)\n",
    "    plt.show()\n",
    "\n",
    "\n",
    "def plot_gallery(images: list, figsize=(20, 40)):\n",
    "    cols = 5\n",
    "    rows = int(np.floor(len(images) / cols) + 1)\n",
    "    print(f\"images: {len(images)} rows: {rows}, cols: {cols}\")\n",
    "    fig, ax = plt.subplots(int(rows), int(cols), figsize=figsize)\n",
    "    for index, image in enumerate(images):\n",
    "        ax[int(np.floor(index / cols)), int(index % cols)].imshow(image)\n",
    "    plt.show()"
   ]
  },
  {
   "cell_type": "code",
   "execution_count": null,
   "metadata": {},
   "outputs": [],
   "source": [
    "FILE_DIR = Path(\"/Users/sylvi/topo_data/cats/flattened_images_numpy/\")\n",
    "# OUTPUT_DIR = Path(\"/Users/sylvi/topo_data/cats/flattened_images_numpy/\")\n",
    "CONFIG_DIR = Path(\"/Users/sylvi/topo_data/cats/catsconf.yaml\")\n",
    "files = FILE_DIR.glob(\"*.npy\")\n",
    "\n",
    "# images = []\n",
    "# for file in files:\n",
    "# print(file)\n",
    "# image = cv2.imread(str(file), 0)\n",
    "# images.append(image)\n",
    "# plot(image)\n",
    "\n",
    "images = []\n",
    "for file in files:\n",
    "    image = np.load(file)\n",
    "    images.append(image)\n",
    "\n",
    "\n",
    "threshold = 1.8\n",
    "masks = []\n",
    "for image in images:\n",
    "    mask = image > threshold\n",
    "    masks.append(mask)\n",
    "\n",
    "\n",
    "fig, ax = plt.subplots(len(images), 2, figsize=(10, 200))\n",
    "for index, (image, mask) in enumerate(zip(images, masks)):\n",
    "    ax[index, 0].imshow(image)\n",
    "    ax[index, 1].imshow(mask)"
   ]
  }
 ],
 "metadata": {
  "kernelspec": {
   "display_name": "new",
   "language": "python",
   "name": "python3"
  },
  "language_info": {
   "codemirror_mode": {
    "name": "ipython",
    "version": 3
   },
   "file_extension": ".py",
   "mimetype": "text/x-python",
   "name": "python",
   "nbconvert_exporter": "python",
   "pygments_lexer": "ipython3",
   "version": "3.10.9"
  }
 },
 "nbformat": 4,
 "nbformat_minor": 2
}
