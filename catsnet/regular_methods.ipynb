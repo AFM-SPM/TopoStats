{
 "cells": [
  {
   "cell_type": "code",
   "execution_count": null,
   "metadata": {},
   "outputs": [],
   "source": [
    "from pathlib import Path\n",
    "\n",
    "import numpy as np\n",
    "import matplotlib.pyplot as plt\n",
    "import cv2\n",
    "\n",
    "from topostats.io import LoadScans\n",
    "from topostats.filters import Filters"
   ]
  },
  {
   "cell_type": "code",
   "execution_count": null,
   "metadata": {},
   "outputs": [],
   "source": [
    "def plot(image: np.ndarray):\n",
    "    plt.imshow(image)\n",
    "    plt.show()\n",
    "\n",
    "\n",
    "def plot_gallery(images: list, figsize=(20, 40)):\n",
    "    cols = 5\n",
    "    rows = int(np.floor(len(images) / cols) + 1)\n",
    "    print(f\"images: {len(images)} rows: {rows}, cols: {cols}\")\n",
    "    fig, ax = plt.subplots(int(rows), int(cols), figsize=figsize)\n",
    "    for index, image in enumerate(images):\n",
    "        ax[int(np.floor(index / cols)), int(index % cols)].imshow(image)\n",
    "    plt.show()"
   ]
  },
  {
   "cell_type": "code",
   "execution_count": null,
   "metadata": {},
   "outputs": [],
   "source": [
    "FILE_DIR = Path(\"/Users/sylvi/topo_data/cats/all_data/\")\n",
    "OUTPUT_DIR = Path(\"/Users/sylvi/topo_data/cats/flattened_images_numpy/\")\n",
    "CONFIG_DIR = Path(\"/Users/sylvi/topo_data/cats/catsconf.yaml\")\n",
    "files = FILE_DIR.glob(\"*.spm\")\n",
    "\n",
    "# images = []\n",
    "# for file in files:\n",
    "    # print(file)\n",
    "    # image = cv2.imread(str(file), 0)\n",
    "    # images.append(image)\n",
    "    # plot(image)\n",
    "\n",
    "files = list(files)\n",
    "loadscans = LoadScans(files, channel=\"Height\")\n",
    "loadscans.get_data()\n",
    "loadscans_dictionary = loadscans.img_dict\n",
    "print(loadscans_dictionary.keys())\n",
    "\n",
    "\n",
    "for filename, image_dictionary in loadscans_dictionary.items():\n",
    "    filters = Filters(\n",
    "        image=image_dictionary[\"image\"],\n",
    "        filename=filename,\n",
    "        pixel_to_nm_scaling=image_dictionary[\"px_2_nm\"],\n",
    "        threshold_method=\n",
    "\n",
    "    )\n",
    "\n",
    "\n",
    "\n",
    "plot_gallery(images=images)\n",
    "\n",
    "\n",
    "# for image in images:\n"
   ]
  }
 ],
 "metadata": {
  "kernelspec": {
   "display_name": "new",
   "language": "python",
   "name": "python3"
  },
  "language_info": {
   "codemirror_mode": {
    "name": "ipython",
    "version": 3
   },
   "file_extension": ".py",
   "mimetype": "text/x-python",
   "name": "python",
   "nbconvert_exporter": "python",
   "pygments_lexer": "ipython3",
   "version": "3.10.9"
  }
 },
 "nbformat": 4,
 "nbformat_minor": 2
}
