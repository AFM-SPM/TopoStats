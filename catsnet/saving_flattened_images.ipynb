{
 "cells": [
  {
   "cell_type": "code",
   "execution_count": null,
   "metadata": {},
   "outputs": [],
   "source": [
    "from pathlib import Path\n",
    "from copy import deepcopy\n",
    "\n",
    "\n",
    "import numpy as np\n",
    "import matplotlib.pyplot as plt\n",
    "from skimage.filters import hessian\n",
    "from skimage.feature import hessian_matrix, hessian_matrix_eigvals\n",
    "\n",
    "from topostats.filters import Filters\n",
    "from topostats.io import LoadScans\n",
    "from topostats.io import read_yaml\n",
    "\n",
    "from topostats.plottingfuncs import Colormap\n",
    "\n",
    "colormap = Colormap()\n",
    "cmap = colormap.get_cmap()"
   ]
  },
  {
   "cell_type": "code",
   "execution_count": null,
   "metadata": {},
   "outputs": [],
   "source": [
    "def detect_ridges(gray, sigma=1.0):\n",
    "    H_elems = hessian_matrix(gray, sigma=sigma, order=\"rc\")\n",
    "    maxima_ridges, minima_ridges = hessian_matrix_eigvals(H_elems)\n",
    "    return maxima_ridges, minima_ridges"
   ]
  },
  {
   "cell_type": "code",
   "execution_count": null,
   "metadata": {},
   "outputs": [],
   "source": [
    "# FILE_DIR = Path(\"./all_data\")\n",
    "# OUTPUT_DIR = Path(\"./training_data/images_edge_detection_lower_all_sigma_4\")\n",
    "\n",
    "FILE_DIR = Path(\"/Users/sylvi/topo_data/cats/eddie-haribo/on-target/data/\")\n",
    "OUTPUT_DIR = Path(\"/Users/sylvi/topo_data/cats/eddie-haribo/on-target/\")\n",
    "CONFIG_PATH = Path(\"/Users/sylvi/topo_data/cats/catsconf.yaml\")\n",
    "\n",
    "\n",
    "files = list(FILE_DIR.glob(\"*.spm\"))\n",
    "print(files)\n",
    "\n",
    "# Load the data\n",
    "loadscans = LoadScans(files, channel=\"Height\")\n",
    "loadscans.get_data()\n",
    "topostats_data_dictionary = loadscans.img_dict\n",
    "\n",
    "print(topostats_data_dictionary.keys())\n",
    "\n",
    "filter_config = read_yaml(CONFIG_PATH)[\"filter\"]\n",
    "filter_config.pop(\"run\")\n",
    "filter_config[\"remove_scars\"][\"run\"] = True\n",
    "print(filter_config)\n",
    "\n",
    "for index, (image_name, topostats_object) in enumerate(topostats_data_dictionary.items()):\n",
    "    print(topostats_object.keys())\n",
    "    image = topostats_object[\"image\"]\n",
    "    pixel_to_nm_scaling = topostats_object[\"px_2_nm\"]\n",
    "    filter_config_copy = deepcopy(filter_config)\n",
    "    print(filter_config_copy)\n",
    "    filters = Filters(image=image, filename=image_name, pixel_to_nm_scaling=pixel_to_nm_scaling, **filter_config_copy)\n",
    "    filters.filter_image()\n",
    "    flattened_image = filters.images[\"gaussian_filtered\"]\n",
    "\n",
    "    minima_edges, maxima_edges = detect_ridges(flattened_image, sigma=4.0)\n",
    "\n",
    "    # plt.imsave(OUTPUT_DIR / f\"training_image_{index}.png\", minima_edges, cmap=\"binary\")\n",
    "\n",
    "    plt.imsave(OUTPUT_DIR / \"flattened\" / f\"flattened_{index}.png\", flattened_image)\n",
    "    plt.imsave(OUTPUT_DIR / \"ridges\" / f\"ridges_{index}.png\", maxima_edges, cmap=\"binary\")\n",
    "\n",
    "    # fig, ax = plt.subplots(1, 3, figsize=(18, 36))\n",
    "    # ax[0].imshow(flattened_image)\n",
    "    # ax[0].set_title(\"flattened\")\n",
    "    # ax[1].imshow(minima_edges)\n",
    "    # ax[1].set_title(\"minima edge detection\")\n",
    "    # ax[2].imshow(maxima_edges)\n",
    "    # ax[2].set_title(\"maxima edge detection\")\n",
    "    # plt.show()"
   ]
  },
  {
   "cell_type": "code",
   "execution_count": null,
   "metadata": {},
   "outputs": [],
   "source": [
    "# Load image and save it as npy and png\n",
    "\n",
    "data_dir = Path(\"/Users/sylvi/topo_data/cats/training_data/cropped/cropped_labels/\")\n",
    "output_dir = Path(\"/Users/sylvi/topo_data/cats/training_data/cropped/cropped_labels/\")\n",
    "\n",
    "VMIN = -8\n",
    "VMAX = 8\n",
    "\n",
    "# Load the data\n",
    "data = np.load(data_dir / \"mask_75.npy\")\n",
    "\n",
    "plt.imshow(data, cmap=cmap, vmin=VMIN, vmax=VMAX)\n",
    "plt.show()\n",
    "\n",
    "# Save the image as png with the colormap and vmin and vmax\n",
    "plt.imsave(output_dir / \"alice_catenane.png\", data, cmap=cmap, vmin=VMIN, vmax=VMAX)\n",
    "# plot as npy\n",
    "np.save(output_dir / \"alice_catenane.npy\", data)"
   ]
  }
 ],
 "metadata": {
  "kernelspec": {
   "display_name": "new",
   "language": "python",
   "name": "python3"
  },
  "language_info": {
   "codemirror_mode": {
    "name": "ipython",
    "version": 3
   },
   "file_extension": ".py",
   "mimetype": "text/x-python",
   "name": "python",
   "nbconvert_exporter": "python",
   "pygments_lexer": "ipython3",
   "version": "3.9.18"
  }
 },
 "nbformat": 4,
 "nbformat_minor": 2
}
