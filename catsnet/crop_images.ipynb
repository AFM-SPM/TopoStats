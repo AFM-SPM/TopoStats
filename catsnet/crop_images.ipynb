{
 "cells": [
  {
   "cell_type": "code",
   "execution_count": null,
   "metadata": {},
   "outputs": [],
   "source": [
    "from pathlib import Path\n",
    "\n",
    "import numpy as np\n",
    "import matplotlib.pyplot as plt\n",
    "\n",
    "from topostats.plottingfuncs import Colormap\n",
    "\n",
    "colormap = Colormap()\n",
    "cmap = colormap.get_cmap()"
   ]
  },
  {
   "cell_type": "code",
   "execution_count": null,
   "metadata": {},
   "outputs": [],
   "source": [
    "DATA_DIR = Path(\"/Users/sylvi/topo_data/cats/flattened_images_numpy/\")\n",
    "CROPPED_DIR = Path(\"/Users/sylvi/topo_data/cats/training_data/cropped/cropped_images_numpy\")\n",
    "\n",
    "files = list(DATA_DIR.glob(\"*.npy\"))\n",
    "for file in files:\n",
    "    print(file)"
   ]
  },
  {
   "cell_type": "code",
   "execution_count": null,
   "metadata": {},
   "outputs": [],
   "source": [
    "# Grab an image\n",
    "file_number = 44\n",
    "file = files[file_number]\n",
    "image = np.load(file)\n",
    "print(f\"file: {file.stem}\")\n",
    "plt.imshow(image, cmap=cmap, vmin=-8, vmax=8)"
   ]
  },
  {
   "cell_type": "code",
   "execution_count": null,
   "metadata": {},
   "outputs": [],
   "source": [
    "# Crop the image to the molecules of interest\n",
    "\n",
    "width = 550\n",
    "x = 200\n",
    "y = 330\n",
    "\n",
    "cropped_molecule = image[y : y + width, x : x + width]\n",
    "plt.imshow(cropped_molecule, cmap=cmap, vmin=-8, vmax=8)"
   ]
  },
  {
   "cell_type": "code",
   "execution_count": null,
   "metadata": {},
   "outputs": [],
   "source": [
    "# Save the molecule with an incremented file number\n",
    "file_number = len(list(CROPPED_DIR.glob(\"*.npy\")))\n",
    "np.save(CROPPED_DIR / f\"image_{file_number}.npy\", cropped_molecule)\n",
    "plt.imsave(CROPPED_DIR / f\"image_{file_number}.png\", cropped_molecule, cmap=cmap, vmin=-8, vmax=8)"
   ]
  },
  {
   "cell_type": "code",
   "execution_count": null,
   "metadata": {},
   "outputs": [],
   "source": [
    "# ========================\n",
    "# ===== !!!DANGER!!! =====\n",
    "# ========================\n",
    "\n",
    "# Rename all images to reset the indexes in case of removed images\n",
    "\n",
    "# Rename all files to add copy at the end to prevent overwriting during the renaming process\n",
    "# for file in CROPPED_DIR.glob(\"*.npy\"):\n",
    "#     file.rename(file.with_name(file.stem + \"_copy.npy\"))\n",
    "\n",
    "# for file in CROPPED_DIR.glob(\"*.png\"):\n",
    "#     file.rename(file.with_name(file.stem + \"_copy.png\"))\n",
    "\n",
    "# png_numpy_pairs = sorted(list(zip(sorted(CROPPED_DIR.glob(\"*.png\")), sorted(CROPPED_DIR.glob(\"*.npy\")))))\n",
    "# for pair in png_numpy_pairs:\n",
    "#     print(pair)\n",
    "#     pair[0].rename(pair[0].with_name(f\"image_{png_numpy_pairs.index(pair)}.png\"))\n",
    "#     pair[1].rename(pair[1].with_name(f\"image_{png_numpy_pairs.index(pair)}.npy\"))"
   ]
  }
 ],
 "metadata": {
  "kernelspec": {
   "display_name": "car-or-truck",
   "language": "python",
   "name": "python3"
  },
  "language_info": {
   "codemirror_mode": {
    "name": "ipython",
    "version": 3
   },
   "file_extension": ".py",
   "mimetype": "text/x-python",
   "name": "python",
   "nbconvert_exporter": "python",
   "pygments_lexer": "ipython3",
   "version": "3.9.16"
  }
 },
 "nbformat": 4,
 "nbformat_minor": 2
}
