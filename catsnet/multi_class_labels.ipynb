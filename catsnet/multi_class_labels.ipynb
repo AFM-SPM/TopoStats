{
 "cells": [
  {
   "cell_type": "code",
   "execution_count": null,
   "metadata": {},
   "outputs": [],
   "source": [
    "import numpy as np\n",
    "import matplotlib.pyplot as plt\n",
    "from pathlib import Path\n",
    "import cv2\n",
    "import re\n",
    "\n",
    "from skimage.morphology import binary_erosion, binary_dilation"
   ]
  },
  {
   "cell_type": "code",
   "execution_count": null,
   "metadata": {},
   "outputs": [],
   "source": [
    "def plot(image: np.ndarray):\n",
    "    fig, ax = plt.subplots(figsize=(20, 20))\n",
    "    ax.imshow(image, cmap=\"viridis\", interpolation=\"None\")\n",
    "    plt.show()"
   ]
  },
  {
   "cell_type": "code",
   "execution_count": null,
   "metadata": {},
   "outputs": [],
   "source": [
    "def multi_label(mask: np.ndarray):\n",
    "    # plot(image)\n",
    "\n",
    "    original = np.array(mask).astype(bool)\n",
    "    # print(f\"original unique: {np.unique(original)}\")\n",
    "\n",
    "    dilated = original.copy()\n",
    "    for i in range(1):\n",
    "        dilated = binary_dilation(dilated)\n",
    "\n",
    "    eroded = dilated.copy()\n",
    "    for i in range(2):\n",
    "        eroded = binary_erosion(eroded)\n",
    "\n",
    "    labels = dilated.astype(int) + eroded.astype(int)\n",
    "\n",
    "    # plot(labels)\n",
    "    # print(f\"labels unique: {np.unique(labels)}\")\n",
    "\n",
    "    return labels"
   ]
  },
  {
   "cell_type": "code",
   "execution_count": null,
   "metadata": {},
   "outputs": [],
   "source": [
    "FILE_DIR = Path(\"/Users/sylvi/topo_data/cats/training_data/images_edge_detection_upper_labels_sigma_4/\")\n",
    "OUT_DIR = Path(\"/Users/sylvi/topo_data/cats/training_data/images_edge_detection_upper_labels_multiclass_sigma_4/\")\n",
    "OUT_DIR.mkdir(exist_ok=True)"
   ]
  },
  {
   "cell_type": "code",
   "execution_count": null,
   "metadata": {},
   "outputs": [],
   "source": [
    "files = FILE_DIR.glob(\"mask_*.png\")\n",
    "files = sorted(files, key=lambda p: p.name)\n",
    "\n",
    "for _, file in enumerate(files):\n",
    "    print(file.name)\n",
    "\n",
    "    pattern = r\"\\d+\"\n",
    "    value = int(re.search(pattern, file.name).group())\n",
    "\n",
    "    mask = cv2.imread(str(file), cv2.IMREAD_GRAYSCALE)\n",
    "\n",
    "    multiclass_labels = multi_label(mask=mask)\n",
    "\n",
    "    plt.imsave(OUT_DIR / f\"mask_{value}.png\", multiclass_labels)\n",
    "    np.save(OUT_DIR / f\"mask_array_{value}.npy\", multiclass_labels)"
   ]
  }
 ],
 "metadata": {
  "kernelspec": {
   "display_name": "car-or-truck",
   "language": "python",
   "name": "python3"
  },
  "language_info": {
   "codemirror_mode": {
    "name": "ipython",
    "version": 3
   },
   "file_extension": ".py",
   "mimetype": "text/x-python",
   "name": "python",
   "nbconvert_exporter": "python",
   "pygments_lexer": "ipython3",
   "version": "3.9.16"
  }
 },
 "nbformat": 4,
 "nbformat_minor": 2
}
