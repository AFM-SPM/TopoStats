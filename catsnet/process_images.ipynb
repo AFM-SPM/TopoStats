{
 "cells": [
  {
   "cell_type": "code",
   "execution_count": null,
   "metadata": {},
   "outputs": [],
   "source": [
    "from pathlib import Path\n",
    "import importlib.resources as pkg_resources\n",
    "import yaml\n",
    "from collections import defaultdict\n",
    "import numpy as np\n",
    "import pandas as pd\n",
    "from typing import Dict, Union\n",
    "\n",
    "from topostats.run_topostats import run_topostats, find_files\n",
    "from topostats.grain_finding_cats_unet import test_GPU, predict_unet\n",
    "from topostats.io import read_yaml, LoadScans\n",
    "from topostats.processing import process_scan, get_out_path, save_array\n",
    "from topostats.utils import update_config, update_plotting_config, create_empty_dataframe\n",
    "from topostats.validation import validate_config, DEFAULT_CONFIG_SCHEMA, PLOTTING_SCHEMA\n",
    "from topostats.filters import Filters\n",
    "from topostats.grains import Grains\n",
    "from topostats.grainstats import GrainStats\n",
    "from topostats.tracing.dnatracing import trace_image, dnaTrace\n",
    "from topostats.plotting import plot_crossing_linetrace_halfmax\n",
    "from topostats.plottingfuncs import Images\n",
    "\n",
    "import argparse as arg\n",
    "\n",
    "test_GPU()"
   ]
  },
  {
   "cell_type": "code",
   "execution_count": null,
   "metadata": {},
   "outputs": [],
   "source": [
    "# CONFIG_PATH = Path(\"/Users/sylvi/topo_data/cats/catsconf.yaml\")\n",
    "# args =  arg.Namespace(config_file=str(CONFIG_PATH), create_config_file=False)\n",
    "# run_topostats(args=args)"
   ]
  },
  {
   "cell_type": "code",
   "execution_count": null,
   "metadata": {},
   "outputs": [],
   "source": [
    "CONFIG_PATH = Path(\"/Users/sylvi/topo_data/cats/catsconf.yaml\")\n",
    "config = read_yaml(CONFIG_PATH)\n",
    "config = update_config(config, args={})\n",
    "validate_config(config, schema=DEFAULT_CONFIG_SCHEMA, config_type=\"YAML configuration file\")\n",
    "\n",
    "config[\"output_dir\"].mkdir(parents=True, exist_ok=True)\n",
    "# Load plotting_dictionary and validate\n",
    "plotting_dictionary = pkg_resources.open_text(\"topostats\", \"plotting_dictionary.yaml\")\n",
    "config[\"plotting\"][\"plot_dict\"] = yaml.safe_load(plotting_dictionary.read())\n",
    "validate_config(config[\"plotting\"][\"plot_dict\"], schema=PLOTTING_SCHEMA, config_type=\"YAML plotting configuration file\")\n",
    "config[\"plotting\"] = update_plotting_config(config[\"plotting\"])\n",
    "plotting_config = config[\"plotting\"]\n",
    "core_out_path = Path(\"./output\")\n",
    "core_out_path.mkdir(exist_ok=True)\n",
    "grain_out_path = Path(\"./output_grains\")\n",
    "grain_out_path.mkdir(exist_ok=True)\n",
    "dna_tracing_out_path = Path(\"./output_dnatracing\")\n",
    "dna_tracing_out_path.mkdir(exist_ok=True)\n",
    "\n",
    "img_files = find_files(config[\"base_dir\"], file_ext=config[\"file_ext\"])\n",
    "all_scan_data = LoadScans(img_files, **config[\"loading\"])\n",
    "all_scan_data.get_data()\n",
    "scan_data_dict = all_scan_data.img_dict\n",
    "\n",
    "# ==================================================================\n",
    "\n",
    "results = defaultdict()\n",
    "node_results = defaultdict()\n",
    "for img_path_px2nm in scan_data_dict.values():\n",
    "    image_path, result, node_result = process_scan(\n",
    "        img_path_px2nm=img_path_px2nm,\n",
    "        base_dir=config[\"base_dir\"],\n",
    "        filter_config=config[\"filter\"],\n",
    "        grains_config=config[\"grains\"],\n",
    "        grainstats_config=config[\"grainstats\"],\n",
    "        dnatracing_config=config[\"dnatracing\"],\n",
    "        plotting_config=config[\"plotting\"],\n",
    "        output_dir=config[\"output_dir\"],\n",
    "    )\n",
    "\n",
    "    results[str(image_path)] = result\n",
    "    node_results[str(image_path)] = node_result\n",
    "try:\n",
    "    results = pd.concat(results.values())\n",
    "except ValueError as error:\n",
    "    print(\"No grains found in any images, consider adjusting your thresholds.\")\n",
    "    print(error)\n",
    "\n",
    "\n",
    "# ==========================================================================================="
   ]
  }
 ],
 "metadata": {
  "kernelspec": {
   "display_name": "car-or-truck",
   "language": "python",
   "name": "python3"
  },
  "language_info": {
   "codemirror_mode": {
    "name": "ipython",
    "version": 3
   },
   "file_extension": ".py",
   "mimetype": "text/x-python",
   "name": "python",
   "nbconvert_exporter": "python",
   "pygments_lexer": "ipython3",
   "version": "3.9.16"
  }
 },
 "nbformat": 4,
 "nbformat_minor": 2
}
