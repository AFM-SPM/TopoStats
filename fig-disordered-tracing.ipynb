{
 "cells": [
  {
   "cell_type": "code",
   "execution_count": null,
   "id": "bf1e7ce9",
   "metadata": {},
   "outputs": [],
   "source": [
    "from pathlib import Path\n",
    "import numpy as np\n",
    "import numpy.typing as npt\n",
    "import h5py\n",
    "import matplotlib.pyplot as plt\n",
    "from topostats.io import LoadScans\n",
    "from topostats.plotting import Colormap\n",
    "\n",
    "colormap = Colormap()\n",
    "cmap = colormap.get_cmap()\n",
    "vmin = -3\n",
    "vmax = 4\n",
    "square_markersize_figsize_20 = 3.8"
   ]
  },
  {
   "cell_type": "code",
   "execution_count": null,
   "id": "9892d13f",
   "metadata": {},
   "outputs": [],
   "source": [
    "pruning_dir = Path(\"/Users/sylvi/topo_data/topostats_2/datasets/height-pruning\")\n",
    "pruning_saved_outputs_dir = pruning_dir / \"saved_outputs\"\n",
    "\n",
    "figure_dir = Path(\"/Users/sylvi/topo_data/topostats_2/figures/fig-disordered-tracing\")"
   ]
  },
  {
   "cell_type": "code",
   "execution_count": null,
   "id": "cd8e5930",
   "metadata": {},
   "outputs": [],
   "source": [
    "# height pruning example\n",
    "pruning_height_pruned_filename = Path(\"properly-pruned-20231005_unknot_SC_3ng_mgni.0_00023.topostats\")\n",
    "pruning_height_pruned_file = pruning_saved_outputs_dir / pruning_height_pruned_filename\n",
    "\n",
    "loadscans = LoadScans([pruning_height_pruned_file], channel=\"dummy\")\n",
    "loadscans.get_data()\n",
    "loadscans_image_dicts = loadscans.img_dict\n",
    "\n",
    "pruning_height_pruned_image_data = loadscans_image_dicts[pruning_height_pruned_filename.stem]\n",
    "pruning_height_original_skeleton = pruning_height_pruned_image_data[\"disordered_traces\"][\"above\"][\"grain_0\"][\n",
    "    \"skeleton\"\n",
    "]\n",
    "pruning_height_pruned_skeleton = pruning_height_pruned_image_data[\"disordered_traces\"][\"above\"][\"grain_0\"][\n",
    "    \"pruned_skeleton\"\n",
    "]\n",
    "pruning_height_pruned_bbox = pruning_height_pruned_image_data[\"disordered_traces\"][\"above\"][\"grain_0\"][\"bbox\"]\n",
    "pruning_height_pruned_crop = pruning_height_pruned_image_data[\"image\"][\n",
    "    pruning_height_pruned_bbox[0] : pruning_height_pruned_bbox[2],\n",
    "    pruning_height_pruned_bbox[1] : pruning_height_pruned_bbox[3],\n",
    "]\n",
    "pruning_height_pruned_mask_crop = pruning_height_pruned_image_data[\"grain_tensors\"][\"above\"][:, :, 1][\n",
    "    pruning_height_pruned_bbox[0] : pruning_height_pruned_bbox[2],\n",
    "    pruning_height_pruned_bbox[1] : pruning_height_pruned_bbox[3],\n",
    "]\n",
    "\n",
    "fig, ax = plt.subplots(figsize=(15, 15))\n",
    "ax.imshow(pruning_height_pruned_crop, cmap=cmap, vmin=vmin, vmax=vmax)\n",
    "ax.imshow(\n",
    "    np.ma.masked_where(pruning_height_pruned_mask_crop == 0, pruning_height_pruned_mask_crop), cmap=\"summer\", alpha=1\n",
    ")\n",
    "plt.savefig(figure_dir / \"fig-disordered-tracing-height-pruning-mask.png\")\n",
    "plt.show()\n",
    "\n",
    "fig, ax = plt.subplots(figsize=(15, 15))\n",
    "ax.imshow(pruning_height_pruned_crop, cmap=cmap, vmin=vmin, vmax=vmax)\n",
    "ax.imshow(np.ma.masked_where(pruning_height_original_skeleton == 0, pruning_height_original_skeleton), cmap=\"summer\")\n",
    "plt.savefig(figure_dir / \"fig-disordered-tracing-height-pruning-original.png\")\n",
    "plt.show()\n",
    "\n",
    "fig, ax = plt.subplots(figsize=(15, 15))\n",
    "ax.imshow(pruning_height_pruned_crop, cmap=cmap, vmin=vmin, vmax=vmax)\n",
    "ax.imshow(\n",
    "    np.ma.masked_where(np.bool(pruning_height_pruned_skeleton) == 0, pruning_height_pruned_skeleton), cmap=\"summer\"\n",
    ")\n",
    "plt.savefig(figure_dir / \"fig-disordered-tracing-height-pruning-pruned.png\")\n",
    "plt.show()"
   ]
  }
 ],
 "metadata": {
  "kernelspec": {
   "display_name": "topo2paper",
   "language": "python",
   "name": "python3"
  },
  "language_info": {
   "codemirror_mode": {
    "name": "ipython",
    "version": 3
   },
   "file_extension": ".py",
   "mimetype": "text/x-python",
   "name": "python",
   "nbconvert_exporter": "python",
   "pygments_lexer": "ipython3",
   "version": "3.11.9"
  }
 },
 "nbformat": 4,
 "nbformat_minor": 5
}
