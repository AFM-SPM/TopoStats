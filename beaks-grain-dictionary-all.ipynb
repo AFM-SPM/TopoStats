{
 "cells": [
  {
   "cell_type": "code",
   "execution_count": null,
   "metadata": {},
   "outputs": [],
   "source": [
    "from datetime import datetime\n",
    "from pathlib import Path\n",
    "import pickle\n",
    "\n",
    "from IPython.display import clear_output\n",
    "\n",
    "from beaks import construct_grains_dictionary\n",
    "\n",
    "today = datetime.today().strftime(\"D-%Y-%m-%d-T-%H-%M\")\n",
    "print(today)"
   ]
  },
  {
   "cell_type": "code",
   "execution_count": null,
   "metadata": {},
   "outputs": [],
   "source": [
    "base_dir = Path(\"/Users/sylvi/topo_data/beaks\")\n",
    "assert base_dir.exists()\n",
    "all_data_dir = base_dir / \"output-all-threshold/processed/\"\n",
    "assert all_data_dir.exists()\n",
    "files = list(all_data_dir.glob(\"*.topostats\"))\n",
    "print(f\"found {len(files)} files\")"
   ]
  },
  {
   "cell_type": "markdown",
   "metadata": {},
   "source": [
    "# construct grain dictionary"
   ]
  },
  {
   "cell_type": "code",
   "execution_count": null,
   "metadata": {},
   "outputs": [],
   "source": [
    "grains_dictionary = construct_grains_dictionary(file_list = files, plot=False)\n",
    "clear_output()\n",
    "print(f\"found {len(grains_dictionary)} grains in {len(files)} files\")"
   ]
  },
  {
   "cell_type": "markdown",
   "metadata": {},
   "source": [
    "# save the grain dictionary"
   ]
  },
  {
   "cell_type": "code",
   "execution_count": null,
   "metadata": {},
   "outputs": [],
   "source": [
    "grains_save_dir = base_dir / \"grain-dictionaries\"\n",
    "assert grains_save_dir.exists()\n",
    "with open(grains_save_dir / f\"grains-{today}.pkl\", \"wb\") as f:\n",
    "    pickle.dump(grains_dictionary, f)"
   ]
  }
 ],
 "metadata": {
  "kernelspec": {
   "display_name": "topo-unet",
   "language": "python",
   "name": "python3"
  },
  "language_info": {
   "codemirror_mode": {
    "name": "ipython",
    "version": 3
   },
   "file_extension": ".py",
   "mimetype": "text/x-python",
   "name": "python",
   "nbconvert_exporter": "python",
   "pygments_lexer": "ipython3",
   "version": "3.11.9"
  }
 },
 "nbformat": 4,
 "nbformat_minor": 2
}
