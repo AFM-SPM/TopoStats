{
 "cells": [
  {
   "cell_type": "code",
   "execution_count": 8,
   "metadata": {},
   "outputs": [],
   "source": [
    "import numpy as np\n",
    "from PIL import Image\n",
    "import matplotlib.pyplot as plt"
   ]
  },
  {
   "cell_type": "code",
   "execution_count": null,
   "metadata": {},
   "outputs": [],
   "source": [
    "# Peak detection and gaussian on the histogram of the image heights\n",
    "\n",
    "# H\n",
    "# |          =               \n",
    "# |          = =            \n",
    "# |  =     = = =              \n",
    "# |  =     = = = =             \n",
    "# |= =   = = = = =      =        \n",
    "# |= = = = = = = = =  = = =         \n",
    "# \\ - - - - - - - - - - - - X\n",
    "\n"
   ]
  },
  {
   "cell_type": "code",
   "execution_count": null,
   "metadata": {},
   "outputs": [],
   "source": [
    "# Identify the background\n",
    "#   Generate mask\n",
    "#   Estimate polynomial background\n",
    "# Determine 1-D background offsets from the raw data within the mask\n",
    "# Subtract the 1-D offsets from the raw data followed by a single masked background flattening."
   ]
  },
  {
   "cell_type": "code",
   "execution_count": 9,
   "metadata": {},
   "outputs": [
    {
     "name": "stdout",
     "output_type": "stream",
     "text": [
      "PNG\n",
      "shape: (1024, 1024)\n"
     ]
    },
    {
     "data": {
      "text/plain": [
       "<matplotlib.image.AxesImage at 0x113da04c0>"
      ]
     },
     "execution_count": 9,
     "metadata": {},
     "output_type": "execute_result"
    },
    {
     "data": {
      "image/png": "[encoded data removed]",
      "text/plain": [
       "<Figure size 640x480 with 1 Axes>"
      ]
     },
     "metadata": {},
     "output_type": "display_data"
    }
   ],
   "source": [
    "file_name = 'images/slant_3.png'\n",
    "im = Image.open(file_name)\n",
    "print(im.format)\n",
    "im_array = np.array(im, dtype=float)\n",
    "im_array = im_array[:, :, 0]\n",
    "print(f'shape: {im_array.shape}')\n",
    "plt.imshow(im_array)"
   ]
  }
 ],
 "metadata": {
  "kernelspec": {
   "display_name": "Python 3.10.7 ('notebook_env': venv)",
   "language": "python",
   "name": "python3"
  },
  "language_info": {
   "codemirror_mode": {
    "name": "ipython",
    "version": 3
   },
   "file_extension": ".py",
   "mimetype": "text/x-python",
   "name": "python",
   "nbconvert_exporter": "python",
   "pygments_lexer": "ipython3",
   "version": "3.10.7"
  },
  "orig_nbformat": 4,
  "vscode": {
   "interpreter": {
    "hash": "7da6d00ef81a9ff79937299981bf3fd9fca8f7bb3e3f7cfbbb6429cdd430a9e2"
   }
  }
 },
 "nbformat": 4,
 "nbformat_minor": 2
}
