{
 "cells": [
  {
   "cell_type": "code",
   "execution_count": 13,
   "metadata": {},
   "outputs": [
    {
     "name": "stdout",
     "output_type": "stream",
     "text": [
      "{\n",
      "    \"run\": true,\n",
      "    \"channel\": \"Height\",\n",
      "    \"amplify_level\": 1.0,\n",
      "    \"threshold_method\": \"absolute\",\n",
      "    \"otsu_threshold_multiplier\": 1.0,\n",
      "    \"threshold_std_dev\": 1.0,\n",
      "    \"threshold_absolute_lower\": -100.0,\n",
      "    \"threshold_absolute_upper\": 100.0\n",
      "}\n"
     ]
    }
   ],
   "source": [
    "import json\n",
    "from pathlib import Path\n",
    "\n",
    "import matplotlib.pyplot as plt\n",
    "import numpy as np\n",
    "\n",
    "from topostats.filters import Filters\n",
    "from topostats.grains import Grains\n",
    "from topostats.grainstats import GrainStats\n",
    "from topostats.io import read_yaml, write_yaml\n",
    "from topostats.logs.logs import setup_logger, LOGGER_NAME\n",
    "from topostats.plottingfuncs import plot_and_save\n",
    "from topostats.tracing.dnatracing import dnaTrace, traceStats\n",
    "from topostats.utils import find_images, get_out_path, update_config, convert_path, create_empty_dataframe\n",
    "\n",
    "# Set the base directory to be current working directory of the Notebook\n",
    "BASE_DIR = Path().cwd()\n",
    "FILE_EXT = \".spm\"\n",
    "# Search for *.spm files in this directory\n",
    "spm_files = find_images(base_dir=BASE_DIR.parent / \"tests\", file_ext=FILE_EXT)\n",
    "\n",
    "# spm_files\n",
    "\n",
    "from topostats.io import read_yaml\n",
    "config = read_yaml(\"config.yaml\")\n",
    "# print(f\"Top level keys of config.ymal : \\n\\n {config.keys()}\\n\")\n",
    "# print(f\"Configuration options for Filter : \\n\\n {config['filter'].keys()}\")\n",
    "\n",
    "print(json.dumps(config[\"filter\"], indent=4))\n",
    "\n",
    "filter_config = config[\"filter\"]\n",
    "filter_config.pop(\"run\")\n",
    "grain_config = config[\"grains\"]\n",
    "grain_config.pop(\"run\")\n",
    "grainstats_config = config[\"grainstats\"]\n",
    "grainstats_config.pop(\"run\")\n",
    "dnatracing_config = config[\"dnatracing\"]\n",
    "dnatracing_config.pop(\"run\")\n",
    "plotting_config = config[\"plotting\"]\n",
    "plotting_config.pop(\"run\")\n",
    "plotting_dictionary = plotting_config[\"plot_dict\"]\n"
   ]
  },
  {
   "cell_type": "code",
   "execution_count": 21,
   "metadata": {},
   "outputs": [
    {
     "name": "stdout",
     "output_type": "stream",
     "text": [
      "PNG\n",
      "shape: (1024, 1024)\n",
      "[Tue, 27 Sep 2022 16:19:22] [INFO    ] [topostats] Extracting filename from : images/slant_3.png\n",
      "[Tue, 27 Sep 2022 16:19:22] [INFO    ] [topostats] Filename : slant_3\n",
      "file ext: .png\n",
      "  skipping initial stuff due to loading png\n",
      "file type: png\n",
      "PNG\n",
      "assigning im_array to pixels\n",
      "  initial aligning\n",
      "[Tue, 27 Sep 2022 16:19:22] [INFO    ] [topostats] [slant_3] : Masking disabled\n",
      "[Tue, 27 Sep 2022 16:19:22] [INFO    ] [topostats] [slant_3] : Row and column medians calculated.\n",
      "[Tue, 27 Sep 2022 16:19:22] [INFO    ] [topostats] [slant_3] : Median Row Height: 65.0\n",
      "[Tue, 27 Sep 2022 16:19:22] [INFO    ] [topostats] [slant_3] : Rows aligned\n",
      "[Tue, 27 Sep 2022 16:19:22] [INFO    ] [topostats] [slant_3] : Masking disabled\n",
      "[Tue, 27 Sep 2022 16:19:22] [INFO    ] [topostats] [slant_3] : Row and column medians calculated.\n",
      "[Tue, 27 Sep 2022 16:19:22] [INFO    ] [topostats] [slant_3] : X-gradient: 0.0\n",
      "[Tue, 27 Sep 2022 16:19:22] [INFO    ] [topostats] [slant_3] : Y-gradient: 0.0\n",
      "[Tue, 27 Sep 2022 16:19:23] [INFO    ] [topostats] [slant_3] : X/Y tilt removed\n",
      "[Tue, 27 Sep 2022 16:19:23] [INFO    ] [topostats] [slant_3] : Masking (upper) Threshold: 100.0\n",
      "[Tue, 27 Sep 2022 16:19:23] [INFO    ] [topostats] [slant_3] : Masking (lower) Threshold: -100.0\n",
      "[Tue, 27 Sep 2022 16:19:23] [INFO    ] [topostats] [slant_3] : Masking enabled\n",
      "[Tue, 27 Sep 2022 16:19:23] [INFO    ] [topostats] [slant_3] : Row and column medians calculated.\n",
      "[Tue, 27 Sep 2022 16:19:23] [INFO    ] [topostats] [slant_3] : Median Row Height: 65.0\n",
      "[Tue, 27 Sep 2022 16:19:23] [INFO    ] [topostats] [slant_3] : Rows aligned\n",
      "[Tue, 27 Sep 2022 16:19:23] [INFO    ] [topostats] [slant_3] : Masking enabled\n",
      "[Tue, 27 Sep 2022 16:19:23] [INFO    ] [topostats] [slant_3] : Row and column medians calculated.\n",
      "[Tue, 27 Sep 2022 16:19:23] [INFO    ] [topostats] [slant_3] : X-gradient: 0.0\n",
      "[Tue, 27 Sep 2022 16:19:23] [INFO    ] [topostats] [slant_3] : Y-gradient: 0.0\n",
      "[Tue, 27 Sep 2022 16:19:23] [INFO    ] [topostats] [slant_3] : X/Y tilt removed\n",
      "[Tue, 27 Sep 2022 16:19:23] [INFO    ] [topostats] [slant_3] : Masking enabled\n",
      "[Tue, 27 Sep 2022 16:19:23] [INFO    ] [topostats] [slant_3] : Row and column medians calculated.\n",
      "[Tue, 27 Sep 2022 16:19:23] [INFO    ] [topostats] [slant_3] : Zero averaging background\n"
     ]
    },
    {
     "data": {
      "image/png": "[encoded data removed]",
      "text/plain": [
       "<Figure size 400x400 with 1 Axes>"
      ]
     },
     "metadata": {},
     "output_type": "display_data"
    },
    {
     "data": {
      "image/png": "[encoded data removed]",
      "text/plain": [
       "<Figure size 400x400 with 1 Axes>"
      ]
     },
     "metadata": {},
     "output_type": "display_data"
    }
   ],
   "source": [
    "from topostats.filters import Filters\n",
    "from PIL import Image\n",
    "import numpy as np\n",
    "import matplotlib.pyplot as plt\n",
    "\n",
    "file_name = 'images/slant_3.png'\n",
    "im = Image.open(file_name)\n",
    "print(im.format)\n",
    "im_array = np.array(im, dtype=float)\n",
    "im_array = im_array[:, :, 0]\n",
    "print(f'shape: {im_array.shape}')\n",
    "\n",
    "\n",
    "filtered_image = Filters(file_name,\n",
    "                         threshold_method=config[\"filter\"][\"threshold_method\"],\n",
    "                         otsu_threshold_multiplier=config[\"filter\"][\"otsu_threshold_multiplier\"],\n",
    "                         threshold_std_dev=config[\"filter\"][\"threshold_std_dev\"],\n",
    "                         threshold_absolute_lower=config[\"filter\"][\"threshold_absolute_lower\"],\n",
    "                         threshold_absolute_upper=config[\"filter\"][\"threshold_absolute_upper\"],\n",
    "                         channel=config[\"filter\"][\"channel\"],\n",
    "                         amplify_level=config[\"filter\"][\"amplify_level\"],\n",
    "                         output_dir=config[\"output_dir\"],\n",
    "                         quiet=config[\"quiet\"])\n",
    "filtered_image.filter_image()\n",
    "\n",
    "# # NB - Because of the one-to-one mapping of configuration options to Filters() options we can use keyword arguments to\n",
    "# #      unpack the options, the below is the same as explicitly stating the values you want to map.\n",
    "# filtered_image = Filters('images/line0.png', **filter_config)\n",
    "# filtered_image.filter_image()\n",
    "\n",
    "fig, ax = plt.subplots(figsize=(4,4))\n",
    "plt.imshow(im_array, cmap='hot')\n",
    "plt.show()\n",
    "\n",
    "fig, ax = plt.subplots(figsize=(4,4))\n",
    "plt.imshow(filtered_image.images[\"zero_averaged_background\"], cmap='hot')\n",
    "plt.show()"
   ]
  }
 ],
 "metadata": {
  "kernelspec": {
   "display_name": "Python 3.10.7 ('notebook_env': venv)",
   "language": "python",
   "name": "python3"
  },
  "language_info": {
   "codemirror_mode": {
    "name": "ipython",
    "version": 3
   },
   "file_extension": ".py",
   "mimetype": "text/x-python",
   "name": "python",
   "nbconvert_exporter": "python",
   "pygments_lexer": "ipython3",
   "version": "3.10.7"
  },
  "orig_nbformat": 4,
  "vscode": {
   "interpreter": {
    "hash": "7da6d00ef81a9ff79937299981bf3fd9fca8f7bb3e3f7cfbbb6429cdd430a9e2"
   }
  }
 },
 "nbformat": 4,
 "nbformat_minor": 2
}
