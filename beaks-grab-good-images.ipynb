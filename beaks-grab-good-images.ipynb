{
 "cells": [
  {
   "cell_type": "code",
   "execution_count": null,
   "metadata": {},
   "outputs": [],
   "source": [
    "import pickle\n",
    "from datetime import datetime\n",
    "from pathlib import Path\n",
    "\n",
    "import h5py\n",
    "import matplotlib.pyplot as plt\n",
    "import numpy as np\n",
    "\n",
    "today = datetime.today().strftime(\"D-%Y-%m-%d-T-%H-%M\")\n",
    "print(today)"
   ]
  },
  {
   "cell_type": "code",
   "execution_count": null,
   "metadata": {},
   "outputs": [],
   "source": [
    "base_dir = Path(\"/Users/sylvi/topo_data/beaks\")\n",
    "data_dir = base_dir / \"images-topostats-processed\"\n",
    "assert data_dir.exists()\n",
    "\n",
    "# Load the data dictionary\n",
    "with open(data_dir / \"image-dict-D-2025-02-21-T-11-46.pkl\", \"rb\") as f:\n",
    "    data = pickle.load(f)\n",
    "\n",
    "print(data.keys())"
   ]
  },
  {
   "cell_type": "code",
   "execution_count": null,
   "metadata": {},
   "outputs": [],
   "source": [
    "# read the categories from the file\n",
    "with open(base_dir / \"categories.txt\") as f:\n",
    "    # each line is formatted as category_name: [0, 10, 12, 14]\n",
    "    categories = {}\n",
    "    for line in f:\n",
    "        line = line.strip()\n",
    "        if not line:\n",
    "            continue\n",
    "        name, values = line.split(\":\")\n",
    "        # read value as a list, as if it's written in the file\n",
    "        categories[name] = eval(values)\n",
    "\n",
    "for category, values in categories.items():\n",
    "    print(category, values)"
   ]
  },
  {
   "cell_type": "code",
   "execution_count": null,
   "metadata": {},
   "outputs": [],
   "source": [
    "# filter the data\n",
    "\n",
    "beak_data = {}\n",
    "for category, values in categories.items():\n",
    "    beak_data[category] = {}\n",
    "    for key, value in data.items():\n",
    "        if key in values:\n",
    "            beak_data[category][key] = value\n",
    "\n",
    "print(beak_data.keys())\n",
    "for category, values in beak_data.items():\n",
    "    print(category, len(values))\n",
    "    print(list(values.keys()))\n",
    "\n",
    "# save the data\n",
    "beak_data_dir = base_dir / \"beak-data\"\n",
    "beak_data_dir.mkdir(exist_ok=True)\n",
    "with open(beak_data_dir / f\"beak-data-{today}.pkl\", \"wb\") as f:\n",
    "    pickle.dump(beak_data, f)"
   ]
  }
 ],
 "metadata": {
  "kernelspec": {
   "display_name": "topo-unet",
   "language": "python",
   "name": "python3"
  },
  "language_info": {
   "codemirror_mode": {
    "name": "ipython",
    "version": 3
   },
   "file_extension": ".py",
   "mimetype": "text/x-python",
   "name": "python",
   "nbconvert_exporter": "python",
   "pygments_lexer": "ipython3",
   "version": "3.11.9"
  }
 },
 "nbformat": 4,
 "nbformat_minor": 2
}
