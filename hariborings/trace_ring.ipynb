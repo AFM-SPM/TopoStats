{
 "cells": [
  {
   "cell_type": "code",
   "execution_count": null,
   "metadata": {},
   "outputs": [],
   "source": [
    "from pathlib import Path\n",
    "\n",
    "\n",
    "import numpy as np\n",
    "import matplotlib.pyplot as plt\n",
    "\n",
    "from PIL import Image\n",
    "\n",
    "from skimage.morphology import binary_dilation, label\n",
    "from skimage.measure import regionprops\n",
    "from skimage.color import label2rgb\n",
    "\n",
    "import tensorflow as tf\n",
    "\n",
    "tf.test.gpu_device_name()"
   ]
  },
  {
   "cell_type": "code",
   "execution_count": null,
   "metadata": {},
   "outputs": [],
   "source": [
    "IMAGE_DIR = Path(\"/Users/sylvi/topo_data/hariborings/training_data/cropped/images/\")\n",
    "\n",
    "MODEL_DIR = Path(\"/Volumes/shared/pyne_group/Shared/AFM_Data/Cas9_Minicircles/deep_learning/saved_models\")"
   ]
  },
  {
   "cell_type": "code",
   "execution_count": null,
   "metadata": {},
   "outputs": [],
   "source": [
    "# Load the model\n",
    "model = tf.keras.models.load_model(\n",
    "    MODEL_DIR / f\"haribonet_multiclass_2023-10-20_14-01-15_intial_results_multiclass_cropped.h5\"\n",
    ")\n",
    "model.summary()"
   ]
  },
  {
   "cell_type": "code",
   "execution_count": null,
   "metadata": {},
   "outputs": [],
   "source": [
    "image_index = 0\n",
    "threshold = 0.5\n",
    "\n",
    "image = np.load(IMAGE_DIR / f\"image_{image_index}.npy\")\n",
    "image_512 = Image.fromarray(image)\n",
    "image_512 = image_512.resize((512, 512))\n",
    "image_512 = np.array(image_512)\n",
    "# Normalise\n",
    "image_512 = image_512 - np.min(image_512)\n",
    "image_512 = image_512 / np.max(image_512)\n",
    "\n",
    "# Predict the mask\n",
    "predicted_mask = model.predict(np.expand_dims(image_512, axis=0))[0]\n",
    "\n",
    "# Gem predicted mask\n",
    "predicted_gem_mask = predicted_mask[:, :, 2] > threshold\n",
    "# Ring predicted mask\n",
    "predicted_ring_mask = predicted_mask[:, :, 1] > threshold\n",
    "# Background predicted mask\n",
    "predicted_background_mask = predicted_mask[:, :, 0] > threshold\n",
    "\n",
    "combined_predicted_mask = np.zeros_like(predicted_gem_mask).astype(np.uint8)\n",
    "combined_predicted_mask[predicted_gem_mask] = 2\n",
    "combined_predicted_mask[predicted_ring_mask] = 1\n",
    "\n",
    "# Plot them side by side\n",
    "fig, ax = plt.subplots(1, 3, figsize=(10, 5))\n",
    "ax[0].imshow(image_512)\n",
    "ax[0].set_title(\"Image\")\n",
    "ax[1].imshow(predicted_mask)\n",
    "ax[1].set_title(\"Predicted Mask\")\n",
    "ax[2].imshow(combined_predicted_mask)\n",
    "ax[2].set_title(\"Predicted Mask\")\n",
    "plt.show()"
   ]
  },
  {
   "cell_type": "code",
   "execution_count": null,
   "metadata": {},
   "outputs": [],
   "source": [
    "# Load an image"
   ]
  }
 ],
 "metadata": {
  "kernelspec": {
   "display_name": "dl-metal",
   "language": "python",
   "name": "python3"
  },
  "language_info": {
   "codemirror_mode": {
    "name": "ipython",
    "version": 3
   },
   "file_extension": ".py",
   "mimetype": "text/x-python",
   "name": "python",
   "nbconvert_exporter": "python",
   "pygments_lexer": "ipython3",
   "version": "3.9.18"
  }
 },
 "nbformat": 4,
 "nbformat_minor": 2
}
