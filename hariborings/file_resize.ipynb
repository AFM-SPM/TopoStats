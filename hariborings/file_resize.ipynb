{
 "cells": [
  {
   "cell_type": "code",
   "execution_count": null,
   "metadata": {},
   "outputs": [],
   "source": [
    "from pathlib import Path\n",
    "\n",
    "import numpy as np\n",
    "from PIL import Image\n",
    "import matplotlib.pyplot as plt"
   ]
  },
  {
   "cell_type": "code",
   "execution_count": null,
   "metadata": {},
   "outputs": [],
   "source": [
    "ORIGINAL_IMAGE_DIR = Path(\"/Users/sylvi/topo_data/hariborings/training_data/cropped/dna_only/images/\")\n",
    "\n",
    "RESIZED_IMAGE_DIR = Path(\"/Users/sylvi/topo_data/hariborings/training_data/cropped/dna_only/images_256/\")"
   ]
  },
  {
   "cell_type": "code",
   "execution_count": null,
   "metadata": {},
   "outputs": [],
   "source": [
    "# Load all images and resize them, then save them again\n",
    "\n",
    "for image_path in ORIGINAL_IMAGE_DIR.glob(\"*.png\"):\n",
    "    image = Image.open(image_path)\n",
    "    resized_image = image.resize((256, 256), Image.BILINEAR)\n",
    "    resized_image.save(RESIZED_IMAGE_DIR / image_path.name)\n",
    "\n",
    "# Do the same for the numpy arrays\n",
    "for array_path in ORIGINAL_IMAGE_DIR.glob(\"*.npy\"):\n",
    "    array = np.load(array_path)\n",
    "    resized_array = np.array(Image.fromarray(array).resize((256, 256), Image.BILINEAR))\n",
    "    np.save(RESIZED_IMAGE_DIR / array_path.name, resized_array)"
   ]
  },
  {
   "cell_type": "code",
   "execution_count": null,
   "metadata": {},
   "outputs": [],
   "source": [
    "# Plot to check\n",
    "image = Image.open(RESIZED_IMAGE_DIR / \"image_1.png\")\n",
    "array = np.load(RESIZED_IMAGE_DIR / \"image_1.npy\")\n",
    "\n",
    "fig, ax = plt.subplots(1, 2)\n",
    "ax[0].imshow(image)\n",
    "ax[0].set_title(\"Image\")\n",
    "ax[1].imshow(array)\n",
    "ax[1].set_title(\"Array\")\n",
    "plt.show()"
   ]
  }
 ],
 "metadata": {
  "kernelspec": {
   "display_name": "new",
   "language": "python",
   "name": "python3"
  },
  "language_info": {
   "codemirror_mode": {
    "name": "ipython",
    "version": 3
   },
   "file_extension": ".py",
   "mimetype": "text/x-python",
   "name": "python",
   "nbconvert_exporter": "python",
   "pygments_lexer": "ipython3",
   "version": "3.10.9"
  }
 },
 "nbformat": 4,
 "nbformat_minor": 2
}
