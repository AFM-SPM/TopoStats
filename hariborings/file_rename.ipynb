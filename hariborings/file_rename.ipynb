{
 "cells": [
  {
   "cell_type": "code",
   "execution_count": null,
   "metadata": {},
   "outputs": [],
   "source": [
    "from pathlib import Path\n",
    "import re\n",
    "\n",
    "import numpy as np\n",
    "import matplotlib.pyplot as plt\n",
    "\n",
    "from topostats.plottingfuncs import Colormap\n",
    "\n",
    "colormap = Colormap()\n",
    "cmap = colormap.get_cmap()"
   ]
  },
  {
   "cell_type": "code",
   "execution_count": null,
   "metadata": {},
   "outputs": [],
   "source": [
    "# Rename files\n",
    "\n",
    "path = Path(\"/Users/sylvi/topo_data/hariborings/training_data/cropped/dna_only/masks_extra_doritos_256/\")\n",
    "image_starting_index = 0\n",
    "testing_mode = False\n",
    "file_type = \".png\"\n",
    "prefix = \"mask\"\n",
    "\n",
    "image_index = image_starting_index\n",
    "files = list(path.glob(f\"*{file_type}\"))\n",
    "# files.sort()\n",
    "# Sort by the index in the filenaem\n",
    "files.sort(key=lambda x: int(re.search(r\"\\d+\", x.stem).group(0)))\n",
    "for file in files:\n",
    "    print(file.name)\n",
    "    new_filename = path / f\"{prefix}_{image_index}{file_type}\"\n",
    "    if testing_mode:\n",
    "        print(f\"renaming {file.name} to {new_filename.name}\")\n",
    "    else:\n",
    "        file.rename(new_filename)\n",
    "    image_index += 1"
   ]
  },
  {
   "cell_type": "code",
   "execution_count": null,
   "metadata": {},
   "outputs": [],
   "source": [
    "# Check that the files are renamed correctly\n",
    "\n",
    "image_dir = Path(\"/Users/sylvi/topo_data/hariborings/training_data/cropped/dna_only/images_extra_doritos_256/\")\n",
    "mask_dir = Path(\"/Users/sylvi/topo_data/hariborings/training_data/cropped/dna_only/masks_extra_doritos_256/\")\n",
    "\n",
    "image_files_png = list(image_dir.glob(f\"*.png\"))\n",
    "image_files_png.sort(key=lambda x: int(re.search(r\"\\d+\", x.stem).group(0)))\n",
    "image_files_npy = list(image_dir.glob(f\"*.npy\"))\n",
    "image_files_npy.sort(key=lambda x: int(re.search(r\"\\d+\", x.stem).group(0)))\n",
    "mask_files_png = list(mask_dir.glob(f\"*.png\"))\n",
    "mask_files_png.sort(key=lambda x: int(re.search(r\"\\d+\", x.stem).group(0)))\n",
    "mask_files_npy = list(mask_dir.glob(f\"*.npy\"))\n",
    "mask_files_npy.sort(key=lambda x: int(re.search(r\"\\d+\", x.stem).group(0)))\n",
    "\n",
    "\n",
    "def plot_images(\n",
    "    images_png: list, images_npy: list, masks_png: list, masks_npy: list, width=5, cmap=cmap, vmin=-8, vmax=8\n",
    "):\n",
    "    num_images = len(images_png)\n",
    "    fig, ax = plt.subplots(np.ceil(num_images / width).astype(int), width * 4, figsize=(30, 50))\n",
    "    for i, (image_png, image_npy, mask_png, mask_npy) in enumerate(zip(images_png, images_npy, masks_png, masks_npy)):\n",
    "        ax[i // width, i % width * 4].imshow(image_png, cmap=cmap, vmin=vmin, vmax=vmax)\n",
    "        ax[i // width, i % width * 4].set_title(\"Image png\")\n",
    "        ax[i // width, i % width * 4 + 1].imshow(mask_png, cmap=\"gray\")\n",
    "        ax[i // width, i % width * 4 + 1].set_title(\"Mask png\")\n",
    "        ax[i // width, i % width * 4 + 2].imshow(image_npy, cmap=cmap, vmin=vmin, vmax=vmax)\n",
    "        ax[i // width, i % width * 4 + 2].set_title(\"Image npy\")\n",
    "        ax[i // width, i % width * 4 + 3].imshow(mask_npy, cmap=\"gray\")\n",
    "        ax[i // width, i % width * 4 + 3].set_title(\"Mask npy\")\n",
    "    fig.tight_layout()\n",
    "    plt.show()\n",
    "\n",
    "\n",
    "plot_images(\n",
    "    images_png=[plt.imread(image) for image in image_files_png],\n",
    "    images_npy=[np.load(image) for image in image_files_npy],\n",
    "    masks_png=[plt.imread(mask) for mask in mask_files_png],\n",
    "    masks_npy=[np.load(mask) for mask in mask_files_npy],\n",
    ")"
   ]
  }
 ],
 "metadata": {
  "kernelspec": {
   "display_name": "dl-metal",
   "language": "python",
   "name": "python3"
  },
  "language_info": {
   "codemirror_mode": {
    "name": "ipython",
    "version": 3
   },
   "file_extension": ".py",
   "mimetype": "text/x-python",
   "name": "python",
   "nbconvert_exporter": "python",
   "pygments_lexer": "ipython3",
   "version": "3.9.18"
  }
 },
 "nbformat": 4,
 "nbformat_minor": 2
}
