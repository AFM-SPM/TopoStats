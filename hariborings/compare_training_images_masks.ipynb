{
 "cells": [
  {
   "cell_type": "code",
   "execution_count": null,
   "metadata": {},
   "outputs": [],
   "source": [
    "from pathlib import Path\n",
    "\n",
    "import numpy as np\n",
    "import matplotlib.pyplot as plt"
   ]
  },
  {
   "cell_type": "code",
   "execution_count": null,
   "metadata": {},
   "outputs": [],
   "source": [
    "file_dir = Path(\"/Users/sylvi/topo_data/hariborings/training_data/cropped/\")\n",
    "\n",
    "image_dir = file_dir / \"images\"\n",
    "label_dir = file_dir / \"masks\"\n",
    "\n",
    "image_paths = sorted(image_dir.glob(\"*.npy\"))\n",
    "label_paths = sorted(label_dir.glob(\"*.npy\"))\n",
    "\n",
    "for image_path, label_path in zip(image_paths, label_paths):\n",
    "    image = np.load(image_path)\n",
    "    label = np.load(label_path)\n",
    "\n",
    "    # Plot them side by side and then overlaid\n",
    "    fig, axes = plt.subplots(1, 3, figsize=(12, 4))\n",
    "    axes[0].imshow(image)\n",
    "    axes[0].set_title(\"Image\")\n",
    "    axes[1].imshow(label)\n",
    "    axes[1].set_title(\"Label\")\n",
    "    axes[2].imshow(label)\n",
    "    axes[2].imshow(image, alpha=0.9)\n",
    "    axes[2].set_title(\"Overlay\")\n",
    "    # Set title to the name of the file\n",
    "    fig.suptitle(image_path.name)\n",
    "    plt.show()"
   ]
  }
 ],
 "metadata": {
  "kernelspec": {
   "display_name": "new",
   "language": "python",
   "name": "python3"
  },
  "language_info": {
   "codemirror_mode": {
    "name": "ipython",
    "version": 3
   },
   "file_extension": ".py",
   "mimetype": "text/x-python",
   "name": "python",
   "nbconvert_exporter": "python",
   "pygments_lexer": "ipython3",
   "version": "3.10.9"
  }
 },
 "nbformat": 4,
 "nbformat_minor": 2
}
