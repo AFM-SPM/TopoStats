{
 "cells": [
  {
   "cell_type": "code",
   "execution_count": null,
   "metadata": {},
   "outputs": [],
   "source": [
    "from pathlib import Path\n",
    "\n",
    "import numpy as np\n",
    "import matplotlib.pyplot as plt\n",
    "from PIL import Image"
   ]
  },
  {
   "cell_type": "code",
   "execution_count": null,
   "metadata": {},
   "outputs": [],
   "source": [
    "files = [\n",
    "    Path(\"image_1.png\"),\n",
    "    Path(\"image_2.png\"),\n",
    "    Path(\"image_3.png\"),\n",
    "    Path(\"image_10.png\"),\n",
    "    Path(\"image_11.png\"),\n",
    "    Path(\"image_12.png\"),\n",
    "]\n",
    "# Scramble the order of the files\n",
    "np.random.shuffle(files)\n",
    "print(files)\n",
    "files.sort(key=lambda f: int(\"\".join(filter(str.isdigit, f.name))))\n",
    "print(files)"
   ]
  },
  {
   "cell_type": "code",
   "execution_count": null,
   "metadata": {},
   "outputs": [],
   "source": [
    "mask_dir = Path(\"/Users/sylvi/topo_data/hariborings/training_data/cropped/dna_only/masks_256/\")\n",
    "\n",
    "# Rename all the mask files to mask_i.png where i is the index of the corresponding image file, sorted by how they are sorted in macos finder\n",
    "masks = list(mask_dir.glob(\"*.npy\"))\n",
    "# Files have names like task-377-annotation-314-by-1-tag-mask-0.png\n",
    "masks.sort(key=lambda f: int(\"\".join(filter(str.isdigit, f.name))))\n",
    "\n",
    "for i, mask in enumerate(masks):\n",
    "    mask.rename(mask_dir / f\"mask_{i}.npy\")"
   ]
  },
  {
   "cell_type": "code",
   "execution_count": null,
   "metadata": {},
   "outputs": [],
   "source": [
    "original_file_dir = Path(\"/Users/sylvi/topo_data/hariborings/training_data/cropped/dna_only/images/\")\n",
    "file_dir_256 = Path(\"/Users/sylvi/topo_data/hariborings/training_data/cropped/dna_only/images_256_FIXED/\")\n",
    "\n",
    "original_image_files = original_file_dir.glob(\"*.png\")\n",
    "original_image_files = list(original_image_files)\n",
    "\n",
    "image_files_256 = file_dir_256.glob(\"*.png\")\n",
    "image_files_256 = list(image_files_256)\n",
    "\n",
    "print(len(original_image_files))\n",
    "print(len(image_files_256))\n",
    "\n",
    "# Sort them based on the number in the filename\n",
    "original_image_files.sort(key=lambda f: int(\"\".join(filter(str.isdigit, f.name))))\n",
    "image_files_256.sort(key=lambda f: int(\"\".join(filter(str.isdigit, f.name))))\n",
    "for original_image_file, image_file in zip(original_image_files, image_files_256):\n",
    "    # Plot them\n",
    "    original_image = Image.open(original_image_file)\n",
    "    image = Image.open(image_file)\n",
    "    fig, ax = plt.subplots(1, 2)\n",
    "    ax[0].imshow(original_image)\n",
    "    ax[0].set_title(original_image_file.name)\n",
    "    ax[1].imshow(image)\n",
    "    ax[1].set_title(image_file.name)\n",
    "    plt.show()"
   ]
  },
  {
   "cell_type": "code",
   "execution_count": null,
   "metadata": {},
   "outputs": [],
   "source": [
    "file_dir = Path(\"/Users/sylvi/topo_data/hariborings/training_data/cropped/dna_only/\")\n",
    "\n",
    "image_dir = file_dir / \"images_256/\"\n",
    "print(f\"image_dir: {image_dir}\")\n",
    "label_dir = file_dir / \"masks_256/\"\n",
    "print(f\"label_dir: {label_dir}\")\n",
    "\n",
    "# Get all the .npy files and sort them by the number in their filename, eg: image_1.npy\n",
    "image_paths = list(image_dir.glob(\"*.npy\"))\n",
    "image_paths = sorted(image_paths, key=lambda f: int(\"\".join(filter(str.isdigit, f.name))))\n",
    "label_paths = list(label_dir.glob(\"*.npy\"))\n",
    "label_paths = sorted(label_paths, key=lambda f: int(\"\".join(filter(str.isdigit, f.name))))\n",
    "\n",
    "print(f\"Number of images: {len(image_paths)}\")\n",
    "print(f\"Number of labels: {len(label_paths)}\")\n",
    "\n",
    "for image_path, label_path in zip(image_paths, label_paths):\n",
    "    image = np.load(image_path)\n",
    "    # Load the png image file, convert to numpy array\n",
    "    image_png_path = image_path.with_suffix(\".png\")\n",
    "    image_png = np.array(Image.open(image_png_path))\n",
    "\n",
    "    label = np.load(label_path)\n",
    "    # Load the png label file, convert to numpy array\n",
    "    label_png_path = label_path.with_suffix(\".png\")\n",
    "    label_png = np.array(Image.open(label_png_path))\n",
    "\n",
    "    # Plot them side by side and then overlaid\n",
    "    fig, axes = plt.subplots(1, 5, figsize=(12, 4))\n",
    "    axes[0].imshow(image)\n",
    "    axes[0].set_title(\"Image\")\n",
    "    axes[1].imshow(image_png)\n",
    "    axes[1].set_title(\"Image PNG\")\n",
    "    axes[2].imshow(label)\n",
    "    axes[2].set_title(\"Label\")\n",
    "    axes[3].imshow(label_png)\n",
    "    axes[3].set_title(\"Label PNG\")\n",
    "    axes[4].imshow(label)\n",
    "    axes[4].imshow(image, alpha=0.9)\n",
    "    axes[4].set_title(\"Overlay\")\n",
    "    # Set title to the name of the file\n",
    "    fig.suptitle(f\"{image_path.name} {label_path.name}\")\n",
    "    plt.show()"
   ]
  }
 ],
 "metadata": {
  "kernelspec": {
   "display_name": "new",
   "language": "python",
   "name": "python3"
  },
  "language_info": {
   "codemirror_mode": {
    "name": "ipython",
    "version": 3
   },
   "file_extension": ".py",
   "mimetype": "text/x-python",
   "name": "python",
   "nbconvert_exporter": "python",
   "pygments_lexer": "ipython3",
   "version": "3.10.9"
  }
 },
 "nbformat": 4,
 "nbformat_minor": 2
}
