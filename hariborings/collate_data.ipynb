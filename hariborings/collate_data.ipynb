{
 "cells": [
  {
   "cell_type": "code",
   "execution_count": null,
   "metadata": {},
   "outputs": [],
   "source": [
    "from pathlib import Path\n",
    "\n",
    "import matplotlib.pyplot as plt\n",
    "import numpy as np"
   ]
  },
  {
   "cell_type": "code",
   "execution_count": null,
   "metadata": {},
   "outputs": [],
   "source": [
    "DATA_DIR = Path(\"/Users/sylvi/topo_data/hariborings/data/\")\n",
    "TRAINING_DATA_DIR = Path(\"/Users/sylvi/topo_data/hariborings/training_data/\")"
   ]
  },
  {
   "cell_type": "code",
   "execution_count": null,
   "metadata": {},
   "outputs": [],
   "source": [
    "for sample_type in [\"on_target\", \"off_target\"]:\n",
    "    for sample in (DATA_DIR / sample_type).glob(\"*.npy\"):\n",
    "        data = np.load(sample)\n",
    "        plt.imshow(data)\n",
    "        plt.title(f\"{sample_type} {sample.stem}\")\n",
    "        plt.show()\n",
    "        plt.imsave(f\"{TRAINING_DATA_DIR / sample_type / sample.stem}.png\", data)"
   ]
  }
 ],
 "metadata": {
  "kernelspec": {
   "display_name": "new",
   "language": "python",
   "name": "python3"
  },
  "language_info": {
   "codemirror_mode": {
    "name": "ipython",
    "version": 3
   },
   "file_extension": ".py",
   "mimetype": "text/x-python",
   "name": "python",
   "nbconvert_exporter": "python",
   "pygments_lexer": "ipython3",
   "version": "3.10.9"
  }
 },
 "nbformat": 4,
 "nbformat_minor": 2
}
