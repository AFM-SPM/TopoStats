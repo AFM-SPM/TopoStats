{
 "cells": [
  {
   "cell_type": "code",
   "execution_count": null,
   "metadata": {},
   "outputs": [],
   "source": [
    "from pathlib import Path\n",
    "import re\n",
    "\n",
    "import matplotlib.pyplot as plt\n",
    "import numpy as np\n",
    "\n",
    "from topostats.plottingfuncs import Colormap\n",
    "\n",
    "colormap = Colormap().get_cmap()"
   ]
  },
  {
   "cell_type": "code",
   "execution_count": null,
   "metadata": {},
   "outputs": [],
   "source": [
    "DATA_DIR = Path(\"/Users/sylvi/topo_data/hariborings/data/\")\n",
    "OFF_TARGET_DATA_DIR = Path(\"/Users/sylvi/topo_data/hariborings/off_target/\")\n",
    "TRAINING_DATA_DIR = Path(\"/Users/sylvi/topo_data/hariborings/training_data/\")\n",
    "FLATTENED_IMAGES_DIR = Path(\"/Users/sylvi/topo_data/hariborings/flattened_images/\")"
   ]
  },
  {
   "cell_type": "code",
   "execution_count": null,
   "metadata": {},
   "outputs": [],
   "source": [
    "for sample_type in [\"on_target\", \"off_target\"]:\n",
    "    for sample in (DATA_DIR / sample_type).glob(\"*.npy\"):\n",
    "        data = np.load(sample)\n",
    "        plt.imshow(data, vmin=-8, vmax=8, cmap=colormap)\n",
    "        plt.title(f\"{sample_type} {sample.stem}\")\n",
    "        plt.show()\n",
    "        plt.imsave(f\"{FLATTENED_IMAGES_DIR / sample_type / sample.stem}.png\", data, vmin=-8, vmax=8, cmap=colormap)"
   ]
  },
  {
   "cell_type": "code",
   "execution_count": null,
   "metadata": {},
   "outputs": [],
   "source": [
    "# Print all data files\n",
    "DATA_ON_TARGET = Path(\"/Users/sylvi/topo_data/hariborings/data/off_target\")\n",
    "TRAINING_DATA_CROPPED_DIR = TRAINING_DATA_DIR / \"cropped\" / \"images\"\n",
    "files_on_target = list(DATA_ON_TARGET.glob(\"*.npy\"))\n",
    "for file in files_on_target:\n",
    "    print(file.stem)\n",
    "\n",
    "file = files_on_target[14]\n",
    "image = np.load(file)\n",
    "\n",
    "plt.imshow(image, cmap=colormap, vmin=-8, vmax=8)\n",
    "plt.show()"
   ]
  },
  {
   "cell_type": "code",
   "execution_count": null,
   "metadata": {},
   "outputs": [],
   "source": [
    "# Crop the image to get molecules of interest\n",
    "width = 60\n",
    "x = 245\n",
    "y = 450\n",
    "cropped_molecule = image[y : y + width, x : x + width]\n",
    "plt.imshow(cropped_molecule, vmin=-8, vmax=8, cmap=colormap)\n",
    "plt.show()"
   ]
  },
  {
   "cell_type": "code",
   "execution_count": null,
   "metadata": {},
   "outputs": [],
   "source": [
    "# Save the molecule\n",
    "# Set i to be the number of molecules saved so far\n",
    "i = len(list(TRAINING_DATA_CROPPED_DIR.glob(\"*.npy\")))\n",
    "np.save(TRAINING_DATA_CROPPED_DIR / f\"image_{i}.npy\", cropped_molecule)\n",
    "plt.imsave(TRAINING_DATA_CROPPED_DIR / f\"image_{i}.png\", cropped_molecule, vmin=image.min(), vmax=image.max())"
   ]
  },
  {
   "cell_type": "code",
   "execution_count": null,
   "metadata": {},
   "outputs": [],
   "source": [
    "# Rename masks\n",
    "\n",
    "path = Path(\"/Users/sylvi/topo_data/hariborings/training_data/cropped/masks/\")\n",
    "i = 0\n",
    "\n",
    "files = list(path.glob(\"*.npy\"))\n",
    "files.sort()\n",
    "for file in files:\n",
    "    print(file.name)\n",
    "    new_filename = path / f\"mask_{i}.npy\"\n",
    "    file.rename(new_filename)\n",
    "    i += 1"
   ]
  }
 ],
 "metadata": {
  "kernelspec": {
   "display_name": "new",
   "language": "python",
   "name": "python3"
  },
  "language_info": {
   "codemirror_mode": {
    "name": "ipython",
    "version": 3
   },
   "file_extension": ".py",
   "mimetype": "text/x-python",
   "name": "python",
   "nbconvert_exporter": "python",
   "pygments_lexer": "ipython3",
   "version": "3.10.9"
  }
 },
 "nbformat": 4,
 "nbformat_minor": 2
}
