{
 "cells": [
  {
   "cell_type": "code",
   "execution_count": null,
   "metadata": {},
   "outputs": [],
   "source": [
    "from pathlib import Path\n",
    "\n",
    "import numpy as np\n",
    "import matplotlib.pyplot as plt"
   ]
  },
  {
   "cell_type": "code",
   "execution_count": null,
   "metadata": {},
   "outputs": [],
   "source": [
    "DATA_DIR = Path(\"/Users/sylvi/topo_data/hariborings/training_data/cropped/\")\n",
    "\n",
    "IMAGE_DIR = DATA_DIR / \"images\"\n",
    "MASKS_DIR = DATA_DIR / \"ring_masks\"\n",
    "MULTICLASS_MASKS_DIR = DATA_DIR / \"multiclass_masks\"\n",
    "CHOPPED_MASKS_DIR = DATA_DIR / \"chopped_ring_masks\"\n",
    "CHOPPED_MASKS_DIR.mkdir(exist_ok=True)\n",
    "CHOPPED_RING_IMAGES_DIR = DATA_DIR / \"chopped_ring_images\"\n",
    "CHOPPED_RING_IMAGES_DIR.mkdir(exist_ok=True)\n",
    "\n",
    "# Print the number of images and masks\n",
    "images = sorted(list(IMAGE_DIR.glob(\"image_*.npy\")))\n",
    "masks = sorted(list(MASKS_DIR.glob(\"mask_*.npy\")))\n",
    "multiclass_masks = sorted(list(MULTICLASS_MASKS_DIR.glob(\"mask_*.npy\")))\n",
    "print(f\"Found {len(images)} images\")\n",
    "print(f\"Found {len(masks)} masks\")\n",
    "print(f\"Found {len(multiclass_masks)} multiclass masks\")"
   ]
  },
  {
   "cell_type": "code",
   "execution_count": null,
   "metadata": {},
   "outputs": [],
   "source": [
    "# For each mask, get the corresponding multiclass mask and remove the pixels that are part of the gem\n",
    "for mask_file, multiclass_mask_file, image_file in zip(masks, multiclass_masks, images):\n",
    "    print(f\"Processing {image_file.name}\")\n",
    "    mask = np.load(mask_file)\n",
    "    multiclass_mask = np.load(multiclass_mask_file)\n",
    "    image = np.load(image_file)\n",
    "\n",
    "    image_ring_only = image.copy()\n",
    "    image_ring_only[multiclass_mask == 0] = 0\n",
    "    image_ring_only[multiclass_mask == 2] = 0\n",
    "\n",
    "    fig, ax = plt.subplots(1, 4)\n",
    "    ax[0].imshow(image)\n",
    "    ax[0].set_title(\"Image\")\n",
    "    ax[1].imshow(mask)\n",
    "    ax[1].set_title(\"Mask\")\n",
    "    ax[2].imshow(multiclass_mask)\n",
    "    ax[2].set_title(\"Multiclass mask\")\n",
    "    ax[3].imshow(image_ring_only)\n",
    "    ax[3].set_title(\"Image ring only\")\n",
    "    plt.show()\n",
    "\n",
    "    # Save the image with the ring only\n",
    "    np.save(CHOPPED_RING_IMAGES_DIR / image_file.name, image_ring_only)\n",
    "    # save as png too\n",
    "    plt.imsave(CHOPPED_RING_IMAGES_DIR / f\"{image_file.stem}.png\", image_ring_only, cmap=\"viridis\")"
   ]
  }
 ],
 "metadata": {
  "kernelspec": {
   "display_name": "new",
   "language": "python",
   "name": "python3"
  },
  "language_info": {
   "codemirror_mode": {
    "name": "ipython",
    "version": 3
   },
   "file_extension": ".py",
   "mimetype": "text/x-python",
   "name": "python",
   "nbconvert_exporter": "python",
   "pygments_lexer": "ipython3",
   "version": "3.10.9"
  }
 },
 "nbformat": 4,
 "nbformat_minor": 2
}
