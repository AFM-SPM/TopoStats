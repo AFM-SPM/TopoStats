{
 "cells": [
  {
   "cell_type": "code",
   "execution_count": null,
   "metadata": {},
   "outputs": [],
   "source": [
    "from pathlib import Path\n",
    "\n",
    "import numpy as np\n",
    "import pandas as pd\n",
    "import matplotlib.pyplot as plt\n",
    "import seaborn as sns\n",
    "\n",
    "from scipy import stats"
   ]
  },
  {
   "cell_type": "code",
   "execution_count": null,
   "metadata": {},
   "outputs": [],
   "source": [
    "# Load the data\n",
    "DATA_DIR = Path(\"/Volumes/shared/pyne_group/Shared/Papers/cas9_minicircles/figure_1/\")\n",
    "assert DATA_DIR.exists()\n",
    "filename = \"feret_data_2024-05-21_all_without_anomalies.csv\"\n",
    "\n",
    "df = pd.read_csv(DATA_DIR / filename)\n",
    "print(df.head())\n",
    "\n",
    "# print all unique sample types\n",
    "print(df[\"sample_type\"].unique())"
   ]
  },
  {
   "cell_type": "code",
   "execution_count": null,
   "metadata": {},
   "outputs": [],
   "source": [
    "# Try a demo t test\n",
    "dist_a = [\n",
    "    1,\n",
    "    1,\n",
    "    2,\n",
    "    3,\n",
    "    3,\n",
    "    3,\n",
    "    3,\n",
    "    4,\n",
    "    5,\n",
    "    5,\n",
    "    6,\n",
    "    8,\n",
    "]\n",
    "dist_b = [1, 1, 2, 2, 3, 3, 4, 4, 4, 5, 5, 5, 5, 5, 5, 6, 6, 7, 9]\n",
    "t_stat, p_val = stats.ttest_ind(dist_a, dist_b)\n",
    "print(f\"t_stat: {t_stat}, p_val: {p_val}\")\n",
    "# kde\n",
    "sns.kdeplot(dist_a, color=\"blue\", label=f\"dist_a n={len(dist_a)}\")\n",
    "sns.kdeplot(dist_b, color=\"red\", label=f\"dist_b n={len(dist_b)}\")\n",
    "plt.legend()"
   ]
  },
  {
   "cell_type": "code",
   "execution_count": null,
   "metadata": {},
   "outputs": [],
   "source": [
    "pairs = [(\"unbound_ON_SC\", \"cas9_ON_SC\"), (\"unbound_OT1_SC\", \"cas9_OT1_SC\"), (\"unbound_OT2_SC\", \"cas9_OT2_SC\")]\n",
    "\n",
    "for unbound_sample_type, cas9_sample_type in pairs:\n",
    "    print(f\"Comparing {unbound_sample_type} and {cas9_sample_type}\")\n",
    "\n",
    "    unbound_df = df[df[\"sample_type\"] == unbound_sample_type]\n",
    "    print(unbound_df.head())\n",
    "    unbound_series = unbound_df[\"min_feret\"]\n",
    "    print(unbound_series.head())\n",
    "\n",
    "    cas9_df = df[df[\"sample_type\"] == cas9_sample_type]\n",
    "    print(cas9_df.head())\n",
    "    cas9_series = cas9_df[\"min_feret\"]\n",
    "    print(cas9_series.head())\n",
    "\n",
    "    print(f\"Ns: {unbound_sample_type}: {len(unbound_series)}, {cas9_sample_type}: {len(cas9_series)}\")\n",
    "\n",
    "    # Perform the t-test\n",
    "    t_stat, p_val = stats.ttest_ind(unbound_series, cas9_series)\n",
    "\n",
    "    print(f\"t-statistic: {t_stat}\")\n",
    "    print(f\"p-value: {p_val}\")\n",
    "    if p_val < 0.05:\n",
    "        print(\n",
    "            f\"YES - The difference between {unbound_sample_type} and {cas9_sample_type} samples IS statistically significant.\"\n",
    "        )\n",
    "    else:\n",
    "        print(\n",
    "            f\"NO - The difference between {unbound_sample_type} and {cas9_sample_type} samples IS NOY statistically significant.\"\n",
    "        )\n",
    "\n",
    "        # Plot kdes\n",
    "    sns.kdeplot(unbound_series, label=f\"{unbound_sample_type} (N={len(unbound_series)})\")\n",
    "    sns.kdeplot(cas9_series, label=f\"{cas9_sample_type} (N={len(cas9_series)})\")\n",
    "    plt.legend()\n",
    "    plt.title(f\"{unbound_sample_type} vs {cas9_sample_type} min feret, p={p_val:.2e}\")\n",
    "    plt.show()"
   ]
  }
 ],
 "metadata": {
  "kernelspec": {
   "display_name": "new",
   "language": "python",
   "name": "python3"
  },
  "language_info": {
   "codemirror_mode": {
    "name": "ipython",
    "version": 3
   },
   "file_extension": ".py",
   "mimetype": "text/x-python",
   "name": "python",
   "nbconvert_exporter": "python",
   "pygments_lexer": "ipython3",
   "version": "3.10.9"
  }
 },
 "nbformat": 4,
 "nbformat_minor": 2
}
