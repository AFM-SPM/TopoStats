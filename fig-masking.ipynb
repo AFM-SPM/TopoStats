{
 "cells": [
  {
   "cell_type": "code",
   "execution_count": null,
   "id": "cabf1720",
   "metadata": {},
   "outputs": [],
   "source": [
    "from pathlib import Path\n",
    "import matplotlib.pyplot as plt\n",
    "import numpy as np\n",
    "import seaborn as sns\n",
    "\n",
    "from topostats.io import LoadScans\n",
    "from topostats.plotting import Colormap\n",
    "\n",
    "colormap = Colormap()\n",
    "cmap = colormap.get_cmap()\n",
    "blu = colormap.blue()\n",
    "vmin = -3\n",
    "vmax = 4"
   ]
  },
  {
   "cell_type": "code",
   "execution_count": null,
   "id": "a27381e7",
   "metadata": {},
   "outputs": [],
   "source": [
    "base_dir = Path(\"/Users/sylvi/topo_data/topostats_2/datasets/fig-grain-finding-masking/\")\n",
    "assert base_dir.exists()\n",
    "dir_no_vet = base_dir / \"output_no_vet\" / \"processed\"\n",
    "dir_edge_vet = base_dir / \"output_edge_vet\" / \"processed\"\n",
    "dir_size_vet = base_dir / \"output_size_vet\" / \"processed\"\n",
    "output_filename = Path(\"20250624_12ngpicozgreen_Dot2_nicked_.0_00013.topostats\")\n",
    "no_vet_output_topofile = dir_no_vet / output_filename\n",
    "edge_vet_output_topofile = dir_edge_vet / output_filename\n",
    "size_vet_output_topofile = dir_size_vet / output_filename\n",
    "assert no_vet_output_topofile.exists()\n",
    "assert edge_vet_output_topofile.exists()\n",
    "assert size_vet_output_topofile.exists()\n",
    "\n",
    "figure_dir = Path(\"/Users/sylvi/topo_data/topostats_2/figures/fig-grain-finding\")\n",
    "assert figure_dir.exists()\n",
    "\n",
    "loadscans_no_vet = LoadScans(img_paths=[no_vet_output_topofile], channel=\"dummy\")\n",
    "loadscans_edge_vet = LoadScans(img_paths=[edge_vet_output_topofile], channel=\"dummy\")\n",
    "loadscans_size_vet = LoadScans(img_paths=[size_vet_output_topofile], channel=\"dummy\")\n",
    "loadscans_no_vet.get_data()\n",
    "loadscans_edge_vet.get_data()\n",
    "loadscans_size_vet.get_data()\n",
    "\n",
    "\n",
    "no_vet_image_data = loadscans_no_vet.img_dict[no_vet_output_topofile.stem]\n",
    "edge_vet_image_data = loadscans_edge_vet.img_dict[edge_vet_output_topofile.stem]\n",
    "size_vet_image_data = loadscans_size_vet.img_dict[size_vet_output_topofile.stem]\n",
    "no_vet_p2nm = no_vet_image_data[\"pixel_to_nm_scaling\"]\n",
    "edge_vet_p2nm = edge_vet_image_data[\"pixel_to_nm_scaling\"]\n",
    "size_vet_p2nm = size_vet_image_data[\"pixel_to_nm_scaling\"]"
   ]
  },
  {
   "cell_type": "code",
   "execution_count": null,
   "id": "29a408ba",
   "metadata": {},
   "outputs": [],
   "source": [
    "image = no_vet_image_data[\"image\"]\n",
    "no_vet_mask_tensor = no_vet_image_data[\"grain_tensors\"][\"above\"][:, :, 1]\n",
    "edge_vet_mask_tensor = edge_vet_image_data[\"grain_tensors\"][\"above\"][:, :, 1]\n",
    "size_vet_mask_tensor = size_vet_image_data[\"grain_tensors\"][\"above\"][:, :, 1]\n",
    "\n",
    "fig, ax = plt.subplots(figsize=(10, 10))\n",
    "ax.imshow(np.zeros(image.shape), cmap=\"binary_r\")\n",
    "# ax.imshow(np.ma.masked_where(no_vet_mask_tensor == 0, image), cmap=cmap, vmin=vmin, vmax=vmax)\n",
    "ax.imshow(np.ma.masked_where(no_vet_mask_tensor == 0, no_vet_mask_tensor), cmap=\"binary\", alpha=0.8)\n",
    "plt.savefig(figure_dir / \"fig-grain-masking-no-vet.png\")\n",
    "plt.show()\n",
    "\n",
    "fig, ax = plt.subplots(figsize=(10, 10))\n",
    "ax.imshow(np.zeros(image.shape), cmap=\"binary_r\")\n",
    "edge_vet_no_vet_diff = no_vet_mask_tensor ^ edge_vet_mask_tensor\n",
    "ax.imshow(np.ma.masked_where(edge_vet_no_vet_diff==0, edge_vet_no_vet_diff), cmap=\"cool\", alpha=0.5)\n",
    "# ax.imshow(np.ma.masked_where(edge_vet_mask_tensor == 0, image), cmap=cmap, vmin=vmin, vmax=vmax)\n",
    "ax.imshow(np.ma.masked_where(edge_vet_mask_tensor == 0, edge_vet_mask_tensor), cmap=\"binary\", alpha=1)\n",
    "plt.savefig(figure_dir / \"fig-grain-masking-edge-vet.png\")\n",
    "plt.show()\n",
    "\n",
    "fig, ax = plt.subplots(figsize=(10, 10))\n",
    "ax.imshow(np.zeros(image.shape), cmap=\"binary_r\")\n",
    "size_vet_edge_vet_diff = edge_vet_mask_tensor ^ size_vet_mask_tensor\n",
    "ax.imshow(np.ma.masked_where(edge_vet_no_vet_diff==0, edge_vet_no_vet_diff), cmap=\"cool\", alpha=0.5)\n",
    "ax.imshow(np.ma.masked_where(size_vet_edge_vet_diff==0, size_vet_edge_vet_diff), cmap=\"cool_r\", alpha=0.7)\n",
    "# ax.imshow(np.ma.masked_where(size_vet_mask_tensor == 0, image), cmap=cmap, vmin=vmin, vmax=vmax)\n",
    "ax.imshow(np.ma.masked_where(size_vet_mask_tensor == 0, size_vet_mask_tensor), cmap=\"binary\", alpha=1)\n",
    "plt.savefig(figure_dir / \"fig-grain-masking-size-vet.png\")\n",
    "plt.show()"
   ]
  }
 ],
 "metadata": {
  "kernelspec": {
   "display_name": "topo2paper",
   "language": "python",
   "name": "python3"
  },
  "language_info": {
   "codemirror_mode": {
    "name": "ipython",
    "version": 3
   },
   "file_extension": ".py",
   "mimetype": "text/x-python",
   "name": "python",
   "nbconvert_exporter": "python",
   "pygments_lexer": "ipython3",
   "version": "3.11.9"
  }
 },
 "nbformat": 4,
 "nbformat_minor": 5
}
