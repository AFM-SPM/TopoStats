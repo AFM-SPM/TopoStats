{
 "cells": [
  {
   "cell_type": "code",
   "execution_count": null,
   "id": "cabf1720",
   "metadata": {},
   "outputs": [],
   "source": [
    "from pathlib import Path\n",
    "import matplotlib.pyplot as plt\n",
    "import numpy as np\n",
    "import seaborn as sns\n",
    "\n",
    "from topostats.io import LoadScans\n",
    "from topostats.plotting import Colormap\n",
    "\n",
    "colormap = Colormap()\n",
    "cmap = colormap.get_cmap()\n",
    "blu = colormap.blue()\n",
    "vmin = -3\n",
    "vmax = 4"
   ]
  },
  {
   "cell_type": "code",
   "execution_count": null,
   "id": "a27381e7",
   "metadata": {},
   "outputs": [],
   "source": [
    "base_dir = Path(\"/Users/sylvi/topo_data/topostats_2/datasets/picoz-nicked-sc/fig1/\")\n",
    "assert base_dir.exists()\n",
    "output_filename = \"20250624_12ngpicozgreen_Dot2_nicked_.0_00013.topostats\"\n",
    "output_topofile = base_dir / \"output\" / \"processed\" / output_filename\n",
    "assert output_topofile.exists()\n",
    "figure_dir = Path(\"/Users/sylvi/topo_data/topostats_2/figures/fig-grain-finding\")\n",
    "assert figure_dir.exists()\n",
    "\n",
    "loadscans = LoadScans(img_paths=[output_topofile], channel=\"dummy\")\n",
    "loadscans.get_data()\n",
    "loadscans_img_dict = loadscans.img_dict\n",
    "\n",
    "image_data = loadscans_img_dict[Path(output_filename).stem]\n",
    "print(image_data.keys())"
   ]
  },
  {
   "cell_type": "code",
   "execution_count": null,
   "id": "a9ec5f74",
   "metadata": {},
   "outputs": [],
   "source": [
    "mask_tensor = image_data[\"grain_tensors\"][\"above\"]\n",
    "grain_mask = mask_tensor[:, :, 1]\n",
    "image = image_data[\"image\"]\n",
    "\n",
    "image_grain_masked_ma = np.ma.masked_array(image, mask=~grain_mask)\n",
    "\n",
    "# plt.imshow(image, cmap=cmap, vmin=vmin, vmax=vmax)\n",
    "# black background\n",
    "fig, ax = plt.subplots(figsize=(10, 10))\n",
    "ax.imshow(np.zeros(image.shape), cmap=\"binary_r\")\n",
    "ax.imshow(image_grain_masked_ma, cmap=cmap, vmin=vmin, vmax=vmax)\n",
    "plt.savefig(figure_dir / \"picoz-image-masked-array-grains.png\")"
   ]
  }
 ],
 "metadata": {
  "kernelspec": {
   "display_name": "topo2paper",
   "language": "python",
   "name": "python3"
  },
  "language_info": {
   "codemirror_mode": {
    "name": "ipython",
    "version": 3
   },
   "file_extension": ".py",
   "mimetype": "text/x-python",
   "name": "python",
   "nbconvert_exporter": "python",
   "pygments_lexer": "ipython3",
   "version": "3.11.9"
  }
 },
 "nbformat": 4,
 "nbformat_minor": 5
}
