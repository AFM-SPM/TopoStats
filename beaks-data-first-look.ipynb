{
 "cells": [
  {
   "cell_type": "code",
   "execution_count": null,
   "metadata": {},
   "outputs": [],
   "source": [
    "import os\n",
    "import pickle\n",
    "import shutil\n",
    "import sys\n",
    "from datetime import datetime\n",
    "from pathlib import Path\n",
    "\n",
    "import matplotlib.pyplot as plt\n",
    "import numpy as np\n",
    "\n",
    "today = datetime.today().strftime(\"D-%Y-%m-%d-T-%H-%M\")\n",
    "print(today)"
   ]
  },
  {
   "cell_type": "code",
   "execution_count": null,
   "metadata": {},
   "outputs": [],
   "source": [
    "base_dir = Path(\"/Users/sylvi/topo_data/beaks\")\n",
    "beak_data_dir = base_dir / \"beak-data\"\n",
    "beak_data_topostats_files = base_dir / \"images-beaks-topostats\"\n",
    "beak_data_topostats_files.mkdir(exist_ok=True)\n",
    "data_original_dir = base_dir / \"data\"\n",
    "assert beak_data_dir.exists()\n",
    "\n",
    "# load the data\n",
    "with open(beak_data_dir / \"beak-data-D-2025-02-21-T-12-15.pkl\", \"rb\") as f:\n",
    "    beak_data = pickle.load(f)\n",
    "\n",
    "for category, values in beak_data.items():\n",
    "    print(category, len(values))\n",
    "\n",
    "    for image_index, image_data in values.items():\n",
    "        filename = image_data[\"filename\"]\n",
    "\n",
    "        # search data_original_dir for the image\n",
    "        matches = data_original_dir.glob(pattern=f\"{filename}.topostats\")\n",
    "        matches = list(matches)\n",
    "        if len(matches) == 0:\n",
    "            raise ValueError(f\"Could not find match for {filename}\")\n",
    "        elif len(matches) > 1:\n",
    "            raise ValueError(f\"Found multiple matches for {filename}\")\n",
    "        else:\n",
    "            match = matches[0]\n",
    "            print(match)\n",
    "\n",
    "        category_dir = beak_data_topostats_files / category\n",
    "        category_dir.mkdir(exist_ok=True)\n",
    "\n",
    "        # copy the file to beak_data_topostats_files\n",
    "        shutil.copy(match, category_dir / match.name)"
   ]
  },
  {
   "cell_type": "code",
   "execution_count": null,
   "metadata": {},
   "outputs": [],
   "source": [
    "test_data = beak_data[\"magpie\"][6]\n",
    "print(test_data.keys())\n",
    "\n",
    "test_data_image = test_data[\"image\"]\n",
    "plt.imshow(test_data_image)\n",
    "\n",
    "ordered_traces = test_data[\"ordered_traces\"][\"above\"]\n",
    "print(ordered_traces.keys())\n",
    "ordered_trace = ordered_traces[\"grain_0\"][\"mol_0\"]\n",
    "print(ordered_trace.keys())\n",
    "ordered_coords = ordered_trace[\"ordered_coords\"]\n",
    "bbox = ordered_trace[\"bbox\"]\n",
    "heights = ordered_trace[\"heights\"]\n",
    "\n",
    "blob_threshold = 3.0\n",
    "blob_indexes = np.where(heights > blob_threshold)\n",
    "\n",
    "\n",
    "plt.plot(ordered_coords[:, 1] + bbox[1], ordered_coords[:, 0] + bbox[0], \"r-\")\n",
    "# mark where the heights are above the threshold\n",
    "plt.plot(ordered_coords[blob_indexes, 1] + bbox[1], ordered_coords[blob_indexes, 0] + bbox[0], \"k.\")\n",
    "plt.show()\n",
    "\n",
    "plt.plot(heights)\n",
    "plt.show()"
   ]
  }
 ],
 "metadata": {
  "kernelspec": {
   "display_name": "topo-unet",
   "language": "python",
   "name": "python3"
  },
  "language_info": {
   "codemirror_mode": {
    "name": "ipython",
    "version": 3
   },
   "file_extension": ".py",
   "mimetype": "text/x-python",
   "name": "python",
   "nbconvert_exporter": "python",
   "pygments_lexer": "ipython3",
   "version": "3.11.9"
  }
 },
 "nbformat": 4,
 "nbformat_minor": 2
}
