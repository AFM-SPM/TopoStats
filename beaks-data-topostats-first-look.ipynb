{
 "cells": [
  {
   "cell_type": "code",
   "execution_count": null,
   "metadata": {},
   "outputs": [],
   "source": [
    "import os\n",
    "import pickle\n",
    "import shutil\n",
    "import sys\n",
    "from datetime import datetime\n",
    "from pathlib import Path\n",
    "\n",
    "import matplotlib.pyplot as plt\n",
    "import numpy as np\n",
    "\n",
    "from topostats.io import LoadScans\n",
    "\n",
    "today = datetime.today().strftime(\"D-%Y-%m-%d-T-%H-%M\")\n",
    "print(today)"
   ]
  },
  {
   "cell_type": "code",
   "execution_count": null,
   "metadata": {},
   "outputs": [],
   "source": [
    "base_dir = Path(\"/Users/sylvi/topo_data/beaks\")\n",
    "assert base_dir.exists()\n",
    "beak_topo_data_dir = base_dir / \"output-beaks-topostats-unet-good\"\n",
    "assert beak_topo_data_dir.exists()\n",
    "\n",
    "hummingbird_dir = beak_topo_data_dir / \"hummingbird/processed/\"\n",
    "assert hummingbird_dir.exists()\n",
    "magpie_dir = beak_topo_data_dir / \"magpie/processed/\"\n",
    "assert magpie_dir.exists()\n",
    "\n",
    "# grab files in both directories ending in .topostats\n",
    "hummingbird_files = hummingbird_dir.glob(\"*.topostats\")\n",
    "magpie_files = magpie_dir.glob(\"*.topostats\")\n",
    "# merge lists\n",
    "all_files = list(hummingbird_files) + list(magpie_files)\n",
    "print(f\"Found {len(all_files)} files\")"
   ]
  },
  {
   "cell_type": "code",
   "execution_count": null,
   "metadata": {},
   "outputs": [],
   "source": [
    "file = all_files[0]\n",
    "\n",
    "# load the file\n",
    "loadscans = LoadScans([file], channel=\"dummy\")\n",
    "loadscans.get_data()\n",
    "img_dict = loadscans.img_dict\n",
    "data = img_dict[file.stem]\n",
    "\n",
    "print(data.keys())\n",
    "\n",
    "image = data[\"image\"]\n",
    "ordered_traces = data[\"ordered_traces\"]\n",
    "plt.imshow(image)\n",
    "\n",
    "plt.show()"
   ]
  }
 ],
 "metadata": {
  "kernelspec": {
   "display_name": "topo-unet",
   "language": "python",
   "name": "python3"
  },
  "language_info": {
   "codemirror_mode": {
    "name": "ipython",
    "version": 3
   },
   "file_extension": ".py",
   "mimetype": "text/x-python",
   "name": "python",
   "nbconvert_exporter": "python",
   "pygments_lexer": "ipython3",
   "version": "3.11.9"
  }
 },
 "nbformat": 4,
 "nbformat_minor": 2
}
