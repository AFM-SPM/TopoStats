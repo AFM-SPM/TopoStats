{
 "cells": [
  {
   "cell_type": "code",
   "execution_count": null,
   "metadata": {},
   "outputs": [],
   "source": [
    "import numpy as np\n",
    "import matplotlib.pyplot as plt\n",
    "from scipy.spatial.distance import cdist"
   ]
  },
  {
   "cell_type": "code",
   "execution_count": null,
   "metadata": {},
   "outputs": [],
   "source": [
    "# point arrays\n",
    "array1 = np.array([[1, 2], [2, 3], [3, 3]])\n",
    "array2 = np.array([[4, 4], [4, 5], [5, 5], [6, 6]])\n",
    "\n",
    "img = np.zeros((10, 10))\n",
    "# set all array1 points to 1\n",
    "for point in array1:\n",
    "    print(point)\n",
    "    img[point[0], point[1]] = 1\n",
    "\n",
    "print(\"----\")\n",
    "\n",
    "# set all array2 points to 2\n",
    "for point in array2:\n",
    "    print(point)\n",
    "    img[point[0], point[1]] = 2\n",
    "\n",
    "plt.imshow(img)\n",
    "plt.show()"
   ]
  },
  {
   "cell_type": "code",
   "execution_count": null,
   "metadata": {},
   "outputs": [],
   "source": [
    "# Numpy approach\n",
    "\n",
    "# How to create this matrix from array1 and array2?\n",
    "# [1 4] [1 4] [1 5] [1 6]\n",
    "# [2 4] [2 4] [2 5] [2 6]\n",
    "# [3 4] [3 4] [3 5] [3 6]\n",
    "\n",
    "grid1, grid2 = np.meshgrid(array1, array2)\n",
    "print(grid1)\n",
    "print(grid2)"
   ]
  },
  {
   "cell_type": "code",
   "execution_count": null,
   "metadata": {},
   "outputs": [],
   "source": [
    "# test if any points are touching between the two arrays, using vectorisation\n",
    "\n",
    "diffs = np.subtract.outer(array1, array2)\n",
    "print(diffs)\n",
    "print(\"---\")\n",
    "# linalg the diffs\n",
    "dists = np.linalg.norm(diffs, axis=1)\n",
    "print(dists)\n",
    "\n",
    "print(\"---\")\n",
    "\n",
    "\n",
    "cdists = cdist(array1, array2, \"euclidean\")\n",
    "print(cdists)"
   ]
  }
 ],
 "metadata": {
  "kernelspec": {
   "display_name": "new",
   "language": "python",
   "name": "python3"
  },
  "language_info": {
   "codemirror_mode": {
    "name": "ipython",
    "version": 3
   },
   "file_extension": ".py",
   "mimetype": "text/x-python",
   "name": "python",
   "nbconvert_exporter": "python",
   "pygments_lexer": "ipython3",
   "version": "3.10.9"
  }
 },
 "nbformat": 4,
 "nbformat_minor": 2
}
